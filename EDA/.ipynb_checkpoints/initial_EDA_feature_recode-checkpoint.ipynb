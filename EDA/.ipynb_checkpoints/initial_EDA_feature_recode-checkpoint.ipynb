{
 "cells": [
  {
   "cell_type": "code",
   "execution_count": 1,
   "metadata": {
    "id": "TThaEbYQkq82"
   },
   "outputs": [],
   "source": [
    "import pandas as pd"
   ]
  },
  {
   "cell_type": "code",
   "execution_count": 2,
   "metadata": {
    "id": "b5tdDjANkq85"
   },
   "outputs": [],
   "source": [
    "user_log = pd.read_csv('../data_format1/use_data/user_log_format1[161-320].csv', iterator=True, chunksize=10000)"
   ]
  },
  {
   "cell_type": "code",
   "execution_count": 3,
   "metadata": {
    "id": "_135BumYkq86"
   },
   "outputs": [],
   "source": [
    "user_log = pd.concat(user_log, ignore_index=True)"
   ]
  },
  {
   "cell_type": "code",
   "execution_count": 4,
   "metadata": {
    "colab": {
     "base_uri": "https://localhost:8080/"
    },
    "id": "bFPK5rQhkq87",
    "outputId": "118ee54c-b534-42fa-a3f8-93fb9b5ca663",
    "scrolled": true
   },
   "outputs": [
    {
     "name": "stdout",
     "output_type": "stream",
     "text": [
      "   user_id  item_id  cat_id  seller_id  brand_id  time_stamp  action_type\n",
      "0   149002      282     885       3791    1500.0        1111            0\n",
      "1   149002      282     885       3791    1500.0        1107            0\n",
      "2   109881      230     629          1    1662.0         820            0\n",
      "3   109881      230     629          1    1662.0         820            0\n",
      "4   109881      230     629          1    1662.0         820            0\n"
     ]
    }
   ],
   "source": [
    "print(user_log.head())"
   ]
  },
  {
   "cell_type": "code",
   "execution_count": 5,
   "metadata": {
    "colab": {
     "base_uri": "https://localhost:8080/"
    },
    "id": "Bt1gcB0Nkq88",
    "outputId": "146e2d36-18f7-41cd-bc13-60723570e18d"
   },
   "outputs": [
    {
     "data": {
      "text/plain": [
       "user_id        False\n",
       "item_id        False\n",
       "cat_id         False\n",
       "seller_id      False\n",
       "brand_id        True\n",
       "time_stamp     False\n",
       "action_type    False\n",
       "dtype: bool"
      ]
     },
     "execution_count": 5,
     "metadata": {},
     "output_type": "execute_result"
    }
   ],
   "source": [
    "user_log.isnull().any()"
   ]
  },
  {
   "cell_type": "code",
   "execution_count": 6,
   "metadata": {
    "colab": {
     "base_uri": "https://localhost:8080/",
     "height": 143
    },
    "id": "HLefNBurkq89",
    "outputId": "28baef69-63dd-4bce-bc60-a23a6386daa8"
   },
   "outputs": [
    {
     "data": {
      "text/html": [
       "<div>\n",
       "<style scoped>\n",
       "    .dataframe tbody tr th:only-of-type {\n",
       "        vertical-align: middle;\n",
       "    }\n",
       "\n",
       "    .dataframe tbody tr th {\n",
       "        vertical-align: top;\n",
       "    }\n",
       "\n",
       "    .dataframe thead th {\n",
       "        text-align: right;\n",
       "    }\n",
       "</style>\n",
       "<table border=\"1\" class=\"dataframe\">\n",
       "  <thead>\n",
       "    <tr style=\"text-align: right;\">\n",
       "      <th></th>\n",
       "      <th>user_id</th>\n",
       "      <th>item_id</th>\n",
       "      <th>cat_id</th>\n",
       "      <th>seller_id</th>\n",
       "      <th>brand_id</th>\n",
       "      <th>time_stamp</th>\n",
       "      <th>action_type</th>\n",
       "    </tr>\n",
       "  </thead>\n",
       "  <tbody>\n",
       "    <tr>\n",
       "      <th>422</th>\n",
       "      <td>397892</td>\n",
       "      <td>279</td>\n",
       "      <td>898</td>\n",
       "      <td>3323</td>\n",
       "      <td>NaN</td>\n",
       "      <td>528</td>\n",
       "      <td>1</td>\n",
       "    </tr>\n",
       "    <tr>\n",
       "      <th>3989</th>\n",
       "      <td>362997</td>\n",
       "      <td>282</td>\n",
       "      <td>885</td>\n",
       "      <td>3791</td>\n",
       "      <td>NaN</td>\n",
       "      <td>605</td>\n",
       "      <td>2</td>\n",
       "    </tr>\n",
       "    <tr>\n",
       "      <th>4834</th>\n",
       "      <td>276923</td>\n",
       "      <td>176</td>\n",
       "      <td>1188</td>\n",
       "      <td>2085</td>\n",
       "      <td>NaN</td>\n",
       "      <td>1107</td>\n",
       "      <td>1</td>\n",
       "    </tr>\n",
       "  </tbody>\n",
       "</table>\n",
       "</div>"
      ],
      "text/plain": [
       "      user_id  item_id  cat_id  seller_id  brand_id  time_stamp  action_type\n",
       "422    397892      279     898       3323       NaN         528            1\n",
       "3989   362997      282     885       3791       NaN         605            2\n",
       "4834   276923      176    1188       2085       NaN        1107            1"
      ]
     },
     "execution_count": 6,
     "metadata": {},
     "output_type": "execute_result"
    }
   ],
   "source": [
    "user_log[user_log['brand_id'].isnull()]"
   ]
  },
  {
   "cell_type": "code",
   "execution_count": 7,
   "metadata": {
    "id": "Idy2QeSvkq8-"
   },
   "outputs": [],
   "source": [
    "import seaborn as sns"
   ]
  },
  {
   "cell_type": "code",
   "execution_count": 8,
   "metadata": {
    "colab": {
     "base_uri": "https://localhost:8080/",
     "height": 658
    },
    "id": "hwMowJGCkq8-",
    "outputId": "a8d4b332-94ce-432a-918d-6826f16c3a68"
   },
   "outputs": [
    {
     "name": "stderr",
     "output_type": "stream",
     "text": [
      "C:\\Users\\sonic\\anaconda3\\lib\\site-packages\\seaborn\\distributions.py:2619: FutureWarning: `distplot` is a deprecated function and will be removed in a future version. Please adapt your code to use either `displot` (a figure-level function with similar flexibility) or `histplot` (an axes-level function for histograms).\n",
      "  warnings.warn(msg, FutureWarning)\n"
     ]
    },
    {
     "data": {
      "text/plain": [
       "<AxesSubplot:xlabel='action_type', ylabel='Density'>"
      ]
     },
     "execution_count": 8,
     "metadata": {},
     "output_type": "execute_result"
    },
    {
     "data": {
      "image/png": "[encoded data removed]",
      "text/plain": [
       "<Figure size 640x480 with 1 Axes>"
      ]
     },
     "metadata": {},
     "output_type": "display_data"
    }
   ],
   "source": [
    "sns.distplot(user_log['action_type'], kde=True, hist=True)"
   ]
  },
  {
   "cell_type": "code",
   "execution_count": 9,
   "metadata": {
    "colab": {
     "base_uri": "https://localhost:8080/",
     "height": 658
    },
    "id": "QxRjvhO4kq8_",
    "outputId": "99f08d99-0294-4b9b-9906-3c43461b8a1a"
   },
   "outputs": [
    {
     "name": "stderr",
     "output_type": "stream",
     "text": [
      "C:\\Users\\sonic\\anaconda3\\lib\\site-packages\\seaborn\\distributions.py:2619: FutureWarning: `distplot` is a deprecated function and will be removed in a future version. Please adapt your code to use either `displot` (a figure-level function with similar flexibility) or `histplot` (an axes-level function for histograms).\n",
      "  warnings.warn(msg, FutureWarning)\n"
     ]
    },
    {
     "data": {
      "text/plain": [
       "<AxesSubplot:xlabel='cat_id', ylabel='Density'>"
      ]
     },
     "execution_count": 9,
     "metadata": {},
     "output_type": "execute_result"
    },
    {
     "data": {
      "image/png": "[encoded data removed]",
      "text/plain": [
       "<Figure size 640x480 with 1 Axes>"
      ]
     },
     "metadata": {},
     "output_type": "display_data"
    }
   ],
   "source": [
    "sns.distplot(user_log['cat_id'],hist=True)"
   ]
  },
  {
   "cell_type": "code",
   "execution_count": 10,
   "metadata": {
    "colab": {
     "base_uri": "https://localhost:8080/"
    },
    "id": "OCZt6t70kq9A",
    "outputId": "76e8f28f-8779-42bd-e09c-27693d07605d"
   },
   "outputs": [
    {
     "data": {
      "text/plain": [
       "0       1111\n",
       "1       1107\n",
       "2        820\n",
       "3        820\n",
       "4        820\n",
       "        ... \n",
       "6544    1111\n",
       "6545    1111\n",
       "6546    1110\n",
       "6547    1101\n",
       "6548    1111\n",
       "Name: time_stamp, Length: 6549, dtype: object"
      ]
     },
     "execution_count": 10,
     "metadata": {},
     "output_type": "execute_result"
    }
   ],
   "source": [
    "user_log['time_stamp'].astype('str')"
   ]
  },
  {
   "cell_type": "code",
   "execution_count": 11,
   "metadata": {
    "id": "90kJRTmgkq9A"
   },
   "outputs": [],
   "source": [
    "user_log['time_str']= user_log['time_stamp'].astype('str')"
   ]
  },
  {
   "cell_type": "code",
   "execution_count": 12,
   "metadata": {
    "id": "XAX75wnykq9B"
   },
   "outputs": [],
   "source": [
    "user_log['Day']=user_log['time_stamp']%100"
   ]
  },
  {
   "cell_type": "code",
   "execution_count": 13,
   "metadata": {
    "colab": {
     "base_uri": "https://localhost:8080/"
    },
    "id": "pzQMGx3_kq9C",
    "outputId": "eeb53f8e-3bda-45d5-8c2a-86ea0aebb39c"
   },
   "outputs": [
    {
     "name": "stdout",
     "output_type": "stream",
     "text": [
      "0    11\n",
      "1     7\n",
      "2    20\n",
      "3    20\n",
      "4    20\n",
      "Name: Day, dtype: int64\n"
     ]
    }
   ],
   "source": [
    "print(user_log['Day'].head())"
   ]
  },
  {
   "cell_type": "code",
   "execution_count": 14,
   "metadata": {
    "id": "PmrEZuMckq9C"
   },
   "outputs": [],
   "source": [
    "user_log['Month']=(user_log['time_stamp']-user_log['Day'])/100"
   ]
  },
  {
   "cell_type": "code",
   "execution_count": 15,
   "metadata": {
    "colab": {
     "base_uri": "https://localhost:8080/"
    },
    "id": "vOsIZLLFkq9D",
    "outputId": "0ffbce6c-151d-498c-bfd2-5502170d2193"
   },
   "outputs": [
    {
     "name": "stdout",
     "output_type": "stream",
     "text": [
      "   user_id  item_id  cat_id  seller_id  brand_id  time_stamp  action_type  \\\n",
      "0   149002      282     885       3791    1500.0        1111            0   \n",
      "1   149002      282     885       3791    1500.0        1107            0   \n",
      "2   109881      230     629          1    1662.0         820            0   \n",
      "3   109881      230     629          1    1662.0         820            0   \n",
      "4   109881      230     629          1    1662.0         820            0   \n",
      "\n",
      "  time_str  Day  Month  \n",
      "0     1111   11   11.0  \n",
      "1     1107    7   11.0  \n",
      "2      820   20    8.0  \n",
      "3      820   20    8.0  \n",
      "4      820   20    8.0  \n"
     ]
    }
   ],
   "source": [
    "print(user_log.head())"
   ]
  },
  {
   "cell_type": "code",
   "execution_count": 16,
   "metadata": {
    "id": "zvLEx9Pukq9D"
   },
   "outputs": [],
   "source": [
    "user_log['Month']= user_log['Month'].astype('int')"
   ]
  },
  {
   "cell_type": "code",
   "execution_count": 17,
   "metadata": {
    "colab": {
     "base_uri": "https://localhost:8080/"
    },
    "id": "XY8eGdejkq9E",
    "outputId": "e7a8b6de-aa0c-434d-c1bd-8c9a671ad6c9"
   },
   "outputs": [
    {
     "name": "stdout",
     "output_type": "stream",
     "text": [
      "   user_id  item_id  cat_id  seller_id  brand_id  time_stamp  action_type  \\\n",
      "0   149002      282     885       3791    1500.0        1111            0   \n",
      "1   149002      282     885       3791    1500.0        1107            0   \n",
      "2   109881      230     629          1    1662.0         820            0   \n",
      "3   109881      230     629          1    1662.0         820            0   \n",
      "4   109881      230     629          1    1662.0         820            0   \n",
      "\n",
      "  time_str  Day  Month  \n",
      "0     1111   11     11  \n",
      "1     1107    7     11  \n",
      "2      820   20      8  \n",
      "3      820   20      8  \n",
      "4      820   20      8  \n"
     ]
    }
   ],
   "source": [
    "print(user_log.head())"
   ]
  },
  {
   "cell_type": "code",
   "execution_count": 18,
   "metadata": {
    "colab": {
     "base_uri": "https://localhost:8080/",
     "height": 657
    },
    "id": "OPyldA43kq9E",
    "outputId": "5e6fabc0-6d93-47e7-a079-ea0dd1aba698"
   },
   "outputs": [
    {
     "name": "stderr",
     "output_type": "stream",
     "text": [
      "C:\\Users\\sonic\\anaconda3\\lib\\site-packages\\seaborn\\distributions.py:2619: FutureWarning: `distplot` is a deprecated function and will be removed in a future version. Please adapt your code to use either `displot` (a figure-level function with similar flexibility) or `histplot` (an axes-level function for histograms).\n",
      "  warnings.warn(msg, FutureWarning)\n"
     ]
    },
    {
     "data": {
      "text/plain": [
       "<AxesSubplot:xlabel='Month', ylabel='Density'>"
      ]
     },
     "execution_count": 18,
     "metadata": {},
     "output_type": "execute_result"
    },
    {
     "data": {
      "image/png": "[encoded data removed]",
      "text/plain": [
       "<Figure size 640x480 with 1 Axes>"
      ]
     },
     "metadata": {},
     "output_type": "display_data"
    }
   ],
   "source": [
    "sns.distplot(user_log['Month'],hist=True)"
   ]
  },
  {
   "cell_type": "code",
   "execution_count": 19,
   "metadata": {
    "id": "4CN4krJIkq9F"
   },
   "outputs": [],
   "source": [
    "import datetime"
   ]
  },
  {
   "cell_type": "code",
   "execution_count": 20,
   "metadata": {
    "colab": {
     "base_uri": "https://localhost:8080/",
     "height": 206
    },
    "id": "vri4zwKFkq9F",
    "outputId": "de12d7d1-93ac-48a2-ca34-5808ebbe6e3c"
   },
   "outputs": [
    {
     "data": {
      "text/html": [
       "<div>\n",
       "<style scoped>\n",
       "    .dataframe tbody tr th:only-of-type {\n",
       "        vertical-align: middle;\n",
       "    }\n",
       "\n",
       "    .dataframe tbody tr th {\n",
       "        vertical-align: top;\n",
       "    }\n",
       "\n",
       "    .dataframe thead th {\n",
       "        text-align: right;\n",
       "    }\n",
       "</style>\n",
       "<table border=\"1\" class=\"dataframe\">\n",
       "  <thead>\n",
       "    <tr style=\"text-align: right;\">\n",
       "      <th></th>\n",
       "      <th>user_id</th>\n",
       "      <th>item_id</th>\n",
       "      <th>cat_id</th>\n",
       "      <th>seller_id</th>\n",
       "      <th>brand_id</th>\n",
       "      <th>time_stamp</th>\n",
       "      <th>action_type</th>\n",
       "      <th>time_str</th>\n",
       "      <th>Day</th>\n",
       "      <th>Month</th>\n",
       "    </tr>\n",
       "  </thead>\n",
       "  <tbody>\n",
       "    <tr>\n",
       "      <th>0</th>\n",
       "      <td>149002</td>\n",
       "      <td>282</td>\n",
       "      <td>885</td>\n",
       "      <td>3791</td>\n",
       "      <td>1500.0</td>\n",
       "      <td>1111</td>\n",
       "      <td>0</td>\n",
       "      <td>1111</td>\n",
       "      <td>11</td>\n",
       "      <td>11</td>\n",
       "    </tr>\n",
       "    <tr>\n",
       "      <th>1</th>\n",
       "      <td>149002</td>\n",
       "      <td>282</td>\n",
       "      <td>885</td>\n",
       "      <td>3791</td>\n",
       "      <td>1500.0</td>\n",
       "      <td>1107</td>\n",
       "      <td>0</td>\n",
       "      <td>1107</td>\n",
       "      <td>7</td>\n",
       "      <td>11</td>\n",
       "    </tr>\n",
       "    <tr>\n",
       "      <th>2</th>\n",
       "      <td>109881</td>\n",
       "      <td>230</td>\n",
       "      <td>629</td>\n",
       "      <td>1</td>\n",
       "      <td>1662.0</td>\n",
       "      <td>820</td>\n",
       "      <td>0</td>\n",
       "      <td>820</td>\n",
       "      <td>20</td>\n",
       "      <td>8</td>\n",
       "    </tr>\n",
       "    <tr>\n",
       "      <th>3</th>\n",
       "      <td>109881</td>\n",
       "      <td>230</td>\n",
       "      <td>629</td>\n",
       "      <td>1</td>\n",
       "      <td>1662.0</td>\n",
       "      <td>820</td>\n",
       "      <td>0</td>\n",
       "      <td>820</td>\n",
       "      <td>20</td>\n",
       "      <td>8</td>\n",
       "    </tr>\n",
       "    <tr>\n",
       "      <th>4</th>\n",
       "      <td>109881</td>\n",
       "      <td>230</td>\n",
       "      <td>629</td>\n",
       "      <td>1</td>\n",
       "      <td>1662.0</td>\n",
       "      <td>820</td>\n",
       "      <td>0</td>\n",
       "      <td>820</td>\n",
       "      <td>20</td>\n",
       "      <td>8</td>\n",
       "    </tr>\n",
       "  </tbody>\n",
       "</table>\n",
       "</div>"
      ],
      "text/plain": [
       "   user_id  item_id  cat_id  seller_id  brand_id  time_stamp  action_type  \\\n",
       "0   149002      282     885       3791    1500.0        1111            0   \n",
       "1   149002      282     885       3791    1500.0        1107            0   \n",
       "2   109881      230     629          1    1662.0         820            0   \n",
       "3   109881      230     629          1    1662.0         820            0   \n",
       "4   109881      230     629          1    1662.0         820            0   \n",
       "\n",
       "  time_str  Day  Month  \n",
       "0     1111   11     11  \n",
       "1     1107    7     11  \n",
       "2      820   20      8  \n",
       "3      820   20      8  \n",
       "4      820   20      8  "
      ]
     },
     "execution_count": 20,
     "metadata": {},
     "output_type": "execute_result"
    }
   ],
   "source": [
    "user_log.head()"
   ]
  },
  {
   "cell_type": "code",
   "execution_count": 21,
   "metadata": {
    "id": "oLtEQUztkq9G"
   },
   "outputs": [],
   "source": [
    "#user_id and category\n",
    "user_cat_count= user_log.groupby(['user_id','cat_id']).size()"
   ]
  },
  {
   "cell_type": "code",
   "execution_count": 22,
   "metadata": {
    "id": "bPrs6dBNkq9G"
   },
   "outputs": [],
   "source": [
    "user_cat_click_count = user_log.groupby(['user_id','cat_id','action_type']).size().to_frame()"
   ]
  },
  {
   "cell_type": "code",
   "execution_count": 23,
   "metadata": {
    "colab": {
     "base_uri": "https://localhost:8080/",
     "height": 238
    },
    "id": "ZdgJ51hckq9G",
    "outputId": "00276284-b1c9-4044-e11d-966b1fefdcb1"
   },
   "outputs": [
    {
     "data": {
      "text/html": [
       "<div>\n",
       "<style scoped>\n",
       "    .dataframe tbody tr th:only-of-type {\n",
       "        vertical-align: middle;\n",
       "    }\n",
       "\n",
       "    .dataframe tbody tr th {\n",
       "        vertical-align: top;\n",
       "    }\n",
       "\n",
       "    .dataframe thead th {\n",
       "        text-align: right;\n",
       "    }\n",
       "</style>\n",
       "<table border=\"1\" class=\"dataframe\">\n",
       "  <thead>\n",
       "    <tr style=\"text-align: right;\">\n",
       "      <th></th>\n",
       "      <th></th>\n",
       "      <th></th>\n",
       "      <th>0</th>\n",
       "    </tr>\n",
       "    <tr>\n",
       "      <th>user_id</th>\n",
       "      <th>cat_id</th>\n",
       "      <th>action_type</th>\n",
       "      <th></th>\n",
       "    </tr>\n",
       "  </thead>\n",
       "  <tbody>\n",
       "    <tr>\n",
       "      <th>297</th>\n",
       "      <th>614</th>\n",
       "      <th>0</th>\n",
       "      <td>1</td>\n",
       "    </tr>\n",
       "    <tr>\n",
       "      <th>867</th>\n",
       "      <th>1181</th>\n",
       "      <th>0</th>\n",
       "      <td>1</td>\n",
       "    </tr>\n",
       "    <tr>\n",
       "      <th>997</th>\n",
       "      <th>1467</th>\n",
       "      <th>0</th>\n",
       "      <td>1</td>\n",
       "    </tr>\n",
       "    <tr>\n",
       "      <th>1076</th>\n",
       "      <th>559</th>\n",
       "      <th>0</th>\n",
       "      <td>1</td>\n",
       "    </tr>\n",
       "    <tr>\n",
       "      <th>1295</th>\n",
       "      <th>559</th>\n",
       "      <th>0</th>\n",
       "      <td>1</td>\n",
       "    </tr>\n",
       "  </tbody>\n",
       "</table>\n",
       "</div>"
      ],
      "text/plain": [
       "                            0\n",
       "user_id cat_id action_type   \n",
       "297     614    0            1\n",
       "867     1181   0            1\n",
       "997     1467   0            1\n",
       "1076    559    0            1\n",
       "1295    559    0            1"
      ]
     },
     "execution_count": 23,
     "metadata": {},
     "output_type": "execute_result"
    }
   ],
   "source": [
    "user_cat_click_count.head()"
   ]
  },
  {
   "cell_type": "code",
   "execution_count": 24,
   "metadata": {
    "colab": {
     "base_uri": "https://localhost:8080/"
    },
    "id": "K0rpmVDUkq9H",
    "outputId": "4ef480d5-e278-4793-9511-3ad7c4878918"
   },
   "outputs": [
    {
     "data": {
      "text/plain": [
       "cat_id  action_type\n",
       "35      0               7\n",
       "71      0              17\n",
       "        2               3\n",
       "103     0               2\n",
       "        2               1\n",
       "dtype: int64"
      ]
     },
     "execution_count": 24,
     "metadata": {},
     "output_type": "execute_result"
    }
   ],
   "source": [
    "#category action\n",
    "cat_click_count = user_log.groupby(['cat_id','action_type']).size()\n",
    "cat_click_count.head()"
   ]
  },
  {
   "cell_type": "code",
   "execution_count": 25,
   "metadata": {
    "colab": {
     "base_uri": "https://localhost:8080/"
    },
    "id": "9wAjiLtzkq9H",
    "outputId": "7716a3e0-21b5-450b-c813-bfe3f5cd4ec8"
   },
   "outputs": [
    {
     "data": {
      "text/plain": [
       "brand_id  action_type\n",
       "68.0      0              18\n",
       "69.0      0              24\n",
       "          2               1\n",
       "99.0      0              22\n",
       "          2               1\n",
       "dtype: int64"
      ]
     },
     "execution_count": 25,
     "metadata": {},
     "output_type": "execute_result"
    }
   ],
   "source": [
    "#brand action\n",
    "brand_click_count = user_log.groupby(['brand_id','action_type']).size()\n",
    "brand_click_count.head()"
   ]
  },
  {
   "cell_type": "code",
   "execution_count": 26,
   "metadata": {
    "colab": {
     "base_uri": "https://localhost:8080/"
    },
    "id": "3BK3_P9Mkq9I",
    "outputId": "52069300-58ac-4115-9f38-865244cf0724"
   },
   "outputs": [
    {
     "data": {
      "text/plain": [
       "item_id  action_type\n",
       "161      0              4\n",
       "162      0              2\n",
       "163      0              6\n",
       "         3              2\n",
       "164      0              3\n",
       "dtype: int64"
      ]
     },
     "execution_count": 26,
     "metadata": {},
     "output_type": "execute_result"
    }
   ],
   "source": [
    "#merchandise action\n",
    "mer_click_count = user_log.groupby(['item_id','action_type']).size()\n",
    "mer_click_count.head()"
   ]
  },
  {
   "cell_type": "code",
   "execution_count": 27,
   "metadata": {
    "id": "G1UTuUQvkq9I"
   },
   "outputs": [],
   "source": [
    "click_activity_percent = user_log['action_type'].value_counts(normalize=True)*100"
   ]
  },
  {
   "cell_type": "code",
   "execution_count": 28,
   "metadata": {
    "id": "IEIt74ZAkq9I"
   },
   "outputs": [],
   "source": [
    "dict_user_cat = dict(zip(user_log['user_id'],user_log['cat_id']))"
   ]
  },
  {
   "cell_type": "code",
   "execution_count": 29,
   "metadata": {
    "id": "LISWYv0hkq9J"
   },
   "outputs": [],
   "source": [
    "dict_user_brand = dict(zip(user_log['user_id'],user_log['brand_id']))"
   ]
  },
  {
   "cell_type": "code",
   "execution_count": 30,
   "metadata": {
    "id": "6HdPH5Wskq9J"
   },
   "outputs": [],
   "source": [
    "dict_user_merch = dict(zip(user_log['user_id'],user_log['item_id']))"
   ]
  },
  {
   "cell_type": "code",
   "execution_count": 31,
   "metadata": {
    "colab": {
     "base_uri": "https://localhost:8080/",
     "height": 238
    },
    "id": "hG4rKzwrkq9J",
    "outputId": "a7d16b75-f017-45f0-a3b9-f7359cabea62"
   },
   "outputs": [
    {
     "data": {
      "text/html": [
       "<div>\n",
       "<style scoped>\n",
       "    .dataframe tbody tr th:only-of-type {\n",
       "        vertical-align: middle;\n",
       "    }\n",
       "\n",
       "    .dataframe tbody tr th {\n",
       "        vertical-align: top;\n",
       "    }\n",
       "\n",
       "    .dataframe thead th {\n",
       "        text-align: right;\n",
       "    }\n",
       "</style>\n",
       "<table border=\"1\" class=\"dataframe\">\n",
       "  <thead>\n",
       "    <tr style=\"text-align: right;\">\n",
       "      <th></th>\n",
       "      <th></th>\n",
       "      <th>action_type</th>\n",
       "    </tr>\n",
       "    <tr>\n",
       "      <th>user_id</th>\n",
       "      <th>cat_id</th>\n",
       "      <th></th>\n",
       "    </tr>\n",
       "  </thead>\n",
       "  <tbody>\n",
       "    <tr>\n",
       "      <th>297</th>\n",
       "      <th>614</th>\n",
       "      <td>1</td>\n",
       "    </tr>\n",
       "    <tr>\n",
       "      <th>867</th>\n",
       "      <th>1181</th>\n",
       "      <td>1</td>\n",
       "    </tr>\n",
       "    <tr>\n",
       "      <th>997</th>\n",
       "      <th>1467</th>\n",
       "      <td>1</td>\n",
       "    </tr>\n",
       "    <tr>\n",
       "      <th>1076</th>\n",
       "      <th>559</th>\n",
       "      <td>1</td>\n",
       "    </tr>\n",
       "    <tr>\n",
       "      <th>1295</th>\n",
       "      <th>559</th>\n",
       "      <td>1</td>\n",
       "    </tr>\n",
       "  </tbody>\n",
       "</table>\n",
       "</div>"
      ],
      "text/plain": [
       "                action_type\n",
       "user_id cat_id             \n",
       "297     614               1\n",
       "867     1181              1\n",
       "997     1467              1\n",
       "1076    559               1\n",
       "1295    559               1"
      ]
     },
     "execution_count": 31,
     "metadata": {},
     "output_type": "execute_result"
    }
   ],
   "source": [
    "#user category click activity\n",
    "user_cat_total = user_log.groupby(['user_id','cat_id'])['action_type'].count().to_frame()\n",
    "user_cat_total.head()"
   ]
  },
  {
   "cell_type": "code",
   "execution_count": 32,
   "metadata": {
    "colab": {
     "base_uri": "https://localhost:8080/",
     "height": 238
    },
    "id": "8W8Hy1fYkq9K",
    "outputId": "377289ab-4b45-4424-e612-7477a21cdfa2"
   },
   "outputs": [
    {
     "data": {
      "text/html": [
       "<div>\n",
       "<style scoped>\n",
       "    .dataframe tbody tr th:only-of-type {\n",
       "        vertical-align: middle;\n",
       "    }\n",
       "\n",
       "    .dataframe tbody tr th {\n",
       "        vertical-align: top;\n",
       "    }\n",
       "\n",
       "    .dataframe thead th {\n",
       "        text-align: right;\n",
       "    }\n",
       "</style>\n",
       "<table border=\"1\" class=\"dataframe\">\n",
       "  <thead>\n",
       "    <tr style=\"text-align: right;\">\n",
       "      <th></th>\n",
       "      <th></th>\n",
       "      <th>count total</th>\n",
       "    </tr>\n",
       "    <tr>\n",
       "      <th>user_id</th>\n",
       "      <th>cat_id</th>\n",
       "      <th></th>\n",
       "    </tr>\n",
       "  </thead>\n",
       "  <tbody>\n",
       "    <tr>\n",
       "      <th>297</th>\n",
       "      <th>614</th>\n",
       "      <td>1</td>\n",
       "    </tr>\n",
       "    <tr>\n",
       "      <th>867</th>\n",
       "      <th>1181</th>\n",
       "      <td>1</td>\n",
       "    </tr>\n",
       "    <tr>\n",
       "      <th>997</th>\n",
       "      <th>1467</th>\n",
       "      <td>1</td>\n",
       "    </tr>\n",
       "    <tr>\n",
       "      <th>1076</th>\n",
       "      <th>559</th>\n",
       "      <td>1</td>\n",
       "    </tr>\n",
       "    <tr>\n",
       "      <th>1295</th>\n",
       "      <th>559</th>\n",
       "      <td>1</td>\n",
       "    </tr>\n",
       "  </tbody>\n",
       "</table>\n",
       "</div>"
      ],
      "text/plain": [
       "                count total\n",
       "user_id cat_id             \n",
       "297     614               1\n",
       "867     1181              1\n",
       "997     1467              1\n",
       "1076    559               1\n",
       "1295    559               1"
      ]
     },
     "execution_count": 32,
     "metadata": {},
     "output_type": "execute_result"
    }
   ],
   "source": [
    "user_cat_total.columns = ['count total']\n",
    "user_cat_total.head()"
   ]
  },
  {
   "cell_type": "code",
   "execution_count": 33,
   "metadata": {
    "id": "FmqwthHlkq9K"
   },
   "outputs": [],
   "source": [
    "user_cat_click_count.columns = ['size']"
   ]
  },
  {
   "cell_type": "code",
   "execution_count": 34,
   "metadata": {
    "colab": {
     "base_uri": "https://localhost:8080/",
     "height": 238
    },
    "id": "BKj6hsoekq9L",
    "outputId": "af6dc6d0-53d9-484e-f1e4-33ffef2e66b8"
   },
   "outputs": [
    {
     "data": {
      "text/html": [
       "<div>\n",
       "<style scoped>\n",
       "    .dataframe tbody tr th:only-of-type {\n",
       "        vertical-align: middle;\n",
       "    }\n",
       "\n",
       "    .dataframe tbody tr th {\n",
       "        vertical-align: top;\n",
       "    }\n",
       "\n",
       "    .dataframe thead th {\n",
       "        text-align: right;\n",
       "    }\n",
       "</style>\n",
       "<table border=\"1\" class=\"dataframe\">\n",
       "  <thead>\n",
       "    <tr style=\"text-align: right;\">\n",
       "      <th></th>\n",
       "      <th></th>\n",
       "      <th></th>\n",
       "      <th>size</th>\n",
       "    </tr>\n",
       "    <tr>\n",
       "      <th>user_id</th>\n",
       "      <th>cat_id</th>\n",
       "      <th>action_type</th>\n",
       "      <th></th>\n",
       "    </tr>\n",
       "  </thead>\n",
       "  <tbody>\n",
       "    <tr>\n",
       "      <th>297</th>\n",
       "      <th>614</th>\n",
       "      <th>0</th>\n",
       "      <td>1</td>\n",
       "    </tr>\n",
       "    <tr>\n",
       "      <th>867</th>\n",
       "      <th>1181</th>\n",
       "      <th>0</th>\n",
       "      <td>1</td>\n",
       "    </tr>\n",
       "    <tr>\n",
       "      <th>997</th>\n",
       "      <th>1467</th>\n",
       "      <th>0</th>\n",
       "      <td>1</td>\n",
       "    </tr>\n",
       "    <tr>\n",
       "      <th>1076</th>\n",
       "      <th>559</th>\n",
       "      <th>0</th>\n",
       "      <td>1</td>\n",
       "    </tr>\n",
       "    <tr>\n",
       "      <th>1295</th>\n",
       "      <th>559</th>\n",
       "      <th>0</th>\n",
       "      <td>1</td>\n",
       "    </tr>\n",
       "  </tbody>\n",
       "</table>\n",
       "</div>"
      ],
      "text/plain": [
       "                            size\n",
       "user_id cat_id action_type      \n",
       "297     614    0               1\n",
       "867     1181   0               1\n",
       "997     1467   0               1\n",
       "1076    559    0               1\n",
       "1295    559    0               1"
      ]
     },
     "execution_count": 34,
     "metadata": {},
     "output_type": "execute_result"
    }
   ],
   "source": [
    "user_cat_click_count.head()"
   ]
  },
  {
   "cell_type": "code",
   "execution_count": 35,
   "metadata": {
    "id": "IP3EXcfzkq9L"
   },
   "outputs": [],
   "source": [
    "user_cat_activity = user_cat_total.join(user_cat_click_count,how='left')\n",
    "user_cat_activity['percentage'] = user_cat_activity['size']/user_cat_activity['count total']"
   ]
  },
  {
   "cell_type": "code",
   "execution_count": 36,
   "metadata": {
    "colab": {
     "base_uri": "https://localhost:8080/",
     "height": 238
    },
    "id": "EdW_9jCGkq9L",
    "outputId": "dab1bfe8-8917-4b7f-8790-03d82820bc17"
   },
   "outputs": [
    {
     "data": {
      "text/html": [
       "<div>\n",
       "<style scoped>\n",
       "    .dataframe tbody tr th:only-of-type {\n",
       "        vertical-align: middle;\n",
       "    }\n",
       "\n",
       "    .dataframe tbody tr th {\n",
       "        vertical-align: top;\n",
       "    }\n",
       "\n",
       "    .dataframe thead th {\n",
       "        text-align: right;\n",
       "    }\n",
       "</style>\n",
       "<table border=\"1\" class=\"dataframe\">\n",
       "  <thead>\n",
       "    <tr style=\"text-align: right;\">\n",
       "      <th></th>\n",
       "      <th></th>\n",
       "      <th></th>\n",
       "      <th>count total</th>\n",
       "      <th>size</th>\n",
       "      <th>percentage</th>\n",
       "    </tr>\n",
       "    <tr>\n",
       "      <th>user_id</th>\n",
       "      <th>cat_id</th>\n",
       "      <th>action_type</th>\n",
       "      <th></th>\n",
       "      <th></th>\n",
       "      <th></th>\n",
       "    </tr>\n",
       "  </thead>\n",
       "  <tbody>\n",
       "    <tr>\n",
       "      <th>297</th>\n",
       "      <th>614</th>\n",
       "      <th>0</th>\n",
       "      <td>1</td>\n",
       "      <td>1</td>\n",
       "      <td>1.0</td>\n",
       "    </tr>\n",
       "    <tr>\n",
       "      <th>867</th>\n",
       "      <th>1181</th>\n",
       "      <th>0</th>\n",
       "      <td>1</td>\n",
       "      <td>1</td>\n",
       "      <td>1.0</td>\n",
       "    </tr>\n",
       "    <tr>\n",
       "      <th>997</th>\n",
       "      <th>1467</th>\n",
       "      <th>0</th>\n",
       "      <td>1</td>\n",
       "      <td>1</td>\n",
       "      <td>1.0</td>\n",
       "    </tr>\n",
       "    <tr>\n",
       "      <th>1076</th>\n",
       "      <th>559</th>\n",
       "      <th>0</th>\n",
       "      <td>1</td>\n",
       "      <td>1</td>\n",
       "      <td>1.0</td>\n",
       "    </tr>\n",
       "    <tr>\n",
       "      <th>1295</th>\n",
       "      <th>559</th>\n",
       "      <th>0</th>\n",
       "      <td>1</td>\n",
       "      <td>1</td>\n",
       "      <td>1.0</td>\n",
       "    </tr>\n",
       "  </tbody>\n",
       "</table>\n",
       "</div>"
      ],
      "text/plain": [
       "                            count total  size  percentage\n",
       "user_id cat_id action_type                               \n",
       "297     614    0                      1     1         1.0\n",
       "867     1181   0                      1     1         1.0\n",
       "997     1467   0                      1     1         1.0\n",
       "1076    559    0                      1     1         1.0\n",
       "1295    559    0                      1     1         1.0"
      ]
     },
     "execution_count": 36,
     "metadata": {},
     "output_type": "execute_result"
    }
   ],
   "source": [
    "user_cat_activity.head()"
   ]
  },
  {
   "cell_type": "code",
   "execution_count": 37,
   "metadata": {
    "id": "yYJBuj2wkq9M"
   },
   "outputs": [],
   "source": [
    "train_format = pd.read_csv('../data_format1/use_data/train_format1[161-320].csv', iterator=True, chunksize=10000)\n",
    "train_format = pd.concat(train_format, ignore_index=True)"
   ]
  },
  {
   "cell_type": "code",
   "execution_count": 38,
   "metadata": {},
   "outputs": [
    {
     "data": {
      "text/html": [
       "<div>\n",
       "<style scoped>\n",
       "    .dataframe tbody tr th:only-of-type {\n",
       "        vertical-align: middle;\n",
       "    }\n",
       "\n",
       "    .dataframe tbody tr th {\n",
       "        vertical-align: top;\n",
       "    }\n",
       "\n",
       "    .dataframe thead th {\n",
       "        text-align: right;\n",
       "    }\n",
       "</style>\n",
       "<table border=\"1\" class=\"dataframe\">\n",
       "  <thead>\n",
       "    <tr style=\"text-align: right;\">\n",
       "      <th></th>\n",
       "      <th>user_id</th>\n",
       "      <th>merchant_id</th>\n",
       "      <th>label</th>\n",
       "    </tr>\n",
       "  </thead>\n",
       "  <tbody>\n",
       "    <tr>\n",
       "      <th>0</th>\n",
       "      <td>108672</td>\n",
       "      <td>4760</td>\n",
       "      <td>0</td>\n",
       "    </tr>\n",
       "    <tr>\n",
       "      <th>1</th>\n",
       "      <td>6018</td>\n",
       "      <td>145</td>\n",
       "      <td>0</td>\n",
       "    </tr>\n",
       "    <tr>\n",
       "      <th>2</th>\n",
       "      <td>134532</td>\n",
       "      <td>3323</td>\n",
       "      <td>1</td>\n",
       "    </tr>\n",
       "    <tr>\n",
       "      <th>3</th>\n",
       "      <td>340104</td>\n",
       "      <td>3263</td>\n",
       "      <td>0</td>\n",
       "    </tr>\n",
       "    <tr>\n",
       "      <th>4</th>\n",
       "      <td>367500</td>\n",
       "      <td>4405</td>\n",
       "      <td>0</td>\n",
       "    </tr>\n",
       "  </tbody>\n",
       "</table>\n",
       "</div>"
      ],
      "text/plain": [
       "   user_id  merchant_id  label\n",
       "0   108672         4760      0\n",
       "1     6018          145      0\n",
       "2   134532         3323      1\n",
       "3   340104         3263      0\n",
       "4   367500         4405      0"
      ]
     },
     "execution_count": 38,
     "metadata": {},
     "output_type": "execute_result"
    }
   ],
   "source": [
    "train_format.head()"
   ]
  },
  {
   "cell_type": "code",
   "execution_count": 39,
   "metadata": {},
   "outputs": [
    {
     "data": {
      "text/plain": [
       "[(867, 0),\n",
       " (2448, 0),\n",
       " (4755, 0),\n",
       " (5524, 1),\n",
       " (5534, 0),\n",
       " (6018, 0),\n",
       " (8552, 0),\n",
       " (12875, 0),\n",
       " (15100, 0),\n",
       " (28461, 0),\n",
       " (29443, 0),\n",
       " (32155, 0),\n",
       " (33618, 0),\n",
       " (33745, 0),\n",
       " (35597, 0),\n",
       " (35848, 0),\n",
       " (36385, 0),\n",
       " (38606, 0),\n",
       " (44606, 0),\n",
       " (45576, 0),\n",
       " (46507, 0),\n",
       " (46699, 0),\n",
       " (51728, 0),\n",
       " (52647, 0),\n",
       " (52751, 0),\n",
       " (53531, 0),\n",
       " (55784, 1),\n",
       " (59028, 0),\n",
       " (60260, 0),\n",
       " (60425, 0),\n",
       " (62849, 0),\n",
       " (62942, 0),\n",
       " (68225, 1),\n",
       " (72143, 0),\n",
       " (78667, 0),\n",
       " (79189, 1),\n",
       " (81918, 0),\n",
       " (84043, 0),\n",
       " (86171, 0),\n",
       " (87972, 1),\n",
       " (88275, 1),\n",
       " (90821, 0),\n",
       " (95362, 0),\n",
       " (97492, 0),\n",
       " (97762, 1),\n",
       " (99823, 0),\n",
       " (101110, 0),\n",
       " (102477, 0),\n",
       " (103980, 0),\n",
       " (108048, 0),\n",
       " (108672, 0),\n",
       " (109919, 0),\n",
       " (112997, 0),\n",
       " (113078, 0),\n",
       " (117310, 0),\n",
       " (117839, 0),\n",
       " (120820, 0),\n",
       " (122632, 0),\n",
       " (123833, 0),\n",
       " (125558, 0),\n",
       " (127492, 0),\n",
       " (130186, 1),\n",
       " (131122, 0),\n",
       " (132803, 0),\n",
       " (132884, 0),\n",
       " (134532, 1),\n",
       " (141307, 0),\n",
       " (143411, 0),\n",
       " (144281, 0),\n",
       " (148970, 1),\n",
       " (149798, 0),\n",
       " (156961, 0),\n",
       " (163584, 0),\n",
       " (165083, 0),\n",
       " (165262, 0),\n",
       " (165355, 0),\n",
       " (173653, 0),\n",
       " (174308, 0),\n",
       " (175206, 0),\n",
       " (176150, 0),\n",
       " (177770, 1),\n",
       " (178063, 0),\n",
       " (182119, 0),\n",
       " (185381, 0),\n",
       " (187060, 0),\n",
       " (191162, 0),\n",
       " (199429, 0),\n",
       " (205257, 0),\n",
       " (206032, 0),\n",
       " (210578, 0),\n",
       " (214766, 0),\n",
       " (218579, 0),\n",
       " (218669, 0),\n",
       " (226193, 0),\n",
       " (227925, 1),\n",
       " (229569, 0),\n",
       " (238412, 0),\n",
       " (239687, 0),\n",
       " (244552, 0),\n",
       " (245259, 0),\n",
       " (246586, 0),\n",
       " (251563, 0),\n",
       " (251644, 0),\n",
       " (252255, 0),\n",
       " (254609, 0),\n",
       " (255960, 0),\n",
       " (257735, 0),\n",
       " (257966, 1),\n",
       " (258575, 0),\n",
       " (263873, 0),\n",
       " (264657, 0),\n",
       " (272518, 0),\n",
       " (274624, 0),\n",
       " (274843, 0),\n",
       " (275260, 0),\n",
       " (276857, 0),\n",
       " (277770, 0),\n",
       " (280293, 0),\n",
       " (281262, 0),\n",
       " (283392, 1),\n",
       " (283745, 0),\n",
       " (287829, 0),\n",
       " (289079, 1),\n",
       " (289430, 0),\n",
       " (291386, 0),\n",
       " (291453, 0),\n",
       " (295977, 0),\n",
       " (305925, 0),\n",
       " (309566, 0),\n",
       " (313634, 0),\n",
       " (314519, 0),\n",
       " (316235, 0),\n",
       " (317444, 0),\n",
       " (319670, 0),\n",
       " (324110, 0),\n",
       " (327782, 0),\n",
       " (335587, 0),\n",
       " (335815, 0),\n",
       " (338395, 0),\n",
       " (340104, 0),\n",
       " (340708, 0),\n",
       " (342023, 0),\n",
       " (348030, 0),\n",
       " (352780, 0),\n",
       " (353447, 0),\n",
       " (353886, 0),\n",
       " (353962, 0),\n",
       " (355159, 0),\n",
       " (355412, 0),\n",
       " (355808, 0),\n",
       " (364459, 0),\n",
       " (367079, 0),\n",
       " (367500, 0),\n",
       " (376338, 0),\n",
       " (378696, 0),\n",
       " (379824, 0),\n",
       " (380420, 0),\n",
       " (380439, 0),\n",
       " (383379, 0),\n",
       " (386295, 0),\n",
       " (388332, 0),\n",
       " (389062, 0),\n",
       " (401399, 1),\n",
       " (402251, 0),\n",
       " (403117, 0),\n",
       " (407671, 0),\n",
       " (408759, 0),\n",
       " (409283, 0),\n",
       " (419820, 0)]"
      ]
     },
     "execution_count": 39,
     "metadata": {},
     "output_type": "execute_result"
    }
   ],
   "source": [
    "user_label = {}\n",
    "\n",
    "# go through user_seller sub-dataframe and split entries by user_id:seller_id\n",
    "for index, row in train_format.iterrows():\n",
    "    if row['user_id'] not in user_label:\n",
    "        # there may be multiple entries, so default with an empty list\n",
    "        user_label[row[\"user_id\"]] = [] \n",
    "    user_label[row[\"user_id\"]] = row[\"label\"]\n",
    "sorted(user_label.items())"
   ]
  },
  {
   "cell_type": "code",
   "execution_count": 40,
   "metadata": {},
   "outputs": [],
   "source": [
    "repeat_buyers = dict((k, v) for k, v in user_label.items() if v > 0)\n",
    "non_repeat_buyers = dict((k, v) for k, v in user_label.items() if v == 0)"
   ]
  },
  {
   "cell_type": "code",
   "execution_count": 41,
   "metadata": {},
   "outputs": [],
   "source": [
    "import matplotlib.pyplot as plt"
   ]
  },
  {
   "cell_type": "code",
   "execution_count": 46,
   "metadata": {},
   "outputs": [
    {
     "data": {
      "image/png": "[encoded data removed]",
      "text/plain": [
       "<Figure size 640x480 with 1 Axes>"
      ]
     },
     "metadata": {},
     "output_type": "display_data"
    }
   ],
   "source": [
    "lists = sorted(repeat_buyers.items()) # sorted by key, return a list of tuples\n",
    "x, y = zip(*lists) # unpack a list of pairs into two tuples\n",
    "plt.scatter(x, y, label=\"repeat buyers\",color=\"c\")\n",
    "lists2 = sorted(non_repeat_buyers.items()) # sorted by key, return a list of tuples\n",
    "x2, y2 = zip(*lists2) # unpack a list of pairs into two tuples\n",
    "plt.scatter(x2, y2, label=\"not repeat buyers\",color=\"g\")\n",
    "plt.title('Users that are repeat buyers')\n",
    "plt.show()"
   ]
  },
  {
   "cell_type": "code",
   "execution_count": 47,
   "metadata": {},
   "outputs": [
    {
     "data": {
      "image/png": "[encoded data removed]",
      "text/plain": [
       "<Figure size 640x480 with 1 Axes>"
      ]
     },
     "metadata": {},
     "output_type": "display_data"
    }
   ],
   "source": [
    "lists = sorted(repeat_buyers.items()) # sorted by key, return a list of tuples\n",
    "x, y = zip(*lists) # unpack a list of pairs into two tuples\n",
    "plt.bar(y, len(x), label=\"repeat buyers\",color=\"c\")\n",
    "lists2 = sorted(non_repeat_buyers.items()) # sorted by key, return a list of tuples\n",
    "x2, y2 = zip(*lists2) # unpack a list of pairs into two tuples\n",
    "plt.bar(y2, len(x2), label=\"not repeat buyers\",color=\"g\")\n",
    "plt.title('Users that are repeat buyers')\n",
    "plt.show()"
   ]
  },
  {
   "cell_type": "code",
   "execution_count": null,
   "metadata": {},
   "outputs": [],
   "source": []
  }
 ],
 "metadata": {
  "colab": {
   "provenance": []
  },
  "kernelspec": {
   "display_name": "Python 3 (ipykernel)",
   "language": "python",
   "name": "python3"
  },
  "language_info": {
   "codemirror_mode": {
    "name": "ipython",
    "version": 3
   },
   "file_extension": ".py",
   "mimetype": "text/x-python",
   "name": "python",
   "nbconvert_exporter": "python",
   "pygments_lexer": "ipython3",
   "version": "3.9.13"
  }
 },
 "nbformat": 4,
 "nbformat_minor": 1
}
