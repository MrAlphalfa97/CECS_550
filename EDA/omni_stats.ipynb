{
 "cells": [
  {
   "attachments": {},
   "cell_type": "markdown",
   "metadata": {},
   "source": [
    "# Issue 3\n",
    "\n",
    "statistical summary of the dataset  \n",
    "omniXAI: SHAP, look at other functions, correlation"
   ]
  },
  {
   "attachments": {},
   "cell_type": "markdown",
   "metadata": {},
   "source": [
    "Feature Analysis"
   ]
  },
  {
   "cell_type": "code",
   "execution_count": 1,
   "metadata": {},
   "outputs": [
    {
     "name": "stderr",
     "output_type": "stream",
     "text": [
      "c:\\Users\\Daniel\\AppData\\Local\\Programs\\Python\\Python38\\lib\\site-packages\\tqdm\\auto.py:22: TqdmWarning: IProgress not found. Please update jupyter and ipywidgets. See https://ipywidgets.readthedocs.io/en/stable/user_install.html\n",
      "  from .autonotebook import tqdm as notebook_tqdm\n"
     ]
    }
   ],
   "source": [
    "import os\n",
    "import pandas as pd\n",
    "import numpy as np\n",
    "from omnixai.data.tabular import Tabular\n",
    "from omnixai.explainers.tabular import TabularExplainer\n",
    "from omnixai.explainers.data import DataAnalyzer\n",
    "import seaborn as sns\n",
    "from omnixai.visualization.dashboard import Dashboard\n",
    "import matplotlib.pyplot as plt"
   ]
  },
  {
   "cell_type": "code",
   "execution_count": 2,
   "metadata": {},
   "outputs": [],
   "source": [
    "train_complete = pd.read_csv('../FeatureEngineering/train_complete.csv')"
   ]
  },
  {
   "cell_type": "code",
   "execution_count": 3,
   "metadata": {},
   "outputs": [
    {
     "data": {
      "text/plain": [
       "(260864, 43)"
      ]
     },
     "execution_count": 3,
     "metadata": {},
     "output_type": "execute_result"
    }
   ],
   "source": [
    "train_complete.shape"
   ]
  },
  {
   "cell_type": "code",
   "execution_count": 4,
   "metadata": {},
   "outputs": [
    {
     "data": {
      "text/html": [
       "<div>\n",
       "<style scoped>\n",
       "    .dataframe tbody tr th:only-of-type {\n",
       "        vertical-align: middle;\n",
       "    }\n",
       "\n",
       "    .dataframe tbody tr th {\n",
       "        vertical-align: top;\n",
       "    }\n",
       "\n",
       "    .dataframe thead th {\n",
       "        text-align: right;\n",
       "    }\n",
       "</style>\n",
       "<table border=\"1\" class=\"dataframe\">\n",
       "  <thead>\n",
       "    <tr style=\"text-align: right;\">\n",
       "      <th></th>\n",
       "      <th>user_id</th>\n",
       "      <th>merchant_id</th>\n",
       "      <th>label</th>\n",
       "      <th>user_gender_female</th>\n",
       "      <th>user_gender_male</th>\n",
       "      <th>user_gender_unknown</th>\n",
       "      <th>user_age_0_18</th>\n",
       "      <th>user_age_18_24</th>\n",
       "      <th>user_age_25_29</th>\n",
       "      <th>user_age_30_34</th>\n",
       "      <th>...</th>\n",
       "      <th>user_seller_category_count</th>\n",
       "      <th>user_seller_brand_count</th>\n",
       "      <th>user_seller_Click_count</th>\n",
       "      <th>user_seller_Add_to_cart_count</th>\n",
       "      <th>user_seller_Purchase_count</th>\n",
       "      <th>user_seller_Add_to_favorite_count</th>\n",
       "      <th>user_seller_total_action</th>\n",
       "      <th>user_seller_active_days</th>\n",
       "      <th>brand_similarity_score</th>\n",
       "      <th>cat_similarity_score</th>\n",
       "    </tr>\n",
       "  </thead>\n",
       "  <tbody>\n",
       "    <tr>\n",
       "      <th>0</th>\n",
       "      <td>34176</td>\n",
       "      <td>3906</td>\n",
       "      <td>0</td>\n",
       "      <td>1</td>\n",
       "      <td>0</td>\n",
       "      <td>0</td>\n",
       "      <td>0.0</td>\n",
       "      <td>0.0</td>\n",
       "      <td>0.0</td>\n",
       "      <td>0.0</td>\n",
       "      <td>...</td>\n",
       "      <td>-1.0</td>\n",
       "      <td>-1.0</td>\n",
       "      <td>-1.0</td>\n",
       "      <td>-1.0</td>\n",
       "      <td>-1.0</td>\n",
       "      <td>-1.0</td>\n",
       "      <td>-1.0</td>\n",
       "      <td>-1.0</td>\n",
       "      <td>-1.0</td>\n",
       "      <td>-1.0</td>\n",
       "    </tr>\n",
       "    <tr>\n",
       "      <th>1</th>\n",
       "      <td>34176</td>\n",
       "      <td>121</td>\n",
       "      <td>0</td>\n",
       "      <td>1</td>\n",
       "      <td>0</td>\n",
       "      <td>0</td>\n",
       "      <td>0.0</td>\n",
       "      <td>0.0</td>\n",
       "      <td>0.0</td>\n",
       "      <td>0.0</td>\n",
       "      <td>...</td>\n",
       "      <td>-1.0</td>\n",
       "      <td>-1.0</td>\n",
       "      <td>-1.0</td>\n",
       "      <td>-1.0</td>\n",
       "      <td>-1.0</td>\n",
       "      <td>-1.0</td>\n",
       "      <td>-1.0</td>\n",
       "      <td>-1.0</td>\n",
       "      <td>-1.0</td>\n",
       "      <td>-1.0</td>\n",
       "    </tr>\n",
       "    <tr>\n",
       "      <th>2</th>\n",
       "      <td>34176</td>\n",
       "      <td>4356</td>\n",
       "      <td>1</td>\n",
       "      <td>1</td>\n",
       "      <td>0</td>\n",
       "      <td>0</td>\n",
       "      <td>0.0</td>\n",
       "      <td>0.0</td>\n",
       "      <td>0.0</td>\n",
       "      <td>0.0</td>\n",
       "      <td>...</td>\n",
       "      <td>-1.0</td>\n",
       "      <td>-1.0</td>\n",
       "      <td>-1.0</td>\n",
       "      <td>-1.0</td>\n",
       "      <td>-1.0</td>\n",
       "      <td>-1.0</td>\n",
       "      <td>-1.0</td>\n",
       "      <td>-1.0</td>\n",
       "      <td>-1.0</td>\n",
       "      <td>-1.0</td>\n",
       "    </tr>\n",
       "    <tr>\n",
       "      <th>3</th>\n",
       "      <td>34176</td>\n",
       "      <td>2217</td>\n",
       "      <td>0</td>\n",
       "      <td>1</td>\n",
       "      <td>0</td>\n",
       "      <td>0</td>\n",
       "      <td>0.0</td>\n",
       "      <td>0.0</td>\n",
       "      <td>0.0</td>\n",
       "      <td>0.0</td>\n",
       "      <td>...</td>\n",
       "      <td>-1.0</td>\n",
       "      <td>-1.0</td>\n",
       "      <td>-1.0</td>\n",
       "      <td>-1.0</td>\n",
       "      <td>-1.0</td>\n",
       "      <td>-1.0</td>\n",
       "      <td>-1.0</td>\n",
       "      <td>-1.0</td>\n",
       "      <td>-1.0</td>\n",
       "      <td>-1.0</td>\n",
       "    </tr>\n",
       "    <tr>\n",
       "      <th>4</th>\n",
       "      <td>230784</td>\n",
       "      <td>4818</td>\n",
       "      <td>0</td>\n",
       "      <td>1</td>\n",
       "      <td>0</td>\n",
       "      <td>0</td>\n",
       "      <td>0.0</td>\n",
       "      <td>0.0</td>\n",
       "      <td>0.0</td>\n",
       "      <td>0.0</td>\n",
       "      <td>...</td>\n",
       "      <td>-1.0</td>\n",
       "      <td>-1.0</td>\n",
       "      <td>-1.0</td>\n",
       "      <td>-1.0</td>\n",
       "      <td>-1.0</td>\n",
       "      <td>-1.0</td>\n",
       "      <td>-1.0</td>\n",
       "      <td>-1.0</td>\n",
       "      <td>-1.0</td>\n",
       "      <td>-1.0</td>\n",
       "    </tr>\n",
       "  </tbody>\n",
       "</table>\n",
       "<p>5 rows × 43 columns</p>\n",
       "</div>"
      ],
      "text/plain": [
       "   user_id  merchant_id  label  user_gender_female  user_gender_male  \\\n",
       "0    34176         3906      0                   1                 0   \n",
       "1    34176          121      0                   1                 0   \n",
       "2    34176         4356      1                   1                 0   \n",
       "3    34176         2217      0                   1                 0   \n",
       "4   230784         4818      0                   1                 0   \n",
       "\n",
       "   user_gender_unknown  user_age_0_18  user_age_18_24  user_age_25_29  \\\n",
       "0                    0            0.0             0.0             0.0   \n",
       "1                    0            0.0             0.0             0.0   \n",
       "2                    0            0.0             0.0             0.0   \n",
       "3                    0            0.0             0.0             0.0   \n",
       "4                    0            0.0             0.0             0.0   \n",
       "\n",
       "   user_age_30_34  ...  user_seller_category_count  user_seller_brand_count  \\\n",
       "0             0.0  ...                        -1.0                     -1.0   \n",
       "1             0.0  ...                        -1.0                     -1.0   \n",
       "2             0.0  ...                        -1.0                     -1.0   \n",
       "3             0.0  ...                        -1.0                     -1.0   \n",
       "4             0.0  ...                        -1.0                     -1.0   \n",
       "\n",
       "   user_seller_Click_count  user_seller_Add_to_cart_count  \\\n",
       "0                     -1.0                           -1.0   \n",
       "1                     -1.0                           -1.0   \n",
       "2                     -1.0                           -1.0   \n",
       "3                     -1.0                           -1.0   \n",
       "4                     -1.0                           -1.0   \n",
       "\n",
       "   user_seller_Purchase_count  user_seller_Add_to_favorite_count  \\\n",
       "0                        -1.0                               -1.0   \n",
       "1                        -1.0                               -1.0   \n",
       "2                        -1.0                               -1.0   \n",
       "3                        -1.0                               -1.0   \n",
       "4                        -1.0                               -1.0   \n",
       "\n",
       "   user_seller_total_action  user_seller_active_days  brand_similarity_score  \\\n",
       "0                      -1.0                     -1.0                    -1.0   \n",
       "1                      -1.0                     -1.0                    -1.0   \n",
       "2                      -1.0                     -1.0                    -1.0   \n",
       "3                      -1.0                     -1.0                    -1.0   \n",
       "4                      -1.0                     -1.0                    -1.0   \n",
       "\n",
       "   cat_similarity_score  \n",
       "0                  -1.0  \n",
       "1                  -1.0  \n",
       "2                  -1.0  \n",
       "3                  -1.0  \n",
       "4                  -1.0  \n",
       "\n",
       "[5 rows x 43 columns]"
      ]
     },
     "execution_count": 4,
     "metadata": {},
     "output_type": "execute_result"
    }
   ],
   "source": [
    "df = train_complete.fillna(-1)\n",
    "df.head()"
   ]
  },
  {
   "cell_type": "code",
   "execution_count": 5,
   "metadata": {},
   "outputs": [
    {
     "name": "stdout",
     "output_type": "stream",
     "text": [
      "['user_id', 'merchant_id', 'label', 'user_gender_female', 'user_gender_male', 'user_gender_unknown', 'user_age_0_18', 'user_age_18_24', 'user_age_25_29', 'user_age_30_34', 'user_age_35_39', 'user_age_40_49', 'user_age_50_', 'user_age_unknown', 'user_active_days', 'user_total_action', 'user_Click_Count', 'user_Add_to_cart_count', 'user_purchase_count', 'user_Add_to_favorite_count', 'user_item_count', 'user_category_count', 'user_brand_count', 'seller_item_count', 'seller_category_count', 'seller_brand_count', 'seller_active_days', 'seller_total_action', 'seller_Click_Count', 'seller_Add_to_cart_count', 'seller_purchase_count', 'seller_Add_to_favorite_count', 'user_seller_item_count', 'user_seller_category_count', 'user_seller_brand_count', 'user_seller_Click_count', 'user_seller_Add_to_cart_count', 'user_seller_Purchase_count', 'user_seller_Add_to_favorite_count', 'user_seller_total_action', 'user_seller_active_days', 'brand_similarity_score', 'cat_similarity_score']\n"
     ]
    }
   ],
   "source": [
    "print(list(train_complete.columns))"
   ]
  },
  {
   "cell_type": "code",
   "execution_count": 48,
   "metadata": {},
   "outputs": [],
   "source": [
    "tabular_data = Tabular(\n",
    "    df,\n",
    "    feature_columns=list(train_complete.columns).remove('label'),\n",
    "    target_column='label'\n",
    ")"
   ]
  },
  {
   "cell_type": "code",
   "execution_count": 37,
   "metadata": {},
   "outputs": [
    {
     "name": "stderr",
     "output_type": "stream",
     "text": [
      "c:\\Users\\Daniel\\AppData\\Local\\Programs\\Python\\Python38\\lib\\site-packages\\sklearn\\preprocessing\\_discretization.py:209: FutureWarning:\n",
      "\n",
      "In version 1.3 onwards, subsample=2e5 will be used by default. Set subsample explicitly to silence this warning in the mean time. Set subsample=None to disable subsampling explicitly.\n",
      "\n",
      "c:\\Users\\Daniel\\AppData\\Local\\Programs\\Python\\Python38\\lib\\site-packages\\sklearn\\preprocessing\\_discretization.py:209: FutureWarning:\n",
      "\n",
      "In version 1.3 onwards, subsample=2e5 will be used by default. Set subsample explicitly to silence this warning in the mean time. Set subsample=None to disable subsampling explicitly.\n",
      "\n",
      "c:\\Users\\Daniel\\AppData\\Local\\Programs\\Python\\Python38\\lib\\site-packages\\sklearn\\preprocessing\\_discretization.py:209: FutureWarning:\n",
      "\n",
      "In version 1.3 onwards, subsample=2e5 will be used by default. Set subsample explicitly to silence this warning in the mean time. Set subsample=None to disable subsampling explicitly.\n",
      "\n",
      "c:\\Users\\Daniel\\AppData\\Local\\Programs\\Python\\Python38\\lib\\site-packages\\sklearn\\preprocessing\\_discretization.py:209: FutureWarning:\n",
      "\n",
      "In version 1.3 onwards, subsample=2e5 will be used by default. Set subsample explicitly to silence this warning in the mean time. Set subsample=None to disable subsampling explicitly.\n",
      "\n"
     ]
    }
   ],
   "source": [
    "explainer = DataAnalyzer(\n",
    "    explainers=[\"correlation\", \"imbalance#0\",\"imbalance#1\",\"imbalance#2\", \"mutual\", \"chi2\"],\n",
    "    mode=\"classification\",\n",
    "    data=tabular_data\n",
    ")"
   ]
  },
  {
   "cell_type": "code",
   "execution_count": 38,
   "metadata": {},
   "outputs": [],
   "source": [
    "label = list(df['label'])\n",
    "dataset = df.drop('label', axis='columns')\n",
    "\n",
    "explanations = explainer.explain_global(\n",
    "    params={\"imbalance#0\": {\"features\": [\"user_gender_female\"]},\n",
    "            \"imbalance#1\": {\"features\": [\"seller_category_count\"]},\n",
    "            \"imbalance#2\": {\"features\": [\"user_category_count\"]},\n",
    "            \"correlation\": {\"features\": list(dataset.columns)}\n",
    "            }\n",
    ")"
   ]
  },
  {
   "cell_type": "code",
   "execution_count": 39,
   "metadata": {},
   "outputs": [
    {
     "name": "stdout",
     "output_type": "stream",
     "text": [
      "Correlation:\n"
     ]
    },
    {
     "data": {
      "image/png": "[encoded data removed]",
      "text/plain": [
       "<Figure size 640x480 with 2 Axes>"
      ]
     },
     "execution_count": 39,
     "metadata": {},
     "output_type": "execute_result"
    },
    {
     "data": {
      "image/png": "[encoded data removed]",
      "text/plain": [
       "<Figure size 640x480 with 2 Axes>"
      ]
     },
     "metadata": {},
     "output_type": "display_data"
    }
   ],
   "source": [
    "print(\"Correlation:\")\n",
    "explanations[\"correlation\"].plot()\n"
   ]
  },
  {
   "cell_type": "code",
   "execution_count": 40,
   "metadata": {},
   "outputs": [
    {
     "name": "stdout",
     "output_type": "stream",
     "text": [
      "Imbalance#0:\n"
     ]
    },
    {
     "data": {
      "application/vnd.plotly.v1+json": {
       "config": {
        "linkText": "Export to plot.ly",
        "plotlyServerURL": "https://plot.ly",
        "showLink": false
       },
       "data": [
        {
         "alignmentgroup": "True",
         "hovertemplate": "variable=0<br>value=%{x}<br>Features=%{y}<extra></extra>",
         "legendgroup": "0",
         "marker": {
          "color": "#636efa",
          "pattern": {
           "shape": ""
          }
         },
         "name": "0",
         "offsetgroup": "0",
         "orientation": "h",
         "showlegend": true,
         "textposition": "auto",
         "type": "bar",
         "x": [
          244912
         ],
         "xaxis": "x",
         "y": [
          "0.500"
         ],
         "yaxis": "y"
        },
        {
         "alignmentgroup": "True",
         "hovertemplate": "variable=1<br>value=%{x}<br>Features=%{y}<extra></extra>",
         "legendgroup": "1",
         "marker": {
          "color": "#EF553B",
          "pattern": {
           "shape": ""
          }
         },
         "name": "1",
         "offsetgroup": "1",
         "orientation": "h",
         "showlegend": true,
         "textposition": "auto",
         "type": "bar",
         "x": [
          15952
         ],
         "xaxis": "x",
         "y": [
          "0.500"
         ],
         "yaxis": "y"
        }
       ],
       "layout": {
        "barmode": "relative",
        "legend": {
         "title": {
          "text": "variable"
         },
         "tracegroupgap": 0
        },
        "template": {
         "data": {
          "bar": [
           {
            "error_x": {
             "color": "#2a3f5f"
            },
            "error_y": {
             "color": "#2a3f5f"
            },
            "marker": {
             "line": {
              "color": "#E5ECF6",
              "width": 0.5
             },
             "pattern": {
              "fillmode": "overlay",
              "size": 10,
              "solidity": 0.2
             }
            },
            "type": "bar"
           }
          ],
          "barpolar": [
           {
            "marker": {
             "line": {
              "color": "#E5ECF6",
              "width": 0.5
             },
             "pattern": {
              "fillmode": "overlay",
              "size": 10,
              "solidity": 0.2
             }
            },
            "type": "barpolar"
           }
          ],
          "carpet": [
           {
            "aaxis": {
             "endlinecolor": "#2a3f5f",
             "gridcolor": "white",
             "linecolor": "white",
             "minorgridcolor": "white",
             "startlinecolor": "#2a3f5f"
            },
            "baxis": {
             "endlinecolor": "#2a3f5f",
             "gridcolor": "white",
             "linecolor": "white",
             "minorgridcolor": "white",
             "startlinecolor": "#2a3f5f"
            },
            "type": "carpet"
           }
          ],
          "choropleth": [
           {
            "colorbar": {
             "outlinewidth": 0,
             "ticks": ""
            },
            "type": "choropleth"
           }
          ],
          "contour": [
           {
            "colorbar": {
             "outlinewidth": 0,
             "ticks": ""
            },
            "colorscale": [
             [
              0,
              "#0d0887"
             ],
             [
              0.1111111111111111,
              "#46039f"
             ],
             [
              0.2222222222222222,
              "#7201a8"
             ],
             [
              0.3333333333333333,
              "#9c179e"
             ],
             [
              0.4444444444444444,
              "#bd3786"
             ],
             [
              0.5555555555555556,
              "#d8576b"
             ],
             [
              0.6666666666666666,
              "#ed7953"
             ],
             [
              0.7777777777777778,
              "#fb9f3a"
             ],
             [
              0.8888888888888888,
              "#fdca26"
             ],
             [
              1,
              "#f0f921"
             ]
            ],
            "type": "contour"
           }
          ],
          "contourcarpet": [
           {
            "colorbar": {
             "outlinewidth": 0,
             "ticks": ""
            },
            "type": "contourcarpet"
           }
          ],
          "heatmap": [
           {
            "colorbar": {
             "outlinewidth": 0,
             "ticks": ""
            },
            "colorscale": [
             [
              0,
              "#0d0887"
             ],
             [
              0.1111111111111111,
              "#46039f"
             ],
             [
              0.2222222222222222,
              "#7201a8"
             ],
             [
              0.3333333333333333,
              "#9c179e"
             ],
             [
              0.4444444444444444,
              "#bd3786"
             ],
             [
              0.5555555555555556,
              "#d8576b"
             ],
             [
              0.6666666666666666,
              "#ed7953"
             ],
             [
              0.7777777777777778,
              "#fb9f3a"
             ],
             [
              0.8888888888888888,
              "#fdca26"
             ],
             [
              1,
              "#f0f921"
             ]
            ],
            "type": "heatmap"
           }
          ],
          "heatmapgl": [
           {
            "colorbar": {
             "outlinewidth": 0,
             "ticks": ""
            },
            "colorscale": [
             [
              0,
              "#0d0887"
             ],
             [
              0.1111111111111111,
              "#46039f"
             ],
             [
              0.2222222222222222,
              "#7201a8"
             ],
             [
              0.3333333333333333,
              "#9c179e"
             ],
             [
              0.4444444444444444,
              "#bd3786"
             ],
             [
              0.5555555555555556,
              "#d8576b"
             ],
             [
              0.6666666666666666,
              "#ed7953"
             ],
             [
              0.7777777777777778,
              "#fb9f3a"
             ],
             [
              0.8888888888888888,
              "#fdca26"
             ],
             [
              1,
              "#f0f921"
             ]
            ],
            "type": "heatmapgl"
           }
          ],
          "histogram": [
           {
            "marker": {
             "pattern": {
              "fillmode": "overlay",
              "size": 10,
              "solidity": 0.2
             }
            },
            "type": "histogram"
           }
          ],
          "histogram2d": [
           {
            "colorbar": {
             "outlinewidth": 0,
             "ticks": ""
            },
            "colorscale": [
             [
              0,
              "#0d0887"
             ],
             [
              0.1111111111111111,
              "#46039f"
             ],
             [
              0.2222222222222222,
              "#7201a8"
             ],
             [
              0.3333333333333333,
              "#9c179e"
             ],
             [
              0.4444444444444444,
              "#bd3786"
             ],
             [
              0.5555555555555556,
              "#d8576b"
             ],
             [
              0.6666666666666666,
              "#ed7953"
             ],
             [
              0.7777777777777778,
              "#fb9f3a"
             ],
             [
              0.8888888888888888,
              "#fdca26"
             ],
             [
              1,
              "#f0f921"
             ]
            ],
            "type": "histogram2d"
           }
          ],
          "histogram2dcontour": [
           {
            "colorbar": {
             "outlinewidth": 0,
             "ticks": ""
            },
            "colorscale": [
             [
              0,
              "#0d0887"
             ],
             [
              0.1111111111111111,
              "#46039f"
             ],
             [
              0.2222222222222222,
              "#7201a8"
             ],
             [
              0.3333333333333333,
              "#9c179e"
             ],
             [
              0.4444444444444444,
              "#bd3786"
             ],
             [
              0.5555555555555556,
              "#d8576b"
             ],
             [
              0.6666666666666666,
              "#ed7953"
             ],
             [
              0.7777777777777778,
              "#fb9f3a"
             ],
             [
              0.8888888888888888,
              "#fdca26"
             ],
             [
              1,
              "#f0f921"
             ]
            ],
            "type": "histogram2dcontour"
           }
          ],
          "mesh3d": [
           {
            "colorbar": {
             "outlinewidth": 0,
             "ticks": ""
            },
            "type": "mesh3d"
           }
          ],
          "parcoords": [
           {
            "line": {
             "colorbar": {
              "outlinewidth": 0,
              "ticks": ""
             }
            },
            "type": "parcoords"
           }
          ],
          "pie": [
           {
            "automargin": true,
            "type": "pie"
           }
          ],
          "scatter": [
           {
            "fillpattern": {
             "fillmode": "overlay",
             "size": 10,
             "solidity": 0.2
            },
            "type": "scatter"
           }
          ],
          "scatter3d": [
           {
            "line": {
             "colorbar": {
              "outlinewidth": 0,
              "ticks": ""
             }
            },
            "marker": {
             "colorbar": {
              "outlinewidth": 0,
              "ticks": ""
             }
            },
            "type": "scatter3d"
           }
          ],
          "scattercarpet": [
           {
            "marker": {
             "colorbar": {
              "outlinewidth": 0,
              "ticks": ""
             }
            },
            "type": "scattercarpet"
           }
          ],
          "scattergeo": [
           {
            "marker": {
             "colorbar": {
              "outlinewidth": 0,
              "ticks": ""
             }
            },
            "type": "scattergeo"
           }
          ],
          "scattergl": [
           {
            "marker": {
             "colorbar": {
              "outlinewidth": 0,
              "ticks": ""
             }
            },
            "type": "scattergl"
           }
          ],
          "scattermapbox": [
           {
            "marker": {
             "colorbar": {
              "outlinewidth": 0,
              "ticks": ""
             }
            },
            "type": "scattermapbox"
           }
          ],
          "scatterpolar": [
           {
            "marker": {
             "colorbar": {
              "outlinewidth": 0,
              "ticks": ""
             }
            },
            "type": "scatterpolar"
           }
          ],
          "scatterpolargl": [
           {
            "marker": {
             "colorbar": {
              "outlinewidth": 0,
              "ticks": ""
             }
            },
            "type": "scatterpolargl"
           }
          ],
          "scatterternary": [
           {
            "marker": {
             "colorbar": {
              "outlinewidth": 0,
              "ticks": ""
             }
            },
            "type": "scatterternary"
           }
          ],
          "surface": [
           {
            "colorbar": {
             "outlinewidth": 0,
             "ticks": ""
            },
            "colorscale": [
             [
              0,
              "#0d0887"
             ],
             [
              0.1111111111111111,
              "#46039f"
             ],
             [
              0.2222222222222222,
              "#7201a8"
             ],
             [
              0.3333333333333333,
              "#9c179e"
             ],
             [
              0.4444444444444444,
              "#bd3786"
             ],
             [
              0.5555555555555556,
              "#d8576b"
             ],
             [
              0.6666666666666666,
              "#ed7953"
             ],
             [
              0.7777777777777778,
              "#fb9f3a"
             ],
             [
              0.8888888888888888,
              "#fdca26"
             ],
             [
              1,
              "#f0f921"
             ]
            ],
            "type": "surface"
           }
          ],
          "table": [
           {
            "cells": {
             "fill": {
              "color": "#EBF0F8"
             },
             "line": {
              "color": "white"
             }
            },
            "header": {
             "fill": {
              "color": "#C8D4E3"
             },
             "line": {
              "color": "white"
             }
            },
            "type": "table"
           }
          ]
         },
         "layout": {
          "annotationdefaults": {
           "arrowcolor": "#2a3f5f",
           "arrowhead": 0,
           "arrowwidth": 1
          },
          "autotypenumbers": "strict",
          "coloraxis": {
           "colorbar": {
            "outlinewidth": 0,
            "ticks": ""
           }
          },
          "colorscale": {
           "diverging": [
            [
             0,
             "#8e0152"
            ],
            [
             0.1,
             "#c51b7d"
            ],
            [
             0.2,
             "#de77ae"
            ],
            [
             0.3,
             "#f1b6da"
            ],
            [
             0.4,
             "#fde0ef"
            ],
            [
             0.5,
             "#f7f7f7"
            ],
            [
             0.6,
             "#e6f5d0"
            ],
            [
             0.7,
             "#b8e186"
            ],
            [
             0.8,
             "#7fbc41"
            ],
            [
             0.9,
             "#4d9221"
            ],
            [
             1,
             "#276419"
            ]
           ],
           "sequential": [
            [
             0,
             "#0d0887"
            ],
            [
             0.1111111111111111,
             "#46039f"
            ],
            [
             0.2222222222222222,
             "#7201a8"
            ],
            [
             0.3333333333333333,
             "#9c179e"
            ],
            [
             0.4444444444444444,
             "#bd3786"
            ],
            [
             0.5555555555555556,
             "#d8576b"
            ],
            [
             0.6666666666666666,
             "#ed7953"
            ],
            [
             0.7777777777777778,
             "#fb9f3a"
            ],
            [
             0.8888888888888888,
             "#fdca26"
            ],
            [
             1,
             "#f0f921"
            ]
           ],
           "sequentialminus": [
            [
             0,
             "#0d0887"
            ],
            [
             0.1111111111111111,
             "#46039f"
            ],
            [
             0.2222222222222222,
             "#7201a8"
            ],
            [
             0.3333333333333333,
             "#9c179e"
            ],
            [
             0.4444444444444444,
             "#bd3786"
            ],
            [
             0.5555555555555556,
             "#d8576b"
            ],
            [
             0.6666666666666666,
             "#ed7953"
            ],
            [
             0.7777777777777778,
             "#fb9f3a"
            ],
            [
             0.8888888888888888,
             "#fdca26"
            ],
            [
             1,
             "#f0f921"
            ]
           ]
          },
          "colorway": [
           "#636efa",
           "#EF553B",
           "#00cc96",
           "#ab63fa",
           "#FFA15A",
           "#19d3f3",
           "#FF6692",
           "#B6E880",
           "#FF97FF",
           "#FECB52"
          ],
          "font": {
           "color": "#2a3f5f"
          },
          "geo": {
           "bgcolor": "white",
           "lakecolor": "white",
           "landcolor": "#E5ECF6",
           "showlakes": true,
           "showland": true,
           "subunitcolor": "white"
          },
          "hoverlabel": {
           "align": "left"
          },
          "hovermode": "closest",
          "mapbox": {
           "style": "light"
          },
          "paper_bgcolor": "white",
          "plot_bgcolor": "#E5ECF6",
          "polar": {
           "angularaxis": {
            "gridcolor": "white",
            "linecolor": "white",
            "ticks": ""
           },
           "bgcolor": "#E5ECF6",
           "radialaxis": {
            "gridcolor": "white",
            "linecolor": "white",
            "ticks": ""
           }
          },
          "scene": {
           "xaxis": {
            "backgroundcolor": "#E5ECF6",
            "gridcolor": "white",
            "gridwidth": 2,
            "linecolor": "white",
            "showbackground": true,
            "ticks": "",
            "zerolinecolor": "white"
           },
           "yaxis": {
            "backgroundcolor": "#E5ECF6",
            "gridcolor": "white",
            "gridwidth": 2,
            "linecolor": "white",
            "showbackground": true,
            "ticks": "",
            "zerolinecolor": "white"
           },
           "zaxis": {
            "backgroundcolor": "#E5ECF6",
            "gridcolor": "white",
            "gridwidth": 2,
            "linecolor": "white",
            "showbackground": true,
            "ticks": "",
            "zerolinecolor": "white"
           }
          },
          "shapedefaults": {
           "line": {
            "color": "#2a3f5f"
           }
          },
          "ternary": {
           "aaxis": {
            "gridcolor": "white",
            "linecolor": "white",
            "ticks": ""
           },
           "baxis": {
            "gridcolor": "white",
            "linecolor": "white",
            "ticks": ""
           },
           "bgcolor": "#E5ECF6",
           "caxis": {
            "gridcolor": "white",
            "linecolor": "white",
            "ticks": ""
           }
          },
          "title": {
           "x": 0.05
          },
          "xaxis": {
           "automargin": true,
           "gridcolor": "white",
           "linecolor": "white",
           "ticks": "",
           "title": {
            "standoff": 15
           },
           "zerolinecolor": "white",
           "zerolinewidth": 2
          },
          "yaxis": {
           "automargin": true,
           "gridcolor": "white",
           "linecolor": "white",
           "ticks": "",
           "title": {
            "standoff": 15
           },
           "zerolinecolor": "white",
           "zerolinewidth": 2
          }
         }
        },
        "title": {
         "text": "Imbalance Plot"
        },
        "xaxis": {
         "anchor": "y",
         "domain": [
          0,
          1
         ],
         "title": {
          "text": "value"
         }
        },
        "yaxis": {
         "anchor": "x",
         "domain": [
          0,
          1
         ],
         "title": {
          "text": "Features"
         }
        }
       }
      }
     },
     "metadata": {},
     "output_type": "display_data"
    }
   ],
   "source": [
    "print(\"Imbalance#0:\")\n",
    "explanations[\"imbalance#0\"].ipython_plot()"
   ]
  },
  {
   "cell_type": "code",
   "execution_count": 41,
   "metadata": {},
   "outputs": [
    {
     "name": "stdout",
     "output_type": "stream",
     "text": [
      "Imbalance#1:\n"
     ]
    },
    {
     "data": {
      "application/vnd.plotly.v1+json": {
       "config": {
        "linkText": "Export to plot.ly",
        "plotlyServerURL": "https://plot.ly",
        "showLink": false
       },
       "data": [
        {
         "alignmentgroup": "True",
         "hovertemplate": "variable=0<br>value=%{x}<br>Features=%{y}<extra></extra>",
         "legendgroup": "0",
         "marker": {
          "color": "#636efa",
          "pattern": {
           "shape": ""
          }
         },
         "name": "0",
         "offsetgroup": "0",
         "orientation": "h",
         "showlegend": true,
         "textposition": "auto",
         "type": "bar",
         "x": [
          244912
         ],
         "xaxis": "x",
         "y": [
          "0.500"
         ],
         "yaxis": "y"
        },
        {
         "alignmentgroup": "True",
         "hovertemplate": "variable=1<br>value=%{x}<br>Features=%{y}<extra></extra>",
         "legendgroup": "1",
         "marker": {
          "color": "#EF553B",
          "pattern": {
           "shape": ""
          }
         },
         "name": "1",
         "offsetgroup": "1",
         "orientation": "h",
         "showlegend": true,
         "textposition": "auto",
         "type": "bar",
         "x": [
          15952
         ],
         "xaxis": "x",
         "y": [
          "0.500"
         ],
         "yaxis": "y"
        }
       ],
       "layout": {
        "barmode": "relative",
        "legend": {
         "title": {
          "text": "variable"
         },
         "tracegroupgap": 0
        },
        "template": {
         "data": {
          "bar": [
           {
            "error_x": {
             "color": "#2a3f5f"
            },
            "error_y": {
             "color": "#2a3f5f"
            },
            "marker": {
             "line": {
              "color": "#E5ECF6",
              "width": 0.5
             },
             "pattern": {
              "fillmode": "overlay",
              "size": 10,
              "solidity": 0.2
             }
            },
            "type": "bar"
           }
          ],
          "barpolar": [
           {
            "marker": {
             "line": {
              "color": "#E5ECF6",
              "width": 0.5
             },
             "pattern": {
              "fillmode": "overlay",
              "size": 10,
              "solidity": 0.2
             }
            },
            "type": "barpolar"
           }
          ],
          "carpet": [
           {
            "aaxis": {
             "endlinecolor": "#2a3f5f",
             "gridcolor": "white",
             "linecolor": "white",
             "minorgridcolor": "white",
             "startlinecolor": "#2a3f5f"
            },
            "baxis": {
             "endlinecolor": "#2a3f5f",
             "gridcolor": "white",
             "linecolor": "white",
             "minorgridcolor": "white",
             "startlinecolor": "#2a3f5f"
            },
            "type": "carpet"
           }
          ],
          "choropleth": [
           {
            "colorbar": {
             "outlinewidth": 0,
             "ticks": ""
            },
            "type": "choropleth"
           }
          ],
          "contour": [
           {
            "colorbar": {
             "outlinewidth": 0,
             "ticks": ""
            },
            "colorscale": [
             [
              0,
              "#0d0887"
             ],
             [
              0.1111111111111111,
              "#46039f"
             ],
             [
              0.2222222222222222,
              "#7201a8"
             ],
             [
              0.3333333333333333,
              "#9c179e"
             ],
             [
              0.4444444444444444,
              "#bd3786"
             ],
             [
              0.5555555555555556,
              "#d8576b"
             ],
             [
              0.6666666666666666,
              "#ed7953"
             ],
             [
              0.7777777777777778,
              "#fb9f3a"
             ],
             [
              0.8888888888888888,
              "#fdca26"
             ],
             [
              1,
              "#f0f921"
             ]
            ],
            "type": "contour"
           }
          ],
          "contourcarpet": [
           {
            "colorbar": {
             "outlinewidth": 0,
             "ticks": ""
            },
            "type": "contourcarpet"
           }
          ],
          "heatmap": [
           {
            "colorbar": {
             "outlinewidth": 0,
             "ticks": ""
            },
            "colorscale": [
             [
              0,
              "#0d0887"
             ],
             [
              0.1111111111111111,
              "#46039f"
             ],
             [
              0.2222222222222222,
              "#7201a8"
             ],
             [
              0.3333333333333333,
              "#9c179e"
             ],
             [
              0.4444444444444444,
              "#bd3786"
             ],
             [
              0.5555555555555556,
              "#d8576b"
             ],
             [
              0.6666666666666666,
              "#ed7953"
             ],
             [
              0.7777777777777778,
              "#fb9f3a"
             ],
             [
              0.8888888888888888,
              "#fdca26"
             ],
             [
              1,
              "#f0f921"
             ]
            ],
            "type": "heatmap"
           }
          ],
          "heatmapgl": [
           {
            "colorbar": {
             "outlinewidth": 0,
             "ticks": ""
            },
            "colorscale": [
             [
              0,
              "#0d0887"
             ],
             [
              0.1111111111111111,
              "#46039f"
             ],
             [
              0.2222222222222222,
              "#7201a8"
             ],
             [
              0.3333333333333333,
              "#9c179e"
             ],
             [
              0.4444444444444444,
              "#bd3786"
             ],
             [
              0.5555555555555556,
              "#d8576b"
             ],
             [
              0.6666666666666666,
              "#ed7953"
             ],
             [
              0.7777777777777778,
              "#fb9f3a"
             ],
             [
              0.8888888888888888,
              "#fdca26"
             ],
             [
              1,
              "#f0f921"
             ]
            ],
            "type": "heatmapgl"
           }
          ],
          "histogram": [
           {
            "marker": {
             "pattern": {
              "fillmode": "overlay",
              "size": 10,
              "solidity": 0.2
             }
            },
            "type": "histogram"
           }
          ],
          "histogram2d": [
           {
            "colorbar": {
             "outlinewidth": 0,
             "ticks": ""
            },
            "colorscale": [
             [
              0,
              "#0d0887"
             ],
             [
              0.1111111111111111,
              "#46039f"
             ],
             [
              0.2222222222222222,
              "#7201a8"
             ],
             [
              0.3333333333333333,
              "#9c179e"
             ],
             [
              0.4444444444444444,
              "#bd3786"
             ],
             [
              0.5555555555555556,
              "#d8576b"
             ],
             [
              0.6666666666666666,
              "#ed7953"
             ],
             [
              0.7777777777777778,
              "#fb9f3a"
             ],
             [
              0.8888888888888888,
              "#fdca26"
             ],
             [
              1,
              "#f0f921"
             ]
            ],
            "type": "histogram2d"
           }
          ],
          "histogram2dcontour": [
           {
            "colorbar": {
             "outlinewidth": 0,
             "ticks": ""
            },
            "colorscale": [
             [
              0,
              "#0d0887"
             ],
             [
              0.1111111111111111,
              "#46039f"
             ],
             [
              0.2222222222222222,
              "#7201a8"
             ],
             [
              0.3333333333333333,
              "#9c179e"
             ],
             [
              0.4444444444444444,
              "#bd3786"
             ],
             [
              0.5555555555555556,
              "#d8576b"
             ],
             [
              0.6666666666666666,
              "#ed7953"
             ],
             [
              0.7777777777777778,
              "#fb9f3a"
             ],
             [
              0.8888888888888888,
              "#fdca26"
             ],
             [
              1,
              "#f0f921"
             ]
            ],
            "type": "histogram2dcontour"
           }
          ],
          "mesh3d": [
           {
            "colorbar": {
             "outlinewidth": 0,
             "ticks": ""
            },
            "type": "mesh3d"
           }
          ],
          "parcoords": [
           {
            "line": {
             "colorbar": {
              "outlinewidth": 0,
              "ticks": ""
             }
            },
            "type": "parcoords"
           }
          ],
          "pie": [
           {
            "automargin": true,
            "type": "pie"
           }
          ],
          "scatter": [
           {
            "fillpattern": {
             "fillmode": "overlay",
             "size": 10,
             "solidity": 0.2
            },
            "type": "scatter"
           }
          ],
          "scatter3d": [
           {
            "line": {
             "colorbar": {
              "outlinewidth": 0,
              "ticks": ""
             }
            },
            "marker": {
             "colorbar": {
              "outlinewidth": 0,
              "ticks": ""
             }
            },
            "type": "scatter3d"
           }
          ],
          "scattercarpet": [
           {
            "marker": {
             "colorbar": {
              "outlinewidth": 0,
              "ticks": ""
             }
            },
            "type": "scattercarpet"
           }
          ],
          "scattergeo": [
           {
            "marker": {
             "colorbar": {
              "outlinewidth": 0,
              "ticks": ""
             }
            },
            "type": "scattergeo"
           }
          ],
          "scattergl": [
           {
            "marker": {
             "colorbar": {
              "outlinewidth": 0,
              "ticks": ""
             }
            },
            "type": "scattergl"
           }
          ],
          "scattermapbox": [
           {
            "marker": {
             "colorbar": {
              "outlinewidth": 0,
              "ticks": ""
             }
            },
            "type": "scattermapbox"
           }
          ],
          "scatterpolar": [
           {
            "marker": {
             "colorbar": {
              "outlinewidth": 0,
              "ticks": ""
             }
            },
            "type": "scatterpolar"
           }
          ],
          "scatterpolargl": [
           {
            "marker": {
             "colorbar": {
              "outlinewidth": 0,
              "ticks": ""
             }
            },
            "type": "scatterpolargl"
           }
          ],
          "scatterternary": [
           {
            "marker": {
             "colorbar": {
              "outlinewidth": 0,
              "ticks": ""
             }
            },
            "type": "scatterternary"
           }
          ],
          "surface": [
           {
            "colorbar": {
             "outlinewidth": 0,
             "ticks": ""
            },
            "colorscale": [
             [
              0,
              "#0d0887"
             ],
             [
              0.1111111111111111,
              "#46039f"
             ],
             [
              0.2222222222222222,
              "#7201a8"
             ],
             [
              0.3333333333333333,
              "#9c179e"
             ],
             [
              0.4444444444444444,
              "#bd3786"
             ],
             [
              0.5555555555555556,
              "#d8576b"
             ],
             [
              0.6666666666666666,
              "#ed7953"
             ],
             [
              0.7777777777777778,
              "#fb9f3a"
             ],
             [
              0.8888888888888888,
              "#fdca26"
             ],
             [
              1,
              "#f0f921"
             ]
            ],
            "type": "surface"
           }
          ],
          "table": [
           {
            "cells": {
             "fill": {
              "color": "#EBF0F8"
             },
             "line": {
              "color": "white"
             }
            },
            "header": {
             "fill": {
              "color": "#C8D4E3"
             },
             "line": {
              "color": "white"
             }
            },
            "type": "table"
           }
          ]
         },
         "layout": {
          "annotationdefaults": {
           "arrowcolor": "#2a3f5f",
           "arrowhead": 0,
           "arrowwidth": 1
          },
          "autotypenumbers": "strict",
          "coloraxis": {
           "colorbar": {
            "outlinewidth": 0,
            "ticks": ""
           }
          },
          "colorscale": {
           "diverging": [
            [
             0,
             "#8e0152"
            ],
            [
             0.1,
             "#c51b7d"
            ],
            [
             0.2,
             "#de77ae"
            ],
            [
             0.3,
             "#f1b6da"
            ],
            [
             0.4,
             "#fde0ef"
            ],
            [
             0.5,
             "#f7f7f7"
            ],
            [
             0.6,
             "#e6f5d0"
            ],
            [
             0.7,
             "#b8e186"
            ],
            [
             0.8,
             "#7fbc41"
            ],
            [
             0.9,
             "#4d9221"
            ],
            [
             1,
             "#276419"
            ]
           ],
           "sequential": [
            [
             0,
             "#0d0887"
            ],
            [
             0.1111111111111111,
             "#46039f"
            ],
            [
             0.2222222222222222,
             "#7201a8"
            ],
            [
             0.3333333333333333,
             "#9c179e"
            ],
            [
             0.4444444444444444,
             "#bd3786"
            ],
            [
             0.5555555555555556,
             "#d8576b"
            ],
            [
             0.6666666666666666,
             "#ed7953"
            ],
            [
             0.7777777777777778,
             "#fb9f3a"
            ],
            [
             0.8888888888888888,
             "#fdca26"
            ],
            [
             1,
             "#f0f921"
            ]
           ],
           "sequentialminus": [
            [
             0,
             "#0d0887"
            ],
            [
             0.1111111111111111,
             "#46039f"
            ],
            [
             0.2222222222222222,
             "#7201a8"
            ],
            [
             0.3333333333333333,
             "#9c179e"
            ],
            [
             0.4444444444444444,
             "#bd3786"
            ],
            [
             0.5555555555555556,
             "#d8576b"
            ],
            [
             0.6666666666666666,
             "#ed7953"
            ],
            [
             0.7777777777777778,
             "#fb9f3a"
            ],
            [
             0.8888888888888888,
             "#fdca26"
            ],
            [
             1,
             "#f0f921"
            ]
           ]
          },
          "colorway": [
           "#636efa",
           "#EF553B",
           "#00cc96",
           "#ab63fa",
           "#FFA15A",
           "#19d3f3",
           "#FF6692",
           "#B6E880",
           "#FF97FF",
           "#FECB52"
          ],
          "font": {
           "color": "#2a3f5f"
          },
          "geo": {
           "bgcolor": "white",
           "lakecolor": "white",
           "landcolor": "#E5ECF6",
           "showlakes": true,
           "showland": true,
           "subunitcolor": "white"
          },
          "hoverlabel": {
           "align": "left"
          },
          "hovermode": "closest",
          "mapbox": {
           "style": "light"
          },
          "paper_bgcolor": "white",
          "plot_bgcolor": "#E5ECF6",
          "polar": {
           "angularaxis": {
            "gridcolor": "white",
            "linecolor": "white",
            "ticks": ""
           },
           "bgcolor": "#E5ECF6",
           "radialaxis": {
            "gridcolor": "white",
            "linecolor": "white",
            "ticks": ""
           }
          },
          "scene": {
           "xaxis": {
            "backgroundcolor": "#E5ECF6",
            "gridcolor": "white",
            "gridwidth": 2,
            "linecolor": "white",
            "showbackground": true,
            "ticks": "",
            "zerolinecolor": "white"
           },
           "yaxis": {
            "backgroundcolor": "#E5ECF6",
            "gridcolor": "white",
            "gridwidth": 2,
            "linecolor": "white",
            "showbackground": true,
            "ticks": "",
            "zerolinecolor": "white"
           },
           "zaxis": {
            "backgroundcolor": "#E5ECF6",
            "gridcolor": "white",
            "gridwidth": 2,
            "linecolor": "white",
            "showbackground": true,
            "ticks": "",
            "zerolinecolor": "white"
           }
          },
          "shapedefaults": {
           "line": {
            "color": "#2a3f5f"
           }
          },
          "ternary": {
           "aaxis": {
            "gridcolor": "white",
            "linecolor": "white",
            "ticks": ""
           },
           "baxis": {
            "gridcolor": "white",
            "linecolor": "white",
            "ticks": ""
           },
           "bgcolor": "#E5ECF6",
           "caxis": {
            "gridcolor": "white",
            "linecolor": "white",
            "ticks": ""
           }
          },
          "title": {
           "x": 0.05
          },
          "xaxis": {
           "automargin": true,
           "gridcolor": "white",
           "linecolor": "white",
           "ticks": "",
           "title": {
            "standoff": 15
           },
           "zerolinecolor": "white",
           "zerolinewidth": 2
          },
          "yaxis": {
           "automargin": true,
           "gridcolor": "white",
           "linecolor": "white",
           "ticks": "",
           "title": {
            "standoff": 15
           },
           "zerolinecolor": "white",
           "zerolinewidth": 2
          }
         }
        },
        "title": {
         "text": "Imbalance Plot"
        },
        "xaxis": {
         "anchor": "y",
         "domain": [
          0,
          1
         ],
         "title": {
          "text": "value"
         }
        },
        "yaxis": {
         "anchor": "x",
         "domain": [
          0,
          1
         ],
         "title": {
          "text": "Features"
         }
        }
       }
      }
     },
     "metadata": {},
     "output_type": "display_data"
    }
   ],
   "source": [
    "print(\"Imbalance#1:\")\n",
    "explanations[\"imbalance#1\"].ipython_plot()"
   ]
  },
  {
   "cell_type": "code",
   "execution_count": 42,
   "metadata": {},
   "outputs": [
    {
     "name": "stdout",
     "output_type": "stream",
     "text": [
      "Imbalance#1:\n"
     ]
    },
    {
     "data": {
      "application/vnd.plotly.v1+json": {
       "config": {
        "linkText": "Export to plot.ly",
        "plotlyServerURL": "https://plot.ly",
        "showLink": false
       },
       "data": [
        {
         "alignmentgroup": "True",
         "hovertemplate": "variable=0<br>value=%{x}<br>Features=%{y}<extra></extra>",
         "legendgroup": "0",
         "marker": {
          "color": "#636efa",
          "pattern": {
           "shape": ""
          }
         },
         "name": "0",
         "offsetgroup": "0",
         "orientation": "h",
         "showlegend": true,
         "textposition": "auto",
         "type": "bar",
         "x": [
          244912
         ],
         "xaxis": "x",
         "y": [
          "0"
         ],
         "yaxis": "y"
        },
        {
         "alignmentgroup": "True",
         "hovertemplate": "variable=1<br>value=%{x}<br>Features=%{y}<extra></extra>",
         "legendgroup": "1",
         "marker": {
          "color": "#EF553B",
          "pattern": {
           "shape": ""
          }
         },
         "name": "1",
         "offsetgroup": "1",
         "orientation": "h",
         "showlegend": true,
         "textposition": "auto",
         "type": "bar",
         "x": [
          15952
         ],
         "xaxis": "x",
         "y": [
          "0"
         ],
         "yaxis": "y"
        }
       ],
       "layout": {
        "barmode": "relative",
        "legend": {
         "title": {
          "text": "variable"
         },
         "tracegroupgap": 0
        },
        "template": {
         "data": {
          "bar": [
           {
            "error_x": {
             "color": "#2a3f5f"
            },
            "error_y": {
             "color": "#2a3f5f"
            },
            "marker": {
             "line": {
              "color": "#E5ECF6",
              "width": 0.5
             },
             "pattern": {
              "fillmode": "overlay",
              "size": 10,
              "solidity": 0.2
             }
            },
            "type": "bar"
           }
          ],
          "barpolar": [
           {
            "marker": {
             "line": {
              "color": "#E5ECF6",
              "width": 0.5
             },
             "pattern": {
              "fillmode": "overlay",
              "size": 10,
              "solidity": 0.2
             }
            },
            "type": "barpolar"
           }
          ],
          "carpet": [
           {
            "aaxis": {
             "endlinecolor": "#2a3f5f",
             "gridcolor": "white",
             "linecolor": "white",
             "minorgridcolor": "white",
             "startlinecolor": "#2a3f5f"
            },
            "baxis": {
             "endlinecolor": "#2a3f5f",
             "gridcolor": "white",
             "linecolor": "white",
             "minorgridcolor": "white",
             "startlinecolor": "#2a3f5f"
            },
            "type": "carpet"
           }
          ],
          "choropleth": [
           {
            "colorbar": {
             "outlinewidth": 0,
             "ticks": ""
            },
            "type": "choropleth"
           }
          ],
          "contour": [
           {
            "colorbar": {
             "outlinewidth": 0,
             "ticks": ""
            },
            "colorscale": [
             [
              0,
              "#0d0887"
             ],
             [
              0.1111111111111111,
              "#46039f"
             ],
             [
              0.2222222222222222,
              "#7201a8"
             ],
             [
              0.3333333333333333,
              "#9c179e"
             ],
             [
              0.4444444444444444,
              "#bd3786"
             ],
             [
              0.5555555555555556,
              "#d8576b"
             ],
             [
              0.6666666666666666,
              "#ed7953"
             ],
             [
              0.7777777777777778,
              "#fb9f3a"
             ],
             [
              0.8888888888888888,
              "#fdca26"
             ],
             [
              1,
              "#f0f921"
             ]
            ],
            "type": "contour"
           }
          ],
          "contourcarpet": [
           {
            "colorbar": {
             "outlinewidth": 0,
             "ticks": ""
            },
            "type": "contourcarpet"
           }
          ],
          "heatmap": [
           {
            "colorbar": {
             "outlinewidth": 0,
             "ticks": ""
            },
            "colorscale": [
             [
              0,
              "#0d0887"
             ],
             [
              0.1111111111111111,
              "#46039f"
             ],
             [
              0.2222222222222222,
              "#7201a8"
             ],
             [
              0.3333333333333333,
              "#9c179e"
             ],
             [
              0.4444444444444444,
              "#bd3786"
             ],
             [
              0.5555555555555556,
              "#d8576b"
             ],
             [
              0.6666666666666666,
              "#ed7953"
             ],
             [
              0.7777777777777778,
              "#fb9f3a"
             ],
             [
              0.8888888888888888,
              "#fdca26"
             ],
             [
              1,
              "#f0f921"
             ]
            ],
            "type": "heatmap"
           }
          ],
          "heatmapgl": [
           {
            "colorbar": {
             "outlinewidth": 0,
             "ticks": ""
            },
            "colorscale": [
             [
              0,
              "#0d0887"
             ],
             [
              0.1111111111111111,
              "#46039f"
             ],
             [
              0.2222222222222222,
              "#7201a8"
             ],
             [
              0.3333333333333333,
              "#9c179e"
             ],
             [
              0.4444444444444444,
              "#bd3786"
             ],
             [
              0.5555555555555556,
              "#d8576b"
             ],
             [
              0.6666666666666666,
              "#ed7953"
             ],
             [
              0.7777777777777778,
              "#fb9f3a"
             ],
             [
              0.8888888888888888,
              "#fdca26"
             ],
             [
              1,
              "#f0f921"
             ]
            ],
            "type": "heatmapgl"
           }
          ],
          "histogram": [
           {
            "marker": {
             "pattern": {
              "fillmode": "overlay",
              "size": 10,
              "solidity": 0.2
             }
            },
            "type": "histogram"
           }
          ],
          "histogram2d": [
           {
            "colorbar": {
             "outlinewidth": 0,
             "ticks": ""
            },
            "colorscale": [
             [
              0,
              "#0d0887"
             ],
             [
              0.1111111111111111,
              "#46039f"
             ],
             [
              0.2222222222222222,
              "#7201a8"
             ],
             [
              0.3333333333333333,
              "#9c179e"
             ],
             [
              0.4444444444444444,
              "#bd3786"
             ],
             [
              0.5555555555555556,
              "#d8576b"
             ],
             [
              0.6666666666666666,
              "#ed7953"
             ],
             [
              0.7777777777777778,
              "#fb9f3a"
             ],
             [
              0.8888888888888888,
              "#fdca26"
             ],
             [
              1,
              "#f0f921"
             ]
            ],
            "type": "histogram2d"
           }
          ],
          "histogram2dcontour": [
           {
            "colorbar": {
             "outlinewidth": 0,
             "ticks": ""
            },
            "colorscale": [
             [
              0,
              "#0d0887"
             ],
             [
              0.1111111111111111,
              "#46039f"
             ],
             [
              0.2222222222222222,
              "#7201a8"
             ],
             [
              0.3333333333333333,
              "#9c179e"
             ],
             [
              0.4444444444444444,
              "#bd3786"
             ],
             [
              0.5555555555555556,
              "#d8576b"
             ],
             [
              0.6666666666666666,
              "#ed7953"
             ],
             [
              0.7777777777777778,
              "#fb9f3a"
             ],
             [
              0.8888888888888888,
              "#fdca26"
             ],
             [
              1,
              "#f0f921"
             ]
            ],
            "type": "histogram2dcontour"
           }
          ],
          "mesh3d": [
           {
            "colorbar": {
             "outlinewidth": 0,
             "ticks": ""
            },
            "type": "mesh3d"
           }
          ],
          "parcoords": [
           {
            "line": {
             "colorbar": {
              "outlinewidth": 0,
              "ticks": ""
             }
            },
            "type": "parcoords"
           }
          ],
          "pie": [
           {
            "automargin": true,
            "type": "pie"
           }
          ],
          "scatter": [
           {
            "fillpattern": {
             "fillmode": "overlay",
             "size": 10,
             "solidity": 0.2
            },
            "type": "scatter"
           }
          ],
          "scatter3d": [
           {
            "line": {
             "colorbar": {
              "outlinewidth": 0,
              "ticks": ""
             }
            },
            "marker": {
             "colorbar": {
              "outlinewidth": 0,
              "ticks": ""
             }
            },
            "type": "scatter3d"
           }
          ],
          "scattercarpet": [
           {
            "marker": {
             "colorbar": {
              "outlinewidth": 0,
              "ticks": ""
             }
            },
            "type": "scattercarpet"
           }
          ],
          "scattergeo": [
           {
            "marker": {
             "colorbar": {
              "outlinewidth": 0,
              "ticks": ""
             }
            },
            "type": "scattergeo"
           }
          ],
          "scattergl": [
           {
            "marker": {
             "colorbar": {
              "outlinewidth": 0,
              "ticks": ""
             }
            },
            "type": "scattergl"
           }
          ],
          "scattermapbox": [
           {
            "marker": {
             "colorbar": {
              "outlinewidth": 0,
              "ticks": ""
             }
            },
            "type": "scattermapbox"
           }
          ],
          "scatterpolar": [
           {
            "marker": {
             "colorbar": {
              "outlinewidth": 0,
              "ticks": ""
             }
            },
            "type": "scatterpolar"
           }
          ],
          "scatterpolargl": [
           {
            "marker": {
             "colorbar": {
              "outlinewidth": 0,
              "ticks": ""
             }
            },
            "type": "scatterpolargl"
           }
          ],
          "scatterternary": [
           {
            "marker": {
             "colorbar": {
              "outlinewidth": 0,
              "ticks": ""
             }
            },
            "type": "scatterternary"
           }
          ],
          "surface": [
           {
            "colorbar": {
             "outlinewidth": 0,
             "ticks": ""
            },
            "colorscale": [
             [
              0,
              "#0d0887"
             ],
             [
              0.1111111111111111,
              "#46039f"
             ],
             [
              0.2222222222222222,
              "#7201a8"
             ],
             [
              0.3333333333333333,
              "#9c179e"
             ],
             [
              0.4444444444444444,
              "#bd3786"
             ],
             [
              0.5555555555555556,
              "#d8576b"
             ],
             [
              0.6666666666666666,
              "#ed7953"
             ],
             [
              0.7777777777777778,
              "#fb9f3a"
             ],
             [
              0.8888888888888888,
              "#fdca26"
             ],
             [
              1,
              "#f0f921"
             ]
            ],
            "type": "surface"
           }
          ],
          "table": [
           {
            "cells": {
             "fill": {
              "color": "#EBF0F8"
             },
             "line": {
              "color": "white"
             }
            },
            "header": {
             "fill": {
              "color": "#C8D4E3"
             },
             "line": {
              "color": "white"
             }
            },
            "type": "table"
           }
          ]
         },
         "layout": {
          "annotationdefaults": {
           "arrowcolor": "#2a3f5f",
           "arrowhead": 0,
           "arrowwidth": 1
          },
          "autotypenumbers": "strict",
          "coloraxis": {
           "colorbar": {
            "outlinewidth": 0,
            "ticks": ""
           }
          },
          "colorscale": {
           "diverging": [
            [
             0,
             "#8e0152"
            ],
            [
             0.1,
             "#c51b7d"
            ],
            [
             0.2,
             "#de77ae"
            ],
            [
             0.3,
             "#f1b6da"
            ],
            [
             0.4,
             "#fde0ef"
            ],
            [
             0.5,
             "#f7f7f7"
            ],
            [
             0.6,
             "#e6f5d0"
            ],
            [
             0.7,
             "#b8e186"
            ],
            [
             0.8,
             "#7fbc41"
            ],
            [
             0.9,
             "#4d9221"
            ],
            [
             1,
             "#276419"
            ]
           ],
           "sequential": [
            [
             0,
             "#0d0887"
            ],
            [
             0.1111111111111111,
             "#46039f"
            ],
            [
             0.2222222222222222,
             "#7201a8"
            ],
            [
             0.3333333333333333,
             "#9c179e"
            ],
            [
             0.4444444444444444,
             "#bd3786"
            ],
            [
             0.5555555555555556,
             "#d8576b"
            ],
            [
             0.6666666666666666,
             "#ed7953"
            ],
            [
             0.7777777777777778,
             "#fb9f3a"
            ],
            [
             0.8888888888888888,
             "#fdca26"
            ],
            [
             1,
             "#f0f921"
            ]
           ],
           "sequentialminus": [
            [
             0,
             "#0d0887"
            ],
            [
             0.1111111111111111,
             "#46039f"
            ],
            [
             0.2222222222222222,
             "#7201a8"
            ],
            [
             0.3333333333333333,
             "#9c179e"
            ],
            [
             0.4444444444444444,
             "#bd3786"
            ],
            [
             0.5555555555555556,
             "#d8576b"
            ],
            [
             0.6666666666666666,
             "#ed7953"
            ],
            [
             0.7777777777777778,
             "#fb9f3a"
            ],
            [
             0.8888888888888888,
             "#fdca26"
            ],
            [
             1,
             "#f0f921"
            ]
           ]
          },
          "colorway": [
           "#636efa",
           "#EF553B",
           "#00cc96",
           "#ab63fa",
           "#FFA15A",
           "#19d3f3",
           "#FF6692",
           "#B6E880",
           "#FF97FF",
           "#FECB52"
          ],
          "font": {
           "color": "#2a3f5f"
          },
          "geo": {
           "bgcolor": "white",
           "lakecolor": "white",
           "landcolor": "#E5ECF6",
           "showlakes": true,
           "showland": true,
           "subunitcolor": "white"
          },
          "hoverlabel": {
           "align": "left"
          },
          "hovermode": "closest",
          "mapbox": {
           "style": "light"
          },
          "paper_bgcolor": "white",
          "plot_bgcolor": "#E5ECF6",
          "polar": {
           "angularaxis": {
            "gridcolor": "white",
            "linecolor": "white",
            "ticks": ""
           },
           "bgcolor": "#E5ECF6",
           "radialaxis": {
            "gridcolor": "white",
            "linecolor": "white",
            "ticks": ""
           }
          },
          "scene": {
           "xaxis": {
            "backgroundcolor": "#E5ECF6",
            "gridcolor": "white",
            "gridwidth": 2,
            "linecolor": "white",
            "showbackground": true,
            "ticks": "",
            "zerolinecolor": "white"
           },
           "yaxis": {
            "backgroundcolor": "#E5ECF6",
            "gridcolor": "white",
            "gridwidth": 2,
            "linecolor": "white",
            "showbackground": true,
            "ticks": "",
            "zerolinecolor": "white"
           },
           "zaxis": {
            "backgroundcolor": "#E5ECF6",
            "gridcolor": "white",
            "gridwidth": 2,
            "linecolor": "white",
            "showbackground": true,
            "ticks": "",
            "zerolinecolor": "white"
           }
          },
          "shapedefaults": {
           "line": {
            "color": "#2a3f5f"
           }
          },
          "ternary": {
           "aaxis": {
            "gridcolor": "white",
            "linecolor": "white",
            "ticks": ""
           },
           "baxis": {
            "gridcolor": "white",
            "linecolor": "white",
            "ticks": ""
           },
           "bgcolor": "#E5ECF6",
           "caxis": {
            "gridcolor": "white",
            "linecolor": "white",
            "ticks": ""
           }
          },
          "title": {
           "x": 0.05
          },
          "xaxis": {
           "automargin": true,
           "gridcolor": "white",
           "linecolor": "white",
           "ticks": "",
           "title": {
            "standoff": 15
           },
           "zerolinecolor": "white",
           "zerolinewidth": 2
          },
          "yaxis": {
           "automargin": true,
           "gridcolor": "white",
           "linecolor": "white",
           "ticks": "",
           "title": {
            "standoff": 15
           },
           "zerolinecolor": "white",
           "zerolinewidth": 2
          }
         }
        },
        "title": {
         "text": "Imbalance Plot"
        },
        "xaxis": {
         "anchor": "y",
         "domain": [
          0,
          1
         ],
         "title": {
          "text": "value"
         }
        },
        "yaxis": {
         "anchor": "x",
         "domain": [
          0,
          1
         ],
         "title": {
          "text": "Features"
         }
        }
       }
      }
     },
     "metadata": {},
     "output_type": "display_data"
    }
   ],
   "source": [
    "print(\"Imbalance#1:\")\n",
    "explanations[\"imbalance#2\"].ipython_plot()"
   ]
  },
  {
   "cell_type": "code",
   "execution_count": 20,
   "metadata": {},
   "outputs": [
    {
     "name": "stdout",
     "output_type": "stream",
     "text": [
      "Mutual:\n"
     ]
    },
    {
     "data": {
      "image/png": "[encoded data removed]",
      "text/plain": [
       "<Figure size 640x480 with 1 Axes>"
      ]
     },
     "execution_count": 20,
     "metadata": {},
     "output_type": "execute_result"
    },
    {
     "data": {
      "image/png": "[encoded data removed]",
      "text/plain": [
       "<Figure size 640x480 with 1 Axes>"
      ]
     },
     "metadata": {},
     "output_type": "display_data"
    }
   ],
   "source": [
    "print(\"Mutual:\")\n",
    "explanations[\"mutual\"].plot()"
   ]
  },
  {
   "cell_type": "code",
   "execution_count": 21,
   "metadata": {},
   "outputs": [
    {
     "name": "stdout",
     "output_type": "stream",
     "text": [
      "chi2:\n"
     ]
    },
    {
     "data": {
      "image/png": "[encoded data removed]",
      "text/plain": [
       "<Figure size 640x480 with 1 Axes>"
      ]
     },
     "execution_count": 21,
     "metadata": {},
     "output_type": "execute_result"
    },
    {
     "data": {
      "image/png": "[encoded data removed]",
      "text/plain": [
       "<Figure size 640x480 with 1 Axes>"
      ]
     },
     "metadata": {},
     "output_type": "display_data"
    }
   ],
   "source": [
    "print(\"chi2:\")\n",
    "explanations[\"chi2\"].plot()"
   ]
  },
  {
   "attachments": {},
   "cell_type": "markdown",
   "metadata": {},
   "source": [
    "Testing Pearson Coefficient  \n",
    "  \n",
    "High degree: If the coefficient value lies between ± 0.50 and ± 1, then it is said to be a strong correlation.   \n",
    "Moderate degree: If the value lies between ± 0.30 and ± 0.49, then it is said to be a medium correlation.   \n",
    "Low degree: When the value lies below + . 29, then it is said to be a small correlation."
   ]
  },
  {
   "cell_type": "code",
   "execution_count": 10,
   "metadata": {},
   "outputs": [
    {
     "name": "stdout",
     "output_type": "stream",
     "text": [
      "0.0015270771518201287\n"
     ]
    }
   ],
   "source": [
    "from scipy.stats import pearsonr\n",
    "corr, _ = pearsonr(df['user_id'], df['merchant_id'])\n",
    "print(corr)"
   ]
  },
  {
   "cell_type": "code",
   "execution_count": 11,
   "metadata": {},
   "outputs": [
    {
     "data": {
      "text/html": [
       "<div>\n",
       "<style scoped>\n",
       "    .dataframe tbody tr th:only-of-type {\n",
       "        vertical-align: middle;\n",
       "    }\n",
       "\n",
       "    .dataframe tbody tr th {\n",
       "        vertical-align: top;\n",
       "    }\n",
       "\n",
       "    .dataframe thead th {\n",
       "        text-align: right;\n",
       "    }\n",
       "</style>\n",
       "<table border=\"1\" class=\"dataframe\">\n",
       "  <thead>\n",
       "    <tr style=\"text-align: right;\">\n",
       "      <th></th>\n",
       "      <th>user_id</th>\n",
       "      <th>merchant_id</th>\n",
       "      <th>label</th>\n",
       "      <th>user_gender_female</th>\n",
       "      <th>user_gender_male</th>\n",
       "      <th>user_gender_unknown</th>\n",
       "      <th>user_age_0_18</th>\n",
       "      <th>user_age_18_24</th>\n",
       "      <th>user_age_25_29</th>\n",
       "      <th>user_age_30_34</th>\n",
       "      <th>...</th>\n",
       "      <th>user_seller_category_count</th>\n",
       "      <th>user_seller_brand_count</th>\n",
       "      <th>user_seller_Click_count</th>\n",
       "      <th>user_seller_Add_to_cart_count</th>\n",
       "      <th>user_seller_Purchase_count</th>\n",
       "      <th>user_seller_Add_to_favorite_count</th>\n",
       "      <th>user_seller_total_action</th>\n",
       "      <th>user_seller_active_days</th>\n",
       "      <th>brand_similarity_score</th>\n",
       "      <th>cat_similarity_score</th>\n",
       "    </tr>\n",
       "  </thead>\n",
       "  <tbody>\n",
       "    <tr>\n",
       "      <th>user_id</th>\n",
       "      <td>1.000000</td>\n",
       "      <td>0.001527</td>\n",
       "      <td>-0.001317</td>\n",
       "      <td>-0.000916</td>\n",
       "      <td>-0.000176</td>\n",
       "      <td>0.002562</td>\n",
       "      <td>0.001995</td>\n",
       "      <td>-0.005018</td>\n",
       "      <td>0.004116</td>\n",
       "      <td>0.004736</td>\n",
       "      <td>...</td>\n",
       "      <td>-0.002693</td>\n",
       "      <td>-0.002693</td>\n",
       "      <td>-0.001977</td>\n",
       "      <td>-0.002693</td>\n",
       "      <td>-0.001451</td>\n",
       "      <td>-0.002587</td>\n",
       "      <td>-0.001583</td>\n",
       "      <td>-0.002485</td>\n",
       "      <td>-0.003213</td>\n",
       "      <td>-0.001620</td>\n",
       "    </tr>\n",
       "    <tr>\n",
       "      <th>merchant_id</th>\n",
       "      <td>0.001527</td>\n",
       "      <td>1.000000</td>\n",
       "      <td>0.001175</td>\n",
       "      <td>-0.009003</td>\n",
       "      <td>0.009916</td>\n",
       "      <td>-0.001275</td>\n",
       "      <td>-0.003989</td>\n",
       "      <td>0.013206</td>\n",
       "      <td>0.002450</td>\n",
       "      <td>-0.009737</td>\n",
       "      <td>...</td>\n",
       "      <td>0.012678</td>\n",
       "      <td>0.012678</td>\n",
       "      <td>0.008896</td>\n",
       "      <td>0.012678</td>\n",
       "      <td>0.010761</td>\n",
       "      <td>0.011886</td>\n",
       "      <td>0.008307</td>\n",
       "      <td>0.011356</td>\n",
       "      <td>0.013297</td>\n",
       "      <td>0.008116</td>\n",
       "    </tr>\n",
       "    <tr>\n",
       "      <th>label</th>\n",
       "      <td>-0.001317</td>\n",
       "      <td>0.001175</td>\n",
       "      <td>1.000000</td>\n",
       "      <td>0.020487</td>\n",
       "      <td>-0.019228</td>\n",
       "      <td>-0.004676</td>\n",
       "      <td>-0.001499</td>\n",
       "      <td>-0.013384</td>\n",
       "      <td>-0.003039</td>\n",
       "      <td>0.009349</td>\n",
       "      <td>...</td>\n",
       "      <td>0.003562</td>\n",
       "      <td>0.003562</td>\n",
       "      <td>0.002041</td>\n",
       "      <td>0.003562</td>\n",
       "      <td>0.001575</td>\n",
       "      <td>0.003875</td>\n",
       "      <td>0.001604</td>\n",
       "      <td>0.003948</td>\n",
       "      <td>0.002497</td>\n",
       "      <td>0.002491</td>\n",
       "    </tr>\n",
       "    <tr>\n",
       "      <th>user_gender_female</th>\n",
       "      <td>-0.000916</td>\n",
       "      <td>-0.009003</td>\n",
       "      <td>0.020487</td>\n",
       "      <td>1.000000</td>\n",
       "      <td>-0.907443</td>\n",
       "      <td>-0.298827</td>\n",
       "      <td>-0.001167</td>\n",
       "      <td>-0.020469</td>\n",
       "      <td>0.000017</td>\n",
       "      <td>-0.020215</td>\n",
       "      <td>...</td>\n",
       "      <td>-0.005889</td>\n",
       "      <td>-0.005889</td>\n",
       "      <td>-0.005779</td>\n",
       "      <td>-0.005889</td>\n",
       "      <td>-0.005816</td>\n",
       "      <td>-0.006089</td>\n",
       "      <td>-0.005734</td>\n",
       "      <td>-0.006024</td>\n",
       "      <td>-0.007677</td>\n",
       "      <td>-0.005367</td>\n",
       "    </tr>\n",
       "    <tr>\n",
       "      <th>user_gender_male</th>\n",
       "      <td>-0.000176</td>\n",
       "      <td>0.009916</td>\n",
       "      <td>-0.019228</td>\n",
       "      <td>-0.907443</td>\n",
       "      <td>1.000000</td>\n",
       "      <td>-0.129809</td>\n",
       "      <td>0.000660</td>\n",
       "      <td>0.034537</td>\n",
       "      <td>0.005282</td>\n",
       "      <td>0.007717</td>\n",
       "      <td>...</td>\n",
       "      <td>0.007098</td>\n",
       "      <td>0.007098</td>\n",
       "      <td>0.007213</td>\n",
       "      <td>0.007098</td>\n",
       "      <td>0.007199</td>\n",
       "      <td>0.007365</td>\n",
       "      <td>0.007198</td>\n",
       "      <td>0.007337</td>\n",
       "      <td>0.009088</td>\n",
       "      <td>0.006805</td>\n",
       "    </tr>\n",
       "    <tr>\n",
       "      <th>user_gender_unknown</th>\n",
       "      <td>0.002562</td>\n",
       "      <td>-0.001275</td>\n",
       "      <td>-0.004676</td>\n",
       "      <td>-0.298827</td>\n",
       "      <td>-0.129809</td>\n",
       "      <td>1.000000</td>\n",
       "      <td>0.001254</td>\n",
       "      <td>-0.030137</td>\n",
       "      <td>-0.012036</td>\n",
       "      <td>0.030177</td>\n",
       "      <td>...</td>\n",
       "      <td>-0.002225</td>\n",
       "      <td>-0.002225</td>\n",
       "      <td>-0.002745</td>\n",
       "      <td>-0.002225</td>\n",
       "      <td>-0.002626</td>\n",
       "      <td>-0.002359</td>\n",
       "      <td>-0.002817</td>\n",
       "      <td>-0.002449</td>\n",
       "      <td>-0.002526</td>\n",
       "      <td>-0.002791</td>\n",
       "    </tr>\n",
       "    <tr>\n",
       "      <th>user_age_0_18</th>\n",
       "      <td>0.001995</td>\n",
       "      <td>-0.003989</td>\n",
       "      <td>-0.001499</td>\n",
       "      <td>-0.001167</td>\n",
       "      <td>0.000660</td>\n",
       "      <td>0.001254</td>\n",
       "      <td>1.000000</td>\n",
       "      <td>0.000829</td>\n",
       "      <td>-0.001299</td>\n",
       "      <td>-0.000425</td>\n",
       "      <td>...</td>\n",
       "      <td>-0.000150</td>\n",
       "      <td>-0.000150</td>\n",
       "      <td>-0.000128</td>\n",
       "      <td>-0.000150</td>\n",
       "      <td>-0.000141</td>\n",
       "      <td>-0.000144</td>\n",
       "      <td>-0.000124</td>\n",
       "      <td>-0.000143</td>\n",
       "      <td>-0.000093</td>\n",
       "      <td>-0.000125</td>\n",
       "    </tr>\n",
       "    <tr>\n",
       "      <th>user_age_18_24</th>\n",
       "      <td>-0.005018</td>\n",
       "      <td>0.013206</td>\n",
       "      <td>-0.013384</td>\n",
       "      <td>-0.020469</td>\n",
       "      <td>0.034537</td>\n",
       "      <td>-0.030137</td>\n",
       "      <td>0.000829</td>\n",
       "      <td>1.000000</td>\n",
       "      <td>-0.221950</td>\n",
       "      <td>-0.182483</td>\n",
       "      <td>...</td>\n",
       "      <td>0.003514</td>\n",
       "      <td>0.003514</td>\n",
       "      <td>0.002710</td>\n",
       "      <td>0.003514</td>\n",
       "      <td>0.003139</td>\n",
       "      <td>0.003331</td>\n",
       "      <td>0.002579</td>\n",
       "      <td>0.002779</td>\n",
       "      <td>0.002126</td>\n",
       "      <td>0.002321</td>\n",
       "    </tr>\n",
       "    <tr>\n",
       "      <th>user_age_25_29</th>\n",
       "      <td>0.004116</td>\n",
       "      <td>0.002450</td>\n",
       "      <td>-0.003039</td>\n",
       "      <td>0.000017</td>\n",
       "      <td>0.005282</td>\n",
       "      <td>-0.012036</td>\n",
       "      <td>-0.001299</td>\n",
       "      <td>-0.221950</td>\n",
       "      <td>1.000000</td>\n",
       "      <td>-0.295195</td>\n",
       "      <td>...</td>\n",
       "      <td>-0.001931</td>\n",
       "      <td>-0.001931</td>\n",
       "      <td>-0.002516</td>\n",
       "      <td>-0.001931</td>\n",
       "      <td>-0.002075</td>\n",
       "      <td>-0.001866</td>\n",
       "      <td>-0.002443</td>\n",
       "      <td>-0.001802</td>\n",
       "      <td>-0.000675</td>\n",
       "      <td>-0.002360</td>\n",
       "    </tr>\n",
       "    <tr>\n",
       "      <th>user_age_30_34</th>\n",
       "      <td>0.004736</td>\n",
       "      <td>-0.009737</td>\n",
       "      <td>0.009349</td>\n",
       "      <td>-0.020215</td>\n",
       "      <td>0.007717</td>\n",
       "      <td>0.030177</td>\n",
       "      <td>-0.000425</td>\n",
       "      <td>-0.182483</td>\n",
       "      <td>-0.295195</td>\n",
       "      <td>1.000000</td>\n",
       "      <td>...</td>\n",
       "      <td>0.000374</td>\n",
       "      <td>0.000374</td>\n",
       "      <td>0.000757</td>\n",
       "      <td>0.000374</td>\n",
       "      <td>0.000686</td>\n",
       "      <td>-0.000189</td>\n",
       "      <td>0.000649</td>\n",
       "      <td>0.000609</td>\n",
       "      <td>-0.001238</td>\n",
       "      <td>0.000450</td>\n",
       "    </tr>\n",
       "    <tr>\n",
       "      <th>user_age_35_39</th>\n",
       "      <td>0.001225</td>\n",
       "      <td>-0.006554</td>\n",
       "      <td>0.010381</td>\n",
       "      <td>0.002367</td>\n",
       "      <td>-0.001147</td>\n",
       "      <td>-0.002982</td>\n",
       "      <td>0.001357</td>\n",
       "      <td>-0.122020</td>\n",
       "      <td>-0.197421</td>\n",
       "      <td>-0.162313</td>\n",
       "      <td>...</td>\n",
       "      <td>-0.004337</td>\n",
       "      <td>-0.004337</td>\n",
       "      <td>-0.003521</td>\n",
       "      <td>-0.004337</td>\n",
       "      <td>-0.004402</td>\n",
       "      <td>-0.004470</td>\n",
       "      <td>-0.003612</td>\n",
       "      <td>-0.004361</td>\n",
       "      <td>-0.002454</td>\n",
       "      <td>-0.003522</td>\n",
       "    </tr>\n",
       "    <tr>\n",
       "      <th>user_age_40_49</th>\n",
       "      <td>-0.003487</td>\n",
       "      <td>-0.007011</td>\n",
       "      <td>0.004627</td>\n",
       "      <td>0.019471</td>\n",
       "      <td>-0.008049</td>\n",
       "      <td>-0.027669</td>\n",
       "      <td>0.001766</td>\n",
       "      <td>-0.111732</td>\n",
       "      <td>-0.180787</td>\n",
       "      <td>-0.148633</td>\n",
       "      <td>...</td>\n",
       "      <td>-0.002783</td>\n",
       "      <td>-0.002783</td>\n",
       "      <td>-0.001395</td>\n",
       "      <td>-0.002783</td>\n",
       "      <td>-0.002647</td>\n",
       "      <td>-0.002539</td>\n",
       "      <td>-0.001408</td>\n",
       "      <td>-0.002717</td>\n",
       "      <td>-0.002113</td>\n",
       "      <td>-0.001586</td>\n",
       "    </tr>\n",
       "    <tr>\n",
       "      <th>user_age_50_</th>\n",
       "      <td>-0.000979</td>\n",
       "      <td>-0.003417</td>\n",
       "      <td>-0.002409</td>\n",
       "      <td>-0.002499</td>\n",
       "      <td>0.006104</td>\n",
       "      <td>-0.007966</td>\n",
       "      <td>0.006439</td>\n",
       "      <td>-0.050776</td>\n",
       "      <td>-0.082277</td>\n",
       "      <td>-0.067615</td>\n",
       "      <td>...</td>\n",
       "      <td>0.000960</td>\n",
       "      <td>0.000960</td>\n",
       "      <td>0.000857</td>\n",
       "      <td>0.000960</td>\n",
       "      <td>0.000967</td>\n",
       "      <td>0.000619</td>\n",
       "      <td>0.000761</td>\n",
       "      <td>0.000446</td>\n",
       "      <td>0.002111</td>\n",
       "      <td>0.000642</td>\n",
       "    </tr>\n",
       "    <tr>\n",
       "      <th>user_age_unknown</th>\n",
       "      <td>-0.001804</td>\n",
       "      <td>0.001576</td>\n",
       "      <td>-0.005923</td>\n",
       "      <td>-0.067101</td>\n",
       "      <td>-0.028590</td>\n",
       "      <td>0.223280</td>\n",
       "      <td>0.013401</td>\n",
       "      <td>-0.025968</td>\n",
       "      <td>-0.042292</td>\n",
       "      <td>-0.034704</td>\n",
       "      <td>...</td>\n",
       "      <td>-0.001807</td>\n",
       "      <td>-0.001807</td>\n",
       "      <td>-0.001542</td>\n",
       "      <td>-0.001807</td>\n",
       "      <td>-0.001698</td>\n",
       "      <td>-0.001746</td>\n",
       "      <td>-0.001493</td>\n",
       "      <td>-0.001729</td>\n",
       "      <td>-0.001124</td>\n",
       "      <td>-0.001507</td>\n",
       "    </tr>\n",
       "    <tr>\n",
       "      <th>user_active_days</th>\n",
       "      <td>0.002646</td>\n",
       "      <td>0.001088</td>\n",
       "      <td>0.005051</td>\n",
       "      <td>-0.000009</td>\n",
       "      <td>-0.001188</td>\n",
       "      <td>0.002719</td>\n",
       "      <td>0.008656</td>\n",
       "      <td>-0.002404</td>\n",
       "      <td>0.002764</td>\n",
       "      <td>0.010708</td>\n",
       "      <td>...</td>\n",
       "      <td>0.271770</td>\n",
       "      <td>0.271770</td>\n",
       "      <td>0.261473</td>\n",
       "      <td>0.271770</td>\n",
       "      <td>0.263818</td>\n",
       "      <td>0.273499</td>\n",
       "      <td>0.256381</td>\n",
       "      <td>0.283380</td>\n",
       "      <td>0.193068</td>\n",
       "      <td>0.257062</td>\n",
       "    </tr>\n",
       "    <tr>\n",
       "      <th>user_total_action</th>\n",
       "      <td>0.001666</td>\n",
       "      <td>0.000369</td>\n",
       "      <td>0.003610</td>\n",
       "      <td>-0.001024</td>\n",
       "      <td>-0.000470</td>\n",
       "      <td>0.003485</td>\n",
       "      <td>0.007223</td>\n",
       "      <td>-0.002474</td>\n",
       "      <td>0.000741</td>\n",
       "      <td>0.010057</td>\n",
       "      <td>...</td>\n",
       "      <td>0.271295</td>\n",
       "      <td>0.271295</td>\n",
       "      <td>0.319658</td>\n",
       "      <td>0.271295</td>\n",
       "      <td>0.290994</td>\n",
       "      <td>0.290400</td>\n",
       "      <td>0.321394</td>\n",
       "      <td>0.296070</td>\n",
       "      <td>0.250742</td>\n",
       "      <td>0.314380</td>\n",
       "    </tr>\n",
       "    <tr>\n",
       "      <th>user_Click_Count</th>\n",
       "      <td>0.001563</td>\n",
       "      <td>0.000759</td>\n",
       "      <td>0.003850</td>\n",
       "      <td>-0.001044</td>\n",
       "      <td>-0.000606</td>\n",
       "      <td>0.003840</td>\n",
       "      <td>0.006346</td>\n",
       "      <td>-0.002756</td>\n",
       "      <td>0.000714</td>\n",
       "      <td>0.009892</td>\n",
       "      <td>...</td>\n",
       "      <td>0.272049</td>\n",
       "      <td>0.272049</td>\n",
       "      <td>0.313184</td>\n",
       "      <td>0.272049</td>\n",
       "      <td>0.279863</td>\n",
       "      <td>0.284888</td>\n",
       "      <td>0.310110</td>\n",
       "      <td>0.293094</td>\n",
       "      <td>0.244518</td>\n",
       "      <td>0.304993</td>\n",
       "    </tr>\n",
       "    <tr>\n",
       "      <th>user_Add_to_cart_count</th>\n",
       "      <td>0.002474</td>\n",
       "      <td>0.001262</td>\n",
       "      <td>0.005219</td>\n",
       "      <td>0.000538</td>\n",
       "      <td>-0.001857</td>\n",
       "      <td>0.002948</td>\n",
       "      <td>0.009677</td>\n",
       "      <td>-0.002687</td>\n",
       "      <td>0.003968</td>\n",
       "      <td>0.009201</td>\n",
       "      <td>...</td>\n",
       "      <td>0.263946</td>\n",
       "      <td>0.263946</td>\n",
       "      <td>0.225202</td>\n",
       "      <td>0.263946</td>\n",
       "      <td>0.247982</td>\n",
       "      <td>0.254991</td>\n",
       "      <td>0.218070</td>\n",
       "      <td>0.252447</td>\n",
       "      <td>0.164207</td>\n",
       "      <td>0.220042</td>\n",
       "    </tr>\n",
       "    <tr>\n",
       "      <th>user_purchase_count</th>\n",
       "      <td>0.001932</td>\n",
       "      <td>0.000178</td>\n",
       "      <td>0.003953</td>\n",
       "      <td>0.000632</td>\n",
       "      <td>-0.001715</td>\n",
       "      <td>0.002403</td>\n",
       "      <td>0.012309</td>\n",
       "      <td>-0.002283</td>\n",
       "      <td>0.004068</td>\n",
       "      <td>0.009157</td>\n",
       "      <td>...</td>\n",
       "      <td>0.271816</td>\n",
       "      <td>0.271816</td>\n",
       "      <td>0.256583</td>\n",
       "      <td>0.271816</td>\n",
       "      <td>0.289583</td>\n",
       "      <td>0.269688</td>\n",
       "      <td>0.259502</td>\n",
       "      <td>0.269677</td>\n",
       "      <td>0.186500</td>\n",
       "      <td>0.254398</td>\n",
       "    </tr>\n",
       "    <tr>\n",
       "      <th>user_Add_to_favorite_count</th>\n",
       "      <td>0.002827</td>\n",
       "      <td>0.001077</td>\n",
       "      <td>0.005432</td>\n",
       "      <td>0.000344</td>\n",
       "      <td>-0.001564</td>\n",
       "      <td>0.002740</td>\n",
       "      <td>0.008392</td>\n",
       "      <td>-0.002191</td>\n",
       "      <td>0.002848</td>\n",
       "      <td>0.009892</td>\n",
       "      <td>...</td>\n",
       "      <td>0.252042</td>\n",
       "      <td>0.252042</td>\n",
       "      <td>0.233007</td>\n",
       "      <td>0.252042</td>\n",
       "      <td>0.242370</td>\n",
       "      <td>0.260476</td>\n",
       "      <td>0.230607</td>\n",
       "      <td>0.251019</td>\n",
       "      <td>0.179469</td>\n",
       "      <td>0.232413</td>\n",
       "    </tr>\n",
       "    <tr>\n",
       "      <th>user_item_count</th>\n",
       "      <td>0.000027</td>\n",
       "      <td>-0.003662</td>\n",
       "      <td>0.000723</td>\n",
       "      <td>0.001412</td>\n",
       "      <td>-0.000554</td>\n",
       "      <td>-0.002074</td>\n",
       "      <td>-0.000115</td>\n",
       "      <td>-0.004250</td>\n",
       "      <td>0.000701</td>\n",
       "      <td>0.002699</td>\n",
       "      <td>...</td>\n",
       "      <td>0.068768</td>\n",
       "      <td>0.068768</td>\n",
       "      <td>0.099054</td>\n",
       "      <td>0.068768</td>\n",
       "      <td>0.087657</td>\n",
       "      <td>0.075463</td>\n",
       "      <td>0.102393</td>\n",
       "      <td>0.087913</td>\n",
       "      <td>0.044596</td>\n",
       "      <td>0.099320</td>\n",
       "    </tr>\n",
       "    <tr>\n",
       "      <th>user_category_count</th>\n",
       "      <td>0.000639</td>\n",
       "      <td>-0.004349</td>\n",
       "      <td>0.000852</td>\n",
       "      <td>0.000091</td>\n",
       "      <td>0.000009</td>\n",
       "      <td>-0.000234</td>\n",
       "      <td>-0.000084</td>\n",
       "      <td>-0.003630</td>\n",
       "      <td>-0.000612</td>\n",
       "      <td>0.002473</td>\n",
       "      <td>...</td>\n",
       "      <td>0.063061</td>\n",
       "      <td>0.063061</td>\n",
       "      <td>0.084707</td>\n",
       "      <td>0.063061</td>\n",
       "      <td>0.080351</td>\n",
       "      <td>0.075510</td>\n",
       "      <td>0.090282</td>\n",
       "      <td>0.085084</td>\n",
       "      <td>0.011003</td>\n",
       "      <td>0.097069</td>\n",
       "    </tr>\n",
       "    <tr>\n",
       "      <th>user_brand_count</th>\n",
       "      <td>0.000639</td>\n",
       "      <td>-0.004349</td>\n",
       "      <td>0.000852</td>\n",
       "      <td>0.000091</td>\n",
       "      <td>0.000009</td>\n",
       "      <td>-0.000234</td>\n",
       "      <td>-0.000084</td>\n",
       "      <td>-0.003630</td>\n",
       "      <td>-0.000612</td>\n",
       "      <td>0.002473</td>\n",
       "      <td>...</td>\n",
       "      <td>0.063061</td>\n",
       "      <td>0.063061</td>\n",
       "      <td>0.084707</td>\n",
       "      <td>0.063061</td>\n",
       "      <td>0.080351</td>\n",
       "      <td>0.075510</td>\n",
       "      <td>0.090282</td>\n",
       "      <td>0.085084</td>\n",
       "      <td>0.011003</td>\n",
       "      <td>0.097069</td>\n",
       "    </tr>\n",
       "    <tr>\n",
       "      <th>seller_item_count</th>\n",
       "      <td>0.000248</td>\n",
       "      <td>0.047058</td>\n",
       "      <td>0.030204</td>\n",
       "      <td>0.007150</td>\n",
       "      <td>-0.006049</td>\n",
       "      <td>-0.003134</td>\n",
       "      <td>0.003069</td>\n",
       "      <td>-0.001249</td>\n",
       "      <td>0.013686</td>\n",
       "      <td>0.002020</td>\n",
       "      <td>...</td>\n",
       "      <td>0.093493</td>\n",
       "      <td>0.093493</td>\n",
       "      <td>0.079261</td>\n",
       "      <td>0.093493</td>\n",
       "      <td>0.087871</td>\n",
       "      <td>0.090168</td>\n",
       "      <td>0.076764</td>\n",
       "      <td>0.088922</td>\n",
       "      <td>0.056275</td>\n",
       "      <td>0.076942</td>\n",
       "    </tr>\n",
       "    <tr>\n",
       "      <th>seller_category_count</th>\n",
       "      <td>-0.000471</td>\n",
       "      <td>0.091284</td>\n",
       "      <td>0.037664</td>\n",
       "      <td>0.005363</td>\n",
       "      <td>-0.005283</td>\n",
       "      <td>-0.000658</td>\n",
       "      <td>0.001744</td>\n",
       "      <td>-0.001363</td>\n",
       "      <td>0.010749</td>\n",
       "      <td>-0.001303</td>\n",
       "      <td>...</td>\n",
       "      <td>0.079350</td>\n",
       "      <td>0.079350</td>\n",
       "      <td>0.064584</td>\n",
       "      <td>0.079350</td>\n",
       "      <td>0.070937</td>\n",
       "      <td>0.077043</td>\n",
       "      <td>0.061737</td>\n",
       "      <td>0.076540</td>\n",
       "      <td>0.039013</td>\n",
       "      <td>0.070710</td>\n",
       "    </tr>\n",
       "    <tr>\n",
       "      <th>seller_brand_count</th>\n",
       "      <td>0.000357</td>\n",
       "      <td>0.048433</td>\n",
       "      <td>0.032663</td>\n",
       "      <td>-0.006894</td>\n",
       "      <td>0.008091</td>\n",
       "      <td>-0.002106</td>\n",
       "      <td>0.003393</td>\n",
       "      <td>0.002963</td>\n",
       "      <td>0.017513</td>\n",
       "      <td>0.002503</td>\n",
       "      <td>...</td>\n",
       "      <td>0.107997</td>\n",
       "      <td>0.107997</td>\n",
       "      <td>0.091915</td>\n",
       "      <td>0.107997</td>\n",
       "      <td>0.099327</td>\n",
       "      <td>0.104477</td>\n",
       "      <td>0.088360</td>\n",
       "      <td>0.103776</td>\n",
       "      <td>0.071093</td>\n",
       "      <td>0.091201</td>\n",
       "    </tr>\n",
       "    <tr>\n",
       "      <th>seller_active_days</th>\n",
       "      <td>-0.001414</td>\n",
       "      <td>0.146608</td>\n",
       "      <td>0.041884</td>\n",
       "      <td>-0.004836</td>\n",
       "      <td>0.005392</td>\n",
       "      <td>-0.000835</td>\n",
       "      <td>0.002028</td>\n",
       "      <td>-0.002665</td>\n",
       "      <td>0.009763</td>\n",
       "      <td>-0.001236</td>\n",
       "      <td>...</td>\n",
       "      <td>0.105628</td>\n",
       "      <td>0.105628</td>\n",
       "      <td>0.088161</td>\n",
       "      <td>0.105628</td>\n",
       "      <td>0.092957</td>\n",
       "      <td>0.102249</td>\n",
       "      <td>0.083531</td>\n",
       "      <td>0.101749</td>\n",
       "      <td>0.091561</td>\n",
       "      <td>0.089311</td>\n",
       "    </tr>\n",
       "    <tr>\n",
       "      <th>seller_total_action</th>\n",
       "      <td>-0.001242</td>\n",
       "      <td>0.137197</td>\n",
       "      <td>0.027031</td>\n",
       "      <td>-0.021832</td>\n",
       "      <td>0.022189</td>\n",
       "      <td>0.001123</td>\n",
       "      <td>0.001257</td>\n",
       "      <td>0.003261</td>\n",
       "      <td>0.010378</td>\n",
       "      <td>-0.004005</td>\n",
       "      <td>...</td>\n",
       "      <td>0.145656</td>\n",
       "      <td>0.145656</td>\n",
       "      <td>0.123618</td>\n",
       "      <td>0.145656</td>\n",
       "      <td>0.131449</td>\n",
       "      <td>0.141117</td>\n",
       "      <td>0.118095</td>\n",
       "      <td>0.140033</td>\n",
       "      <td>0.138129</td>\n",
       "      <td>0.122683</td>\n",
       "    </tr>\n",
       "    <tr>\n",
       "      <th>seller_Click_Count</th>\n",
       "      <td>-0.001265</td>\n",
       "      <td>0.137158</td>\n",
       "      <td>0.028835</td>\n",
       "      <td>-0.021144</td>\n",
       "      <td>0.021377</td>\n",
       "      <td>0.001345</td>\n",
       "      <td>0.001336</td>\n",
       "      <td>0.002814</td>\n",
       "      <td>0.010378</td>\n",
       "      <td>-0.003677</td>\n",
       "      <td>...</td>\n",
       "      <td>0.146142</td>\n",
       "      <td>0.146142</td>\n",
       "      <td>0.124008</td>\n",
       "      <td>0.146142</td>\n",
       "      <td>0.131261</td>\n",
       "      <td>0.141621</td>\n",
       "      <td>0.118271</td>\n",
       "      <td>0.140609</td>\n",
       "      <td>0.138512</td>\n",
       "      <td>0.123521</td>\n",
       "    </tr>\n",
       "    <tr>\n",
       "      <th>seller_Add_to_cart_count</th>\n",
       "      <td>0.000466</td>\n",
       "      <td>0.040420</td>\n",
       "      <td>0.035417</td>\n",
       "      <td>-0.002116</td>\n",
       "      <td>0.002344</td>\n",
       "      <td>-0.000332</td>\n",
       "      <td>0.002471</td>\n",
       "      <td>0.000265</td>\n",
       "      <td>0.016399</td>\n",
       "      <td>0.003986</td>\n",
       "      <td>...</td>\n",
       "      <td>0.119763</td>\n",
       "      <td>0.119763</td>\n",
       "      <td>0.102388</td>\n",
       "      <td>0.119763</td>\n",
       "      <td>0.108730</td>\n",
       "      <td>0.116199</td>\n",
       "      <td>0.098016</td>\n",
       "      <td>0.115586</td>\n",
       "      <td>0.083891</td>\n",
       "      <td>0.103088</td>\n",
       "    </tr>\n",
       "    <tr>\n",
       "      <th>seller_purchase_count</th>\n",
       "      <td>-0.000849</td>\n",
       "      <td>0.118181</td>\n",
       "      <td>0.005851</td>\n",
       "      <td>-0.028365</td>\n",
       "      <td>0.030143</td>\n",
       "      <td>-0.001525</td>\n",
       "      <td>0.000894</td>\n",
       "      <td>0.009283</td>\n",
       "      <td>0.011041</td>\n",
       "      <td>-0.007222</td>\n",
       "      <td>...</td>\n",
       "      <td>0.134245</td>\n",
       "      <td>0.134245</td>\n",
       "      <td>0.114299</td>\n",
       "      <td>0.134245</td>\n",
       "      <td>0.128105</td>\n",
       "      <td>0.129589</td>\n",
       "      <td>0.111327</td>\n",
       "      <td>0.127838</td>\n",
       "      <td>0.123561</td>\n",
       "      <td>0.108141</td>\n",
       "    </tr>\n",
       "    <tr>\n",
       "      <th>seller_Add_to_favorite_count</th>\n",
       "      <td>-0.000881</td>\n",
       "      <td>0.137225</td>\n",
       "      <td>0.024506</td>\n",
       "      <td>-0.017867</td>\n",
       "      <td>0.018671</td>\n",
       "      <td>-0.000242</td>\n",
       "      <td>0.000649</td>\n",
       "      <td>0.001604</td>\n",
       "      <td>0.010438</td>\n",
       "      <td>-0.003451</td>\n",
       "      <td>...</td>\n",
       "      <td>0.134543</td>\n",
       "      <td>0.134543</td>\n",
       "      <td>0.114106</td>\n",
       "      <td>0.134543</td>\n",
       "      <td>0.123638</td>\n",
       "      <td>0.130370</td>\n",
       "      <td>0.109751</td>\n",
       "      <td>0.128996</td>\n",
       "      <td>0.126472</td>\n",
       "      <td>0.112415</td>\n",
       "    </tr>\n",
       "    <tr>\n",
       "      <th>user_seller_item_count</th>\n",
       "      <td>-0.002693</td>\n",
       "      <td>0.012678</td>\n",
       "      <td>0.003562</td>\n",
       "      <td>-0.005889</td>\n",
       "      <td>0.007098</td>\n",
       "      <td>-0.002225</td>\n",
       "      <td>-0.000150</td>\n",
       "      <td>0.003514</td>\n",
       "      <td>-0.001931</td>\n",
       "      <td>0.000374</td>\n",
       "      <td>...</td>\n",
       "      <td>1.000000</td>\n",
       "      <td>1.000000</td>\n",
       "      <td>0.853212</td>\n",
       "      <td>1.000000</td>\n",
       "      <td>0.939517</td>\n",
       "      <td>0.966071</td>\n",
       "      <td>0.826192</td>\n",
       "      <td>0.956434</td>\n",
       "      <td>0.622125</td>\n",
       "      <td>0.833662</td>\n",
       "    </tr>\n",
       "    <tr>\n",
       "      <th>user_seller_category_count</th>\n",
       "      <td>-0.002693</td>\n",
       "      <td>0.012678</td>\n",
       "      <td>0.003562</td>\n",
       "      <td>-0.005889</td>\n",
       "      <td>0.007098</td>\n",
       "      <td>-0.002225</td>\n",
       "      <td>-0.000150</td>\n",
       "      <td>0.003514</td>\n",
       "      <td>-0.001931</td>\n",
       "      <td>0.000374</td>\n",
       "      <td>...</td>\n",
       "      <td>1.000000</td>\n",
       "      <td>1.000000</td>\n",
       "      <td>0.853212</td>\n",
       "      <td>1.000000</td>\n",
       "      <td>0.939517</td>\n",
       "      <td>0.966071</td>\n",
       "      <td>0.826192</td>\n",
       "      <td>0.956434</td>\n",
       "      <td>0.622125</td>\n",
       "      <td>0.833662</td>\n",
       "    </tr>\n",
       "    <tr>\n",
       "      <th>user_seller_brand_count</th>\n",
       "      <td>-0.002693</td>\n",
       "      <td>0.012678</td>\n",
       "      <td>0.003562</td>\n",
       "      <td>-0.005889</td>\n",
       "      <td>0.007098</td>\n",
       "      <td>-0.002225</td>\n",
       "      <td>-0.000150</td>\n",
       "      <td>0.003514</td>\n",
       "      <td>-0.001931</td>\n",
       "      <td>0.000374</td>\n",
       "      <td>...</td>\n",
       "      <td>1.000000</td>\n",
       "      <td>1.000000</td>\n",
       "      <td>0.853212</td>\n",
       "      <td>1.000000</td>\n",
       "      <td>0.939517</td>\n",
       "      <td>0.966071</td>\n",
       "      <td>0.826192</td>\n",
       "      <td>0.956434</td>\n",
       "      <td>0.622125</td>\n",
       "      <td>0.833662</td>\n",
       "    </tr>\n",
       "    <tr>\n",
       "      <th>user_seller_Click_count</th>\n",
       "      <td>-0.001977</td>\n",
       "      <td>0.008896</td>\n",
       "      <td>0.002041</td>\n",
       "      <td>-0.005779</td>\n",
       "      <td>0.007213</td>\n",
       "      <td>-0.002745</td>\n",
       "      <td>-0.000128</td>\n",
       "      <td>0.002710</td>\n",
       "      <td>-0.002516</td>\n",
       "      <td>0.000757</td>\n",
       "      <td>...</td>\n",
       "      <td>0.853212</td>\n",
       "      <td>0.853212</td>\n",
       "      <td>1.000000</td>\n",
       "      <td>0.853212</td>\n",
       "      <td>0.886194</td>\n",
       "      <td>0.898082</td>\n",
       "      <td>0.992273</td>\n",
       "      <td>0.926177</td>\n",
       "      <td>0.792211</td>\n",
       "      <td>0.973958</td>\n",
       "    </tr>\n",
       "    <tr>\n",
       "      <th>user_seller_Add_to_cart_count</th>\n",
       "      <td>-0.002693</td>\n",
       "      <td>0.012678</td>\n",
       "      <td>0.003562</td>\n",
       "      <td>-0.005889</td>\n",
       "      <td>0.007098</td>\n",
       "      <td>-0.002225</td>\n",
       "      <td>-0.000150</td>\n",
       "      <td>0.003514</td>\n",
       "      <td>-0.001931</td>\n",
       "      <td>0.000374</td>\n",
       "      <td>...</td>\n",
       "      <td>1.000000</td>\n",
       "      <td>1.000000</td>\n",
       "      <td>0.853212</td>\n",
       "      <td>1.000000</td>\n",
       "      <td>0.939517</td>\n",
       "      <td>0.966071</td>\n",
       "      <td>0.826192</td>\n",
       "      <td>0.956434</td>\n",
       "      <td>0.622125</td>\n",
       "      <td>0.833662</td>\n",
       "    </tr>\n",
       "    <tr>\n",
       "      <th>user_seller_Purchase_count</th>\n",
       "      <td>-0.001451</td>\n",
       "      <td>0.010761</td>\n",
       "      <td>0.001575</td>\n",
       "      <td>-0.005816</td>\n",
       "      <td>0.007199</td>\n",
       "      <td>-0.002626</td>\n",
       "      <td>-0.000141</td>\n",
       "      <td>0.003139</td>\n",
       "      <td>-0.002075</td>\n",
       "      <td>0.000686</td>\n",
       "      <td>...</td>\n",
       "      <td>0.939517</td>\n",
       "      <td>0.939517</td>\n",
       "      <td>0.886194</td>\n",
       "      <td>0.939517</td>\n",
       "      <td>1.000000</td>\n",
       "      <td>0.931967</td>\n",
       "      <td>0.896007</td>\n",
       "      <td>0.931860</td>\n",
       "      <td>0.644156</td>\n",
       "      <td>0.878557</td>\n",
       "    </tr>\n",
       "    <tr>\n",
       "      <th>user_seller_Add_to_favorite_count</th>\n",
       "      <td>-0.002587</td>\n",
       "      <td>0.011886</td>\n",
       "      <td>0.003875</td>\n",
       "      <td>-0.006089</td>\n",
       "      <td>0.007365</td>\n",
       "      <td>-0.002359</td>\n",
       "      <td>-0.000144</td>\n",
       "      <td>0.003331</td>\n",
       "      <td>-0.001866</td>\n",
       "      <td>-0.000189</td>\n",
       "      <td>...</td>\n",
       "      <td>0.966071</td>\n",
       "      <td>0.966071</td>\n",
       "      <td>0.898082</td>\n",
       "      <td>0.966071</td>\n",
       "      <td>0.931967</td>\n",
       "      <td>1.000000</td>\n",
       "      <td>0.889705</td>\n",
       "      <td>0.964129</td>\n",
       "      <td>0.697177</td>\n",
       "      <td>0.895959</td>\n",
       "    </tr>\n",
       "    <tr>\n",
       "      <th>user_seller_total_action</th>\n",
       "      <td>-0.001583</td>\n",
       "      <td>0.008307</td>\n",
       "      <td>0.001604</td>\n",
       "      <td>-0.005734</td>\n",
       "      <td>0.007198</td>\n",
       "      <td>-0.002817</td>\n",
       "      <td>-0.000124</td>\n",
       "      <td>0.002579</td>\n",
       "      <td>-0.002443</td>\n",
       "      <td>0.000649</td>\n",
       "      <td>...</td>\n",
       "      <td>0.826192</td>\n",
       "      <td>0.826192</td>\n",
       "      <td>0.992273</td>\n",
       "      <td>0.826192</td>\n",
       "      <td>0.896007</td>\n",
       "      <td>0.889705</td>\n",
       "      <td>1.000000</td>\n",
       "      <td>0.909101</td>\n",
       "      <td>0.790077</td>\n",
       "      <td>0.976160</td>\n",
       "    </tr>\n",
       "    <tr>\n",
       "      <th>user_seller_active_days</th>\n",
       "      <td>-0.002485</td>\n",
       "      <td>0.011356</td>\n",
       "      <td>0.003948</td>\n",
       "      <td>-0.006024</td>\n",
       "      <td>0.007337</td>\n",
       "      <td>-0.002449</td>\n",
       "      <td>-0.000143</td>\n",
       "      <td>0.002779</td>\n",
       "      <td>-0.001802</td>\n",
       "      <td>0.000609</td>\n",
       "      <td>...</td>\n",
       "      <td>0.956434</td>\n",
       "      <td>0.956434</td>\n",
       "      <td>0.926177</td>\n",
       "      <td>0.956434</td>\n",
       "      <td>0.931860</td>\n",
       "      <td>0.964129</td>\n",
       "      <td>0.909101</td>\n",
       "      <td>1.000000</td>\n",
       "      <td>0.688761</td>\n",
       "      <td>0.910547</td>\n",
       "    </tr>\n",
       "    <tr>\n",
       "      <th>brand_similarity_score</th>\n",
       "      <td>-0.003213</td>\n",
       "      <td>0.013297</td>\n",
       "      <td>0.002497</td>\n",
       "      <td>-0.007677</td>\n",
       "      <td>0.009088</td>\n",
       "      <td>-0.002526</td>\n",
       "      <td>-0.000093</td>\n",
       "      <td>0.002126</td>\n",
       "      <td>-0.000675</td>\n",
       "      <td>-0.001238</td>\n",
       "      <td>...</td>\n",
       "      <td>0.622125</td>\n",
       "      <td>0.622125</td>\n",
       "      <td>0.792211</td>\n",
       "      <td>0.622125</td>\n",
       "      <td>0.644156</td>\n",
       "      <td>0.697177</td>\n",
       "      <td>0.790077</td>\n",
       "      <td>0.688761</td>\n",
       "      <td>1.000000</td>\n",
       "      <td>0.782290</td>\n",
       "    </tr>\n",
       "    <tr>\n",
       "      <th>cat_similarity_score</th>\n",
       "      <td>-0.001620</td>\n",
       "      <td>0.008116</td>\n",
       "      <td>0.002491</td>\n",
       "      <td>-0.005367</td>\n",
       "      <td>0.006805</td>\n",
       "      <td>-0.002791</td>\n",
       "      <td>-0.000125</td>\n",
       "      <td>0.002321</td>\n",
       "      <td>-0.002360</td>\n",
       "      <td>0.000450</td>\n",
       "      <td>...</td>\n",
       "      <td>0.833662</td>\n",
       "      <td>0.833662</td>\n",
       "      <td>0.973958</td>\n",
       "      <td>0.833662</td>\n",
       "      <td>0.878557</td>\n",
       "      <td>0.895959</td>\n",
       "      <td>0.976160</td>\n",
       "      <td>0.910547</td>\n",
       "      <td>0.782290</td>\n",
       "      <td>1.000000</td>\n",
       "    </tr>\n",
       "  </tbody>\n",
       "</table>\n",
       "<p>43 rows × 43 columns</p>\n",
       "</div>"
      ],
      "text/plain": [
       "                                    user_id  merchant_id     label  \\\n",
       "user_id                            1.000000     0.001527 -0.001317   \n",
       "merchant_id                        0.001527     1.000000  0.001175   \n",
       "label                             -0.001317     0.001175  1.000000   \n",
       "user_gender_female                -0.000916    -0.009003  0.020487   \n",
       "user_gender_male                  -0.000176     0.009916 -0.019228   \n",
       "user_gender_unknown                0.002562    -0.001275 -0.004676   \n",
       "user_age_0_18                      0.001995    -0.003989 -0.001499   \n",
       "user_age_18_24                    -0.005018     0.013206 -0.013384   \n",
       "user_age_25_29                     0.004116     0.002450 -0.003039   \n",
       "user_age_30_34                     0.004736    -0.009737  0.009349   \n",
       "user_age_35_39                     0.001225    -0.006554  0.010381   \n",
       "user_age_40_49                    -0.003487    -0.007011  0.004627   \n",
       "user_age_50_                      -0.000979    -0.003417 -0.002409   \n",
       "user_age_unknown                  -0.001804     0.001576 -0.005923   \n",
       "user_active_days                   0.002646     0.001088  0.005051   \n",
       "user_total_action                  0.001666     0.000369  0.003610   \n",
       "user_Click_Count                   0.001563     0.000759  0.003850   \n",
       "user_Add_to_cart_count             0.002474     0.001262  0.005219   \n",
       "user_purchase_count                0.001932     0.000178  0.003953   \n",
       "user_Add_to_favorite_count         0.002827     0.001077  0.005432   \n",
       "user_item_count                    0.000027    -0.003662  0.000723   \n",
       "user_category_count                0.000639    -0.004349  0.000852   \n",
       "user_brand_count                   0.000639    -0.004349  0.000852   \n",
       "seller_item_count                  0.000248     0.047058  0.030204   \n",
       "seller_category_count             -0.000471     0.091284  0.037664   \n",
       "seller_brand_count                 0.000357     0.048433  0.032663   \n",
       "seller_active_days                -0.001414     0.146608  0.041884   \n",
       "seller_total_action               -0.001242     0.137197  0.027031   \n",
       "seller_Click_Count                -0.001265     0.137158  0.028835   \n",
       "seller_Add_to_cart_count           0.000466     0.040420  0.035417   \n",
       "seller_purchase_count             -0.000849     0.118181  0.005851   \n",
       "seller_Add_to_favorite_count      -0.000881     0.137225  0.024506   \n",
       "user_seller_item_count            -0.002693     0.012678  0.003562   \n",
       "user_seller_category_count        -0.002693     0.012678  0.003562   \n",
       "user_seller_brand_count           -0.002693     0.012678  0.003562   \n",
       "user_seller_Click_count           -0.001977     0.008896  0.002041   \n",
       "user_seller_Add_to_cart_count     -0.002693     0.012678  0.003562   \n",
       "user_seller_Purchase_count        -0.001451     0.010761  0.001575   \n",
       "user_seller_Add_to_favorite_count -0.002587     0.011886  0.003875   \n",
       "user_seller_total_action          -0.001583     0.008307  0.001604   \n",
       "user_seller_active_days           -0.002485     0.011356  0.003948   \n",
       "brand_similarity_score            -0.003213     0.013297  0.002497   \n",
       "cat_similarity_score              -0.001620     0.008116  0.002491   \n",
       "\n",
       "                                   user_gender_female  user_gender_male  \\\n",
       "user_id                                     -0.000916         -0.000176   \n",
       "merchant_id                                 -0.009003          0.009916   \n",
       "label                                        0.020487         -0.019228   \n",
       "user_gender_female                           1.000000         -0.907443   \n",
       "user_gender_male                            -0.907443          1.000000   \n",
       "user_gender_unknown                         -0.298827         -0.129809   \n",
       "user_age_0_18                               -0.001167          0.000660   \n",
       "user_age_18_24                              -0.020469          0.034537   \n",
       "user_age_25_29                               0.000017          0.005282   \n",
       "user_age_30_34                              -0.020215          0.007717   \n",
       "user_age_35_39                               0.002367         -0.001147   \n",
       "user_age_40_49                               0.019471         -0.008049   \n",
       "user_age_50_                                -0.002499          0.006104   \n",
       "user_age_unknown                            -0.067101         -0.028590   \n",
       "user_active_days                            -0.000009         -0.001188   \n",
       "user_total_action                           -0.001024         -0.000470   \n",
       "user_Click_Count                            -0.001044         -0.000606   \n",
       "user_Add_to_cart_count                       0.000538         -0.001857   \n",
       "user_purchase_count                          0.000632         -0.001715   \n",
       "user_Add_to_favorite_count                   0.000344         -0.001564   \n",
       "user_item_count                              0.001412         -0.000554   \n",
       "user_category_count                          0.000091          0.000009   \n",
       "user_brand_count                             0.000091          0.000009   \n",
       "seller_item_count                            0.007150         -0.006049   \n",
       "seller_category_count                        0.005363         -0.005283   \n",
       "seller_brand_count                          -0.006894          0.008091   \n",
       "seller_active_days                          -0.004836          0.005392   \n",
       "seller_total_action                         -0.021832          0.022189   \n",
       "seller_Click_Count                          -0.021144          0.021377   \n",
       "seller_Add_to_cart_count                    -0.002116          0.002344   \n",
       "seller_purchase_count                       -0.028365          0.030143   \n",
       "seller_Add_to_favorite_count                -0.017867          0.018671   \n",
       "user_seller_item_count                      -0.005889          0.007098   \n",
       "user_seller_category_count                  -0.005889          0.007098   \n",
       "user_seller_brand_count                     -0.005889          0.007098   \n",
       "user_seller_Click_count                     -0.005779          0.007213   \n",
       "user_seller_Add_to_cart_count               -0.005889          0.007098   \n",
       "user_seller_Purchase_count                  -0.005816          0.007199   \n",
       "user_seller_Add_to_favorite_count           -0.006089          0.007365   \n",
       "user_seller_total_action                    -0.005734          0.007198   \n",
       "user_seller_active_days                     -0.006024          0.007337   \n",
       "brand_similarity_score                      -0.007677          0.009088   \n",
       "cat_similarity_score                        -0.005367          0.006805   \n",
       "\n",
       "                                   user_gender_unknown  user_age_0_18  \\\n",
       "user_id                                       0.002562       0.001995   \n",
       "merchant_id                                  -0.001275      -0.003989   \n",
       "label                                        -0.004676      -0.001499   \n",
       "user_gender_female                           -0.298827      -0.001167   \n",
       "user_gender_male                             -0.129809       0.000660   \n",
       "user_gender_unknown                           1.000000       0.001254   \n",
       "user_age_0_18                                 0.001254       1.000000   \n",
       "user_age_18_24                               -0.030137       0.000829   \n",
       "user_age_25_29                               -0.012036      -0.001299   \n",
       "user_age_30_34                                0.030177      -0.000425   \n",
       "user_age_35_39                               -0.002982       0.001357   \n",
       "user_age_40_49                               -0.027669       0.001766   \n",
       "user_age_50_                                 -0.007966       0.006439   \n",
       "user_age_unknown                              0.223280       0.013401   \n",
       "user_active_days                              0.002719       0.008656   \n",
       "user_total_action                             0.003485       0.007223   \n",
       "user_Click_Count                              0.003840       0.006346   \n",
       "user_Add_to_cart_count                        0.002948       0.009677   \n",
       "user_purchase_count                           0.002403       0.012309   \n",
       "user_Add_to_favorite_count                    0.002740       0.008392   \n",
       "user_item_count                              -0.002074      -0.000115   \n",
       "user_category_count                          -0.000234      -0.000084   \n",
       "user_brand_count                             -0.000234      -0.000084   \n",
       "seller_item_count                            -0.003134       0.003069   \n",
       "seller_category_count                        -0.000658       0.001744   \n",
       "seller_brand_count                           -0.002106       0.003393   \n",
       "seller_active_days                           -0.000835       0.002028   \n",
       "seller_total_action                           0.001123       0.001257   \n",
       "seller_Click_Count                            0.001345       0.001336   \n",
       "seller_Add_to_cart_count                     -0.000332       0.002471   \n",
       "seller_purchase_count                        -0.001525       0.000894   \n",
       "seller_Add_to_favorite_count                 -0.000242       0.000649   \n",
       "user_seller_item_count                       -0.002225      -0.000150   \n",
       "user_seller_category_count                   -0.002225      -0.000150   \n",
       "user_seller_brand_count                      -0.002225      -0.000150   \n",
       "user_seller_Click_count                      -0.002745      -0.000128   \n",
       "user_seller_Add_to_cart_count                -0.002225      -0.000150   \n",
       "user_seller_Purchase_count                   -0.002626      -0.000141   \n",
       "user_seller_Add_to_favorite_count            -0.002359      -0.000144   \n",
       "user_seller_total_action                     -0.002817      -0.000124   \n",
       "user_seller_active_days                      -0.002449      -0.000143   \n",
       "brand_similarity_score                       -0.002526      -0.000093   \n",
       "cat_similarity_score                         -0.002791      -0.000125   \n",
       "\n",
       "                                   user_age_18_24  user_age_25_29  \\\n",
       "user_id                                 -0.005018        0.004116   \n",
       "merchant_id                              0.013206        0.002450   \n",
       "label                                   -0.013384       -0.003039   \n",
       "user_gender_female                      -0.020469        0.000017   \n",
       "user_gender_male                         0.034537        0.005282   \n",
       "user_gender_unknown                     -0.030137       -0.012036   \n",
       "user_age_0_18                            0.000829       -0.001299   \n",
       "user_age_18_24                           1.000000       -0.221950   \n",
       "user_age_25_29                          -0.221950        1.000000   \n",
       "user_age_30_34                          -0.182483       -0.295195   \n",
       "user_age_35_39                          -0.122020       -0.197421   \n",
       "user_age_40_49                          -0.111732       -0.180787   \n",
       "user_age_50_                            -0.050776       -0.082277   \n",
       "user_age_unknown                        -0.025968       -0.042292   \n",
       "user_active_days                        -0.002404        0.002764   \n",
       "user_total_action                       -0.002474        0.000741   \n",
       "user_Click_Count                        -0.002756        0.000714   \n",
       "user_Add_to_cart_count                  -0.002687        0.003968   \n",
       "user_purchase_count                     -0.002283        0.004068   \n",
       "user_Add_to_favorite_count              -0.002191        0.002848   \n",
       "user_item_count                         -0.004250        0.000701   \n",
       "user_category_count                     -0.003630       -0.000612   \n",
       "user_brand_count                        -0.003630       -0.000612   \n",
       "seller_item_count                       -0.001249        0.013686   \n",
       "seller_category_count                   -0.001363        0.010749   \n",
       "seller_brand_count                       0.002963        0.017513   \n",
       "seller_active_days                      -0.002665        0.009763   \n",
       "seller_total_action                      0.003261        0.010378   \n",
       "seller_Click_Count                       0.002814        0.010378   \n",
       "seller_Add_to_cart_count                 0.000265        0.016399   \n",
       "seller_purchase_count                    0.009283        0.011041   \n",
       "seller_Add_to_favorite_count             0.001604        0.010438   \n",
       "user_seller_item_count                   0.003514       -0.001931   \n",
       "user_seller_category_count               0.003514       -0.001931   \n",
       "user_seller_brand_count                  0.003514       -0.001931   \n",
       "user_seller_Click_count                  0.002710       -0.002516   \n",
       "user_seller_Add_to_cart_count            0.003514       -0.001931   \n",
       "user_seller_Purchase_count               0.003139       -0.002075   \n",
       "user_seller_Add_to_favorite_count        0.003331       -0.001866   \n",
       "user_seller_total_action                 0.002579       -0.002443   \n",
       "user_seller_active_days                  0.002779       -0.001802   \n",
       "brand_similarity_score                   0.002126       -0.000675   \n",
       "cat_similarity_score                     0.002321       -0.002360   \n",
       "\n",
       "                                   user_age_30_34  ...  \\\n",
       "user_id                                  0.004736  ...   \n",
       "merchant_id                             -0.009737  ...   \n",
       "label                                    0.009349  ...   \n",
       "user_gender_female                      -0.020215  ...   \n",
       "user_gender_male                         0.007717  ...   \n",
       "user_gender_unknown                      0.030177  ...   \n",
       "user_age_0_18                           -0.000425  ...   \n",
       "user_age_18_24                          -0.182483  ...   \n",
       "user_age_25_29                          -0.295195  ...   \n",
       "user_age_30_34                           1.000000  ...   \n",
       "user_age_35_39                          -0.162313  ...   \n",
       "user_age_40_49                          -0.148633  ...   \n",
       "user_age_50_                            -0.067615  ...   \n",
       "user_age_unknown                        -0.034704  ...   \n",
       "user_active_days                         0.010708  ...   \n",
       "user_total_action                        0.010057  ...   \n",
       "user_Click_Count                         0.009892  ...   \n",
       "user_Add_to_cart_count                   0.009201  ...   \n",
       "user_purchase_count                      0.009157  ...   \n",
       "user_Add_to_favorite_count               0.009892  ...   \n",
       "user_item_count                          0.002699  ...   \n",
       "user_category_count                      0.002473  ...   \n",
       "user_brand_count                         0.002473  ...   \n",
       "seller_item_count                        0.002020  ...   \n",
       "seller_category_count                   -0.001303  ...   \n",
       "seller_brand_count                       0.002503  ...   \n",
       "seller_active_days                      -0.001236  ...   \n",
       "seller_total_action                     -0.004005  ...   \n",
       "seller_Click_Count                      -0.003677  ...   \n",
       "seller_Add_to_cart_count                 0.003986  ...   \n",
       "seller_purchase_count                   -0.007222  ...   \n",
       "seller_Add_to_favorite_count            -0.003451  ...   \n",
       "user_seller_item_count                   0.000374  ...   \n",
       "user_seller_category_count               0.000374  ...   \n",
       "user_seller_brand_count                  0.000374  ...   \n",
       "user_seller_Click_count                  0.000757  ...   \n",
       "user_seller_Add_to_cart_count            0.000374  ...   \n",
       "user_seller_Purchase_count               0.000686  ...   \n",
       "user_seller_Add_to_favorite_count       -0.000189  ...   \n",
       "user_seller_total_action                 0.000649  ...   \n",
       "user_seller_active_days                  0.000609  ...   \n",
       "brand_similarity_score                  -0.001238  ...   \n",
       "cat_similarity_score                     0.000450  ...   \n",
       "\n",
       "                                   user_seller_category_count  \\\n",
       "user_id                                             -0.002693   \n",
       "merchant_id                                          0.012678   \n",
       "label                                                0.003562   \n",
       "user_gender_female                                  -0.005889   \n",
       "user_gender_male                                     0.007098   \n",
       "user_gender_unknown                                 -0.002225   \n",
       "user_age_0_18                                       -0.000150   \n",
       "user_age_18_24                                       0.003514   \n",
       "user_age_25_29                                      -0.001931   \n",
       "user_age_30_34                                       0.000374   \n",
       "user_age_35_39                                      -0.004337   \n",
       "user_age_40_49                                      -0.002783   \n",
       "user_age_50_                                         0.000960   \n",
       "user_age_unknown                                    -0.001807   \n",
       "user_active_days                                     0.271770   \n",
       "user_total_action                                    0.271295   \n",
       "user_Click_Count                                     0.272049   \n",
       "user_Add_to_cart_count                               0.263946   \n",
       "user_purchase_count                                  0.271816   \n",
       "user_Add_to_favorite_count                           0.252042   \n",
       "user_item_count                                      0.068768   \n",
       "user_category_count                                  0.063061   \n",
       "user_brand_count                                     0.063061   \n",
       "seller_item_count                                    0.093493   \n",
       "seller_category_count                                0.079350   \n",
       "seller_brand_count                                   0.107997   \n",
       "seller_active_days                                   0.105628   \n",
       "seller_total_action                                  0.145656   \n",
       "seller_Click_Count                                   0.146142   \n",
       "seller_Add_to_cart_count                             0.119763   \n",
       "seller_purchase_count                                0.134245   \n",
       "seller_Add_to_favorite_count                         0.134543   \n",
       "user_seller_item_count                               1.000000   \n",
       "user_seller_category_count                           1.000000   \n",
       "user_seller_brand_count                              1.000000   \n",
       "user_seller_Click_count                              0.853212   \n",
       "user_seller_Add_to_cart_count                        1.000000   \n",
       "user_seller_Purchase_count                           0.939517   \n",
       "user_seller_Add_to_favorite_count                    0.966071   \n",
       "user_seller_total_action                             0.826192   \n",
       "user_seller_active_days                              0.956434   \n",
       "brand_similarity_score                               0.622125   \n",
       "cat_similarity_score                                 0.833662   \n",
       "\n",
       "                                   user_seller_brand_count  \\\n",
       "user_id                                          -0.002693   \n",
       "merchant_id                                       0.012678   \n",
       "label                                             0.003562   \n",
       "user_gender_female                               -0.005889   \n",
       "user_gender_male                                  0.007098   \n",
       "user_gender_unknown                              -0.002225   \n",
       "user_age_0_18                                    -0.000150   \n",
       "user_age_18_24                                    0.003514   \n",
       "user_age_25_29                                   -0.001931   \n",
       "user_age_30_34                                    0.000374   \n",
       "user_age_35_39                                   -0.004337   \n",
       "user_age_40_49                                   -0.002783   \n",
       "user_age_50_                                      0.000960   \n",
       "user_age_unknown                                 -0.001807   \n",
       "user_active_days                                  0.271770   \n",
       "user_total_action                                 0.271295   \n",
       "user_Click_Count                                  0.272049   \n",
       "user_Add_to_cart_count                            0.263946   \n",
       "user_purchase_count                               0.271816   \n",
       "user_Add_to_favorite_count                        0.252042   \n",
       "user_item_count                                   0.068768   \n",
       "user_category_count                               0.063061   \n",
       "user_brand_count                                  0.063061   \n",
       "seller_item_count                                 0.093493   \n",
       "seller_category_count                             0.079350   \n",
       "seller_brand_count                                0.107997   \n",
       "seller_active_days                                0.105628   \n",
       "seller_total_action                               0.145656   \n",
       "seller_Click_Count                                0.146142   \n",
       "seller_Add_to_cart_count                          0.119763   \n",
       "seller_purchase_count                             0.134245   \n",
       "seller_Add_to_favorite_count                      0.134543   \n",
       "user_seller_item_count                            1.000000   \n",
       "user_seller_category_count                        1.000000   \n",
       "user_seller_brand_count                           1.000000   \n",
       "user_seller_Click_count                           0.853212   \n",
       "user_seller_Add_to_cart_count                     1.000000   \n",
       "user_seller_Purchase_count                        0.939517   \n",
       "user_seller_Add_to_favorite_count                 0.966071   \n",
       "user_seller_total_action                          0.826192   \n",
       "user_seller_active_days                           0.956434   \n",
       "brand_similarity_score                            0.622125   \n",
       "cat_similarity_score                              0.833662   \n",
       "\n",
       "                                   user_seller_Click_count  \\\n",
       "user_id                                          -0.001977   \n",
       "merchant_id                                       0.008896   \n",
       "label                                             0.002041   \n",
       "user_gender_female                               -0.005779   \n",
       "user_gender_male                                  0.007213   \n",
       "user_gender_unknown                              -0.002745   \n",
       "user_age_0_18                                    -0.000128   \n",
       "user_age_18_24                                    0.002710   \n",
       "user_age_25_29                                   -0.002516   \n",
       "user_age_30_34                                    0.000757   \n",
       "user_age_35_39                                   -0.003521   \n",
       "user_age_40_49                                   -0.001395   \n",
       "user_age_50_                                      0.000857   \n",
       "user_age_unknown                                 -0.001542   \n",
       "user_active_days                                  0.261473   \n",
       "user_total_action                                 0.319658   \n",
       "user_Click_Count                                  0.313184   \n",
       "user_Add_to_cart_count                            0.225202   \n",
       "user_purchase_count                               0.256583   \n",
       "user_Add_to_favorite_count                        0.233007   \n",
       "user_item_count                                   0.099054   \n",
       "user_category_count                               0.084707   \n",
       "user_brand_count                                  0.084707   \n",
       "seller_item_count                                 0.079261   \n",
       "seller_category_count                             0.064584   \n",
       "seller_brand_count                                0.091915   \n",
       "seller_active_days                                0.088161   \n",
       "seller_total_action                               0.123618   \n",
       "seller_Click_Count                                0.124008   \n",
       "seller_Add_to_cart_count                          0.102388   \n",
       "seller_purchase_count                             0.114299   \n",
       "seller_Add_to_favorite_count                      0.114106   \n",
       "user_seller_item_count                            0.853212   \n",
       "user_seller_category_count                        0.853212   \n",
       "user_seller_brand_count                           0.853212   \n",
       "user_seller_Click_count                           1.000000   \n",
       "user_seller_Add_to_cart_count                     0.853212   \n",
       "user_seller_Purchase_count                        0.886194   \n",
       "user_seller_Add_to_favorite_count                 0.898082   \n",
       "user_seller_total_action                          0.992273   \n",
       "user_seller_active_days                           0.926177   \n",
       "brand_similarity_score                            0.792211   \n",
       "cat_similarity_score                              0.973958   \n",
       "\n",
       "                                   user_seller_Add_to_cart_count  \\\n",
       "user_id                                                -0.002693   \n",
       "merchant_id                                             0.012678   \n",
       "label                                                   0.003562   \n",
       "user_gender_female                                     -0.005889   \n",
       "user_gender_male                                        0.007098   \n",
       "user_gender_unknown                                    -0.002225   \n",
       "user_age_0_18                                          -0.000150   \n",
       "user_age_18_24                                          0.003514   \n",
       "user_age_25_29                                         -0.001931   \n",
       "user_age_30_34                                          0.000374   \n",
       "user_age_35_39                                         -0.004337   \n",
       "user_age_40_49                                         -0.002783   \n",
       "user_age_50_                                            0.000960   \n",
       "user_age_unknown                                       -0.001807   \n",
       "user_active_days                                        0.271770   \n",
       "user_total_action                                       0.271295   \n",
       "user_Click_Count                                        0.272049   \n",
       "user_Add_to_cart_count                                  0.263946   \n",
       "user_purchase_count                                     0.271816   \n",
       "user_Add_to_favorite_count                              0.252042   \n",
       "user_item_count                                         0.068768   \n",
       "user_category_count                                     0.063061   \n",
       "user_brand_count                                        0.063061   \n",
       "seller_item_count                                       0.093493   \n",
       "seller_category_count                                   0.079350   \n",
       "seller_brand_count                                      0.107997   \n",
       "seller_active_days                                      0.105628   \n",
       "seller_total_action                                     0.145656   \n",
       "seller_Click_Count                                      0.146142   \n",
       "seller_Add_to_cart_count                                0.119763   \n",
       "seller_purchase_count                                   0.134245   \n",
       "seller_Add_to_favorite_count                            0.134543   \n",
       "user_seller_item_count                                  1.000000   \n",
       "user_seller_category_count                              1.000000   \n",
       "user_seller_brand_count                                 1.000000   \n",
       "user_seller_Click_count                                 0.853212   \n",
       "user_seller_Add_to_cart_count                           1.000000   \n",
       "user_seller_Purchase_count                              0.939517   \n",
       "user_seller_Add_to_favorite_count                       0.966071   \n",
       "user_seller_total_action                                0.826192   \n",
       "user_seller_active_days                                 0.956434   \n",
       "brand_similarity_score                                  0.622125   \n",
       "cat_similarity_score                                    0.833662   \n",
       "\n",
       "                                   user_seller_Purchase_count  \\\n",
       "user_id                                             -0.001451   \n",
       "merchant_id                                          0.010761   \n",
       "label                                                0.001575   \n",
       "user_gender_female                                  -0.005816   \n",
       "user_gender_male                                     0.007199   \n",
       "user_gender_unknown                                 -0.002626   \n",
       "user_age_0_18                                       -0.000141   \n",
       "user_age_18_24                                       0.003139   \n",
       "user_age_25_29                                      -0.002075   \n",
       "user_age_30_34                                       0.000686   \n",
       "user_age_35_39                                      -0.004402   \n",
       "user_age_40_49                                      -0.002647   \n",
       "user_age_50_                                         0.000967   \n",
       "user_age_unknown                                    -0.001698   \n",
       "user_active_days                                     0.263818   \n",
       "user_total_action                                    0.290994   \n",
       "user_Click_Count                                     0.279863   \n",
       "user_Add_to_cart_count                               0.247982   \n",
       "user_purchase_count                                  0.289583   \n",
       "user_Add_to_favorite_count                           0.242370   \n",
       "user_item_count                                      0.087657   \n",
       "user_category_count                                  0.080351   \n",
       "user_brand_count                                     0.080351   \n",
       "seller_item_count                                    0.087871   \n",
       "seller_category_count                                0.070937   \n",
       "seller_brand_count                                   0.099327   \n",
       "seller_active_days                                   0.092957   \n",
       "seller_total_action                                  0.131449   \n",
       "seller_Click_Count                                   0.131261   \n",
       "seller_Add_to_cart_count                             0.108730   \n",
       "seller_purchase_count                                0.128105   \n",
       "seller_Add_to_favorite_count                         0.123638   \n",
       "user_seller_item_count                               0.939517   \n",
       "user_seller_category_count                           0.939517   \n",
       "user_seller_brand_count                              0.939517   \n",
       "user_seller_Click_count                              0.886194   \n",
       "user_seller_Add_to_cart_count                        0.939517   \n",
       "user_seller_Purchase_count                           1.000000   \n",
       "user_seller_Add_to_favorite_count                    0.931967   \n",
       "user_seller_total_action                             0.896007   \n",
       "user_seller_active_days                              0.931860   \n",
       "brand_similarity_score                               0.644156   \n",
       "cat_similarity_score                                 0.878557   \n",
       "\n",
       "                                   user_seller_Add_to_favorite_count  \\\n",
       "user_id                                                    -0.002587   \n",
       "merchant_id                                                 0.011886   \n",
       "label                                                       0.003875   \n",
       "user_gender_female                                         -0.006089   \n",
       "user_gender_male                                            0.007365   \n",
       "user_gender_unknown                                        -0.002359   \n",
       "user_age_0_18                                              -0.000144   \n",
       "user_age_18_24                                              0.003331   \n",
       "user_age_25_29                                             -0.001866   \n",
       "user_age_30_34                                             -0.000189   \n",
       "user_age_35_39                                             -0.004470   \n",
       "user_age_40_49                                             -0.002539   \n",
       "user_age_50_                                                0.000619   \n",
       "user_age_unknown                                           -0.001746   \n",
       "user_active_days                                            0.273499   \n",
       "user_total_action                                           0.290400   \n",
       "user_Click_Count                                            0.284888   \n",
       "user_Add_to_cart_count                                      0.254991   \n",
       "user_purchase_count                                         0.269688   \n",
       "user_Add_to_favorite_count                                  0.260476   \n",
       "user_item_count                                             0.075463   \n",
       "user_category_count                                         0.075510   \n",
       "user_brand_count                                            0.075510   \n",
       "seller_item_count                                           0.090168   \n",
       "seller_category_count                                       0.077043   \n",
       "seller_brand_count                                          0.104477   \n",
       "seller_active_days                                          0.102249   \n",
       "seller_total_action                                         0.141117   \n",
       "seller_Click_Count                                          0.141621   \n",
       "seller_Add_to_cart_count                                    0.116199   \n",
       "seller_purchase_count                                       0.129589   \n",
       "seller_Add_to_favorite_count                                0.130370   \n",
       "user_seller_item_count                                      0.966071   \n",
       "user_seller_category_count                                  0.966071   \n",
       "user_seller_brand_count                                     0.966071   \n",
       "user_seller_Click_count                                     0.898082   \n",
       "user_seller_Add_to_cart_count                               0.966071   \n",
       "user_seller_Purchase_count                                  0.931967   \n",
       "user_seller_Add_to_favorite_count                           1.000000   \n",
       "user_seller_total_action                                    0.889705   \n",
       "user_seller_active_days                                     0.964129   \n",
       "brand_similarity_score                                      0.697177   \n",
       "cat_similarity_score                                        0.895959   \n",
       "\n",
       "                                   user_seller_total_action  \\\n",
       "user_id                                           -0.001583   \n",
       "merchant_id                                        0.008307   \n",
       "label                                              0.001604   \n",
       "user_gender_female                                -0.005734   \n",
       "user_gender_male                                   0.007198   \n",
       "user_gender_unknown                               -0.002817   \n",
       "user_age_0_18                                     -0.000124   \n",
       "user_age_18_24                                     0.002579   \n",
       "user_age_25_29                                    -0.002443   \n",
       "user_age_30_34                                     0.000649   \n",
       "user_age_35_39                                    -0.003612   \n",
       "user_age_40_49                                    -0.001408   \n",
       "user_age_50_                                       0.000761   \n",
       "user_age_unknown                                  -0.001493   \n",
       "user_active_days                                   0.256381   \n",
       "user_total_action                                  0.321394   \n",
       "user_Click_Count                                   0.310110   \n",
       "user_Add_to_cart_count                             0.218070   \n",
       "user_purchase_count                                0.259502   \n",
       "user_Add_to_favorite_count                         0.230607   \n",
       "user_item_count                                    0.102393   \n",
       "user_category_count                                0.090282   \n",
       "user_brand_count                                   0.090282   \n",
       "seller_item_count                                  0.076764   \n",
       "seller_category_count                              0.061737   \n",
       "seller_brand_count                                 0.088360   \n",
       "seller_active_days                                 0.083531   \n",
       "seller_total_action                                0.118095   \n",
       "seller_Click_Count                                 0.118271   \n",
       "seller_Add_to_cart_count                           0.098016   \n",
       "seller_purchase_count                              0.111327   \n",
       "seller_Add_to_favorite_count                       0.109751   \n",
       "user_seller_item_count                             0.826192   \n",
       "user_seller_category_count                         0.826192   \n",
       "user_seller_brand_count                            0.826192   \n",
       "user_seller_Click_count                            0.992273   \n",
       "user_seller_Add_to_cart_count                      0.826192   \n",
       "user_seller_Purchase_count                         0.896007   \n",
       "user_seller_Add_to_favorite_count                  0.889705   \n",
       "user_seller_total_action                           1.000000   \n",
       "user_seller_active_days                            0.909101   \n",
       "brand_similarity_score                             0.790077   \n",
       "cat_similarity_score                               0.976160   \n",
       "\n",
       "                                   user_seller_active_days  \\\n",
       "user_id                                          -0.002485   \n",
       "merchant_id                                       0.011356   \n",
       "label                                             0.003948   \n",
       "user_gender_female                               -0.006024   \n",
       "user_gender_male                                  0.007337   \n",
       "user_gender_unknown                              -0.002449   \n",
       "user_age_0_18                                    -0.000143   \n",
       "user_age_18_24                                    0.002779   \n",
       "user_age_25_29                                   -0.001802   \n",
       "user_age_30_34                                    0.000609   \n",
       "user_age_35_39                                   -0.004361   \n",
       "user_age_40_49                                   -0.002717   \n",
       "user_age_50_                                      0.000446   \n",
       "user_age_unknown                                 -0.001729   \n",
       "user_active_days                                  0.283380   \n",
       "user_total_action                                 0.296070   \n",
       "user_Click_Count                                  0.293094   \n",
       "user_Add_to_cart_count                            0.252447   \n",
       "user_purchase_count                               0.269677   \n",
       "user_Add_to_favorite_count                        0.251019   \n",
       "user_item_count                                   0.087913   \n",
       "user_category_count                               0.085084   \n",
       "user_brand_count                                  0.085084   \n",
       "seller_item_count                                 0.088922   \n",
       "seller_category_count                             0.076540   \n",
       "seller_brand_count                                0.103776   \n",
       "seller_active_days                                0.101749   \n",
       "seller_total_action                               0.140033   \n",
       "seller_Click_Count                                0.140609   \n",
       "seller_Add_to_cart_count                          0.115586   \n",
       "seller_purchase_count                             0.127838   \n",
       "seller_Add_to_favorite_count                      0.128996   \n",
       "user_seller_item_count                            0.956434   \n",
       "user_seller_category_count                        0.956434   \n",
       "user_seller_brand_count                           0.956434   \n",
       "user_seller_Click_count                           0.926177   \n",
       "user_seller_Add_to_cart_count                     0.956434   \n",
       "user_seller_Purchase_count                        0.931860   \n",
       "user_seller_Add_to_favorite_count                 0.964129   \n",
       "user_seller_total_action                          0.909101   \n",
       "user_seller_active_days                           1.000000   \n",
       "brand_similarity_score                            0.688761   \n",
       "cat_similarity_score                              0.910547   \n",
       "\n",
       "                                   brand_similarity_score  \\\n",
       "user_id                                         -0.003213   \n",
       "merchant_id                                      0.013297   \n",
       "label                                            0.002497   \n",
       "user_gender_female                              -0.007677   \n",
       "user_gender_male                                 0.009088   \n",
       "user_gender_unknown                             -0.002526   \n",
       "user_age_0_18                                   -0.000093   \n",
       "user_age_18_24                                   0.002126   \n",
       "user_age_25_29                                  -0.000675   \n",
       "user_age_30_34                                  -0.001238   \n",
       "user_age_35_39                                  -0.002454   \n",
       "user_age_40_49                                  -0.002113   \n",
       "user_age_50_                                     0.002111   \n",
       "user_age_unknown                                -0.001124   \n",
       "user_active_days                                 0.193068   \n",
       "user_total_action                                0.250742   \n",
       "user_Click_Count                                 0.244518   \n",
       "user_Add_to_cart_count                           0.164207   \n",
       "user_purchase_count                              0.186500   \n",
       "user_Add_to_favorite_count                       0.179469   \n",
       "user_item_count                                  0.044596   \n",
       "user_category_count                              0.011003   \n",
       "user_brand_count                                 0.011003   \n",
       "seller_item_count                                0.056275   \n",
       "seller_category_count                            0.039013   \n",
       "seller_brand_count                               0.071093   \n",
       "seller_active_days                               0.091561   \n",
       "seller_total_action                              0.138129   \n",
       "seller_Click_Count                               0.138512   \n",
       "seller_Add_to_cart_count                         0.083891   \n",
       "seller_purchase_count                            0.123561   \n",
       "seller_Add_to_favorite_count                     0.126472   \n",
       "user_seller_item_count                           0.622125   \n",
       "user_seller_category_count                       0.622125   \n",
       "user_seller_brand_count                          0.622125   \n",
       "user_seller_Click_count                          0.792211   \n",
       "user_seller_Add_to_cart_count                    0.622125   \n",
       "user_seller_Purchase_count                       0.644156   \n",
       "user_seller_Add_to_favorite_count                0.697177   \n",
       "user_seller_total_action                         0.790077   \n",
       "user_seller_active_days                          0.688761   \n",
       "brand_similarity_score                           1.000000   \n",
       "cat_similarity_score                             0.782290   \n",
       "\n",
       "                                   cat_similarity_score  \n",
       "user_id                                       -0.001620  \n",
       "merchant_id                                    0.008116  \n",
       "label                                          0.002491  \n",
       "user_gender_female                            -0.005367  \n",
       "user_gender_male                               0.006805  \n",
       "user_gender_unknown                           -0.002791  \n",
       "user_age_0_18                                 -0.000125  \n",
       "user_age_18_24                                 0.002321  \n",
       "user_age_25_29                                -0.002360  \n",
       "user_age_30_34                                 0.000450  \n",
       "user_age_35_39                                -0.003522  \n",
       "user_age_40_49                                -0.001586  \n",
       "user_age_50_                                   0.000642  \n",
       "user_age_unknown                              -0.001507  \n",
       "user_active_days                               0.257062  \n",
       "user_total_action                              0.314380  \n",
       "user_Click_Count                               0.304993  \n",
       "user_Add_to_cart_count                         0.220042  \n",
       "user_purchase_count                            0.254398  \n",
       "user_Add_to_favorite_count                     0.232413  \n",
       "user_item_count                                0.099320  \n",
       "user_category_count                            0.097069  \n",
       "user_brand_count                               0.097069  \n",
       "seller_item_count                              0.076942  \n",
       "seller_category_count                          0.070710  \n",
       "seller_brand_count                             0.091201  \n",
       "seller_active_days                             0.089311  \n",
       "seller_total_action                            0.122683  \n",
       "seller_Click_Count                             0.123521  \n",
       "seller_Add_to_cart_count                       0.103088  \n",
       "seller_purchase_count                          0.108141  \n",
       "seller_Add_to_favorite_count                   0.112415  \n",
       "user_seller_item_count                         0.833662  \n",
       "user_seller_category_count                     0.833662  \n",
       "user_seller_brand_count                        0.833662  \n",
       "user_seller_Click_count                        0.973958  \n",
       "user_seller_Add_to_cart_count                  0.833662  \n",
       "user_seller_Purchase_count                     0.878557  \n",
       "user_seller_Add_to_favorite_count              0.895959  \n",
       "user_seller_total_action                       0.976160  \n",
       "user_seller_active_days                        0.910547  \n",
       "brand_similarity_score                         0.782290  \n",
       "cat_similarity_score                           1.000000  \n",
       "\n",
       "[43 rows x 43 columns]"
      ]
     },
     "execution_count": 11,
     "metadata": {},
     "output_type": "execute_result"
    }
   ],
   "source": [
    "df.corr()"
   ]
  },
  {
   "cell_type": "code",
   "execution_count": 12,
   "metadata": {},
   "outputs": [
    {
     "data": {
      "text/plain": [
       "<AxesSubplot:>"
      ]
     },
     "execution_count": 12,
     "metadata": {},
     "output_type": "execute_result"
    },
    {
     "data": {
      "image/png": "[encoded data removed]",
      "text/plain": [
       "<Figure size 640x480 with 2 Axes>"
      ]
     },
     "metadata": {},
     "output_type": "display_data"
    }
   ],
   "source": [
    "sns.heatmap(df.corr())"
   ]
  },
  {
   "attachments": {},
   "cell_type": "markdown",
   "metadata": {},
   "source": [
    "Need ML model for SHAP?"
   ]
  },
  {
   "cell_type": "code",
   "execution_count": 45,
   "metadata": {},
   "outputs": [],
   "source": [
    "import xgboost\n",
    "from omnixai.preprocessing.tabular import TabularTransform\n",
    "import sklearn"
   ]
  },
  {
   "cell_type": "code",
   "execution_count": 8,
   "metadata": {},
   "outputs": [],
   "source": [
    "label = list(df['label'])\n",
    "dataset = df.drop('label', axis='columns')\n"
   ]
  },
  {
   "cell_type": "code",
   "execution_count": 9,
   "metadata": {},
   "outputs": [
    {
     "data": {
      "text/plain": [
       "(260864, 42)"
      ]
     },
     "execution_count": 9,
     "metadata": {},
     "output_type": "execute_result"
    }
   ],
   "source": [
    "dataset.shape"
   ]
  },
  {
   "cell_type": "code",
   "execution_count": 73,
   "metadata": {},
   "outputs": [],
   "source": [
    "tabular_data2 = Tabular(\n",
    "    dataset,\n",
    "    feature_columns=list(train_complete.columns).remove('label'),\n",
    ")\n",
    "\n",
    "transformer = TabularTransform().fit(tabular_data2)\n",
    "x = transformer.transform(tabular_data2)\n",
    "\n",
    "gbtree = xgboost.XGBClassifier(n_estimators=300, max_depth=5)\n",
    "gbtree.fit(x, label)\n",
    "\n",
    "train_data = transformer.invert(x)"
   ]
  },
  {
   "cell_type": "code",
   "execution_count": 74,
   "metadata": {},
   "outputs": [
    {
     "name": "stdout",
     "output_type": "stream",
     "text": [
      "(260864, 42)\n",
      "(260864, 42)\n"
     ]
    }
   ],
   "source": [
    "print(tabular_data2.shape)\n",
    "print(train_data.shape)"
   ]
  },
  {
   "cell_type": "code",
   "execution_count": 76,
   "metadata": {},
   "outputs": [
    {
     "name": "stderr",
     "output_type": "stream",
     "text": [
      "c:\\Users\\Daniel\\AppData\\Local\\Programs\\Python\\Python38\\lib\\site-packages\\xgboost\\data.py:925: UserWarning:\n",
      "\n",
      "Unknown data type: <class 'omnixai.data.tabular.Tabular'>, trying to convert it to csr_matrix\n",
      "\n"
     ]
    },
    {
     "name": "stdout",
     "output_type": "stream",
     "text": [
      "Provided model function fails when applied to the provided data set.\n"
     ]
    },
    {
     "name": "stderr",
     "output_type": "stream",
     "text": [
      "c:\\Users\\Daniel\\AppData\\Local\\Programs\\Python\\Python38\\lib\\site-packages\\scipy\\sparse\\_compressed.py:80: VisibleDeprecationWarning:\n",
      "\n",
      "Creating an ndarray from nested sequences exceeding the maximum number of dimensions of 32 is deprecated. If you mean to do this, you must specify 'dtype=object' when creating the ndarray.\n",
      "\n"
     ]
    },
    {
     "ename": "TypeError",
     "evalue": "Explainer shap -- Not supported type for data.<class 'omnixai.data.tabular.Tabular'>",
     "output_type": "error",
     "traceback": [
      "\u001b[1;31m---------------------------------------------------------------------------\u001b[0m",
      "\u001b[1;31mTypeError\u001b[0m                                 Traceback (most recent call last)",
      "File \u001b[1;32mc:\\Users\\Daniel\\AppData\\Local\\Programs\\Python\\Python38\\lib\\site-packages\\omnixai\\explainers\\base.py:214\u001b[0m, in \u001b[0;36mAutoExplainerBase._build_explainers\u001b[1;34m(self, params)\u001b[0m\n\u001b[0;32m    213\u001b[0m \u001b[39mif\u001b[39;00m \u001b[39m\"\u001b[39m\u001b[39mpredict_function\u001b[39m\u001b[39m\"\u001b[39m \u001b[39min\u001b[39;00m _signature:\n\u001b[1;32m--> 214\u001b[0m     explainer \u001b[39m=\u001b[39m _class(\n\u001b[0;32m    215\u001b[0m         predict_function\u001b[39m=\u001b[39;49m\u001b[39mself\u001b[39;49m\u001b[39m.\u001b[39;49mpredict_function,\n\u001b[0;32m    216\u001b[0m         mode\u001b[39m=\u001b[39;49m\u001b[39mself\u001b[39;49m\u001b[39m.\u001b[39;49mmode,\n\u001b[0;32m    217\u001b[0m         training_data\u001b[39m=\u001b[39;49m\u001b[39mself\u001b[39;49m\u001b[39m.\u001b[39;49mdata,\n\u001b[0;32m    218\u001b[0m         \u001b[39m*\u001b[39;49m\u001b[39m*\u001b[39;49m_param\n\u001b[0;32m    219\u001b[0m     )\n\u001b[0;32m    220\u001b[0m \u001b[39melif\u001b[39;00m \u001b[39m\"\u001b[39m\u001b[39mmodel\u001b[39m\u001b[39m\"\u001b[39m \u001b[39min\u001b[39;00m _signature:\n",
      "File \u001b[1;32mc:\\Users\\Daniel\\AppData\\Local\\Programs\\Python\\Python38\\lib\\site-packages\\omnixai\\explainers\\tabular\\agnostic\\shap.py:63\u001b[0m, in \u001b[0;36mShapTabular.__init__\u001b[1;34m(self, training_data, predict_function, mode, ignored_features, **kwargs)\u001b[0m\n\u001b[0;32m     62\u001b[0m \u001b[39mself\u001b[39m\u001b[39m.\u001b[39mbackground_data \u001b[39m=\u001b[39m shap\u001b[39m.\u001b[39msample(\u001b[39mself\u001b[39m\u001b[39m.\u001b[39mdata, nsamples\u001b[39m=\u001b[39mkwargs\u001b[39m.\u001b[39mget(\u001b[39m\"\u001b[39m\u001b[39mnsamples\u001b[39m\u001b[39m\"\u001b[39m, \u001b[39m100\u001b[39m))\n\u001b[1;32m---> 63\u001b[0m \u001b[39mself\u001b[39m\u001b[39m.\u001b[39mexplainer \u001b[39m=\u001b[39m shap\u001b[39m.\u001b[39;49mKernelExplainer(\u001b[39mself\u001b[39;49m\u001b[39m.\u001b[39;49mpredict_fn, \u001b[39mself\u001b[39;49m\u001b[39m.\u001b[39;49mbackground_data, link\u001b[39m=\u001b[39;49m\u001b[39mself\u001b[39;49m\u001b[39m.\u001b[39;49mlink, \u001b[39m*\u001b[39;49m\u001b[39m*\u001b[39;49mkwargs)\n",
      "File \u001b[1;32mc:\\Users\\Daniel\\AppData\\Local\\Programs\\Python\\Python38\\lib\\site-packages\\shap\\explainers\\_kernel.py:70\u001b[0m, in \u001b[0;36mKernel.__init__\u001b[1;34m(self, model, data, link, **kwargs)\u001b[0m\n\u001b[0;32m     69\u001b[0m \u001b[39mself\u001b[39m\u001b[39m.\u001b[39mdata \u001b[39m=\u001b[39m convert_to_data(data, keep_index\u001b[39m=\u001b[39m\u001b[39mself\u001b[39m\u001b[39m.\u001b[39mkeep_index)\n\u001b[1;32m---> 70\u001b[0m model_null \u001b[39m=\u001b[39m match_model_to_data(\u001b[39mself\u001b[39;49m\u001b[39m.\u001b[39;49mmodel, \u001b[39mself\u001b[39;49m\u001b[39m.\u001b[39;49mdata)\n\u001b[0;32m     72\u001b[0m \u001b[39m# enforce our current input type limitations\u001b[39;00m\n",
      "File \u001b[1;32mc:\\Users\\Daniel\\AppData\\Local\\Programs\\Python\\Python38\\lib\\site-packages\\shap\\utils\\_legacy.py:112\u001b[0m, in \u001b[0;36mmatch_model_to_data\u001b[1;34m(model, data)\u001b[0m\n\u001b[0;32m    111\u001b[0m     \u001b[39melse\u001b[39;00m:\n\u001b[1;32m--> 112\u001b[0m         out_val \u001b[39m=\u001b[39m model\u001b[39m.\u001b[39;49mf(data\u001b[39m.\u001b[39;49mdata)\n\u001b[0;32m    113\u001b[0m \u001b[39mexcept\u001b[39;00m:\n",
      "File \u001b[1;32mc:\\Users\\Daniel\\AppData\\Local\\Programs\\Python\\Python38\\lib\\site-packages\\omnixai\\explainers\\tabular\\base.py:127\u001b[0m, in \u001b[0;36mTabularExplainer.__init__.<locals>.<lambda>\u001b[1;34m(x)\u001b[0m\n\u001b[0;32m    126\u001b[0m \u001b[39mif\u001b[39;00m mode \u001b[39m==\u001b[39m \u001b[39m\"\u001b[39m\u001b[39mclassification\u001b[39m\u001b[39m\"\u001b[39m:\n\u001b[1;32m--> 127\u001b[0m     \u001b[39mself\u001b[39m\u001b[39m.\u001b[39mpredict_fn \u001b[39m=\u001b[39m \u001b[39mlambda\u001b[39;00m x: predict_function(\u001b[39mself\u001b[39;49m\u001b[39m.\u001b[39;49mtransformer\u001b[39m.\u001b[39;49minvert(x))\n\u001b[0;32m    128\u001b[0m \u001b[39melse\u001b[39;00m:\n",
      "File \u001b[1;32mc:\\Users\\Daniel\\AppData\\Local\\Programs\\Python\\Python38\\lib\\site-packages\\omnixai\\utils\\misc.py:214\u001b[0m, in \u001b[0;36mbuild_predict_function.<locals>._predict\u001b[1;34m(x)\u001b[0m\n\u001b[0;32m    213\u001b[0m     inputs \u001b[39m=\u001b[39m (inputs,)\n\u001b[1;32m--> 214\u001b[0m \u001b[39mreturn\u001b[39;00m tensor_to_numpy(postprocess(predict_func(\u001b[39m*\u001b[39;49minputs)))\n",
      "File \u001b[1;32mc:\\Users\\Daniel\\AppData\\Local\\Programs\\Python\\Python38\\lib\\site-packages\\xgboost\\sklearn.py:1606\u001b[0m, in \u001b[0;36mXGBClassifier.predict_proba\u001b[1;34m(self, X, ntree_limit, validate_features, base_margin, iteration_range)\u001b[0m\n\u001b[0;32m   1605\u001b[0m     \u001b[39mreturn\u001b[39;00m class_prob\n\u001b[1;32m-> 1606\u001b[0m class_probs \u001b[39m=\u001b[39m \u001b[39msuper\u001b[39;49m()\u001b[39m.\u001b[39;49mpredict(\n\u001b[0;32m   1607\u001b[0m     X\u001b[39m=\u001b[39;49mX,\n\u001b[0;32m   1608\u001b[0m     ntree_limit\u001b[39m=\u001b[39;49mntree_limit,\n\u001b[0;32m   1609\u001b[0m     validate_features\u001b[39m=\u001b[39;49mvalidate_features,\n\u001b[0;32m   1610\u001b[0m     base_margin\u001b[39m=\u001b[39;49mbase_margin,\n\u001b[0;32m   1611\u001b[0m     iteration_range\u001b[39m=\u001b[39;49miteration_range,\n\u001b[0;32m   1612\u001b[0m )\n\u001b[0;32m   1613\u001b[0m \u001b[39m# If model is loaded from a raw booster there's no `n_classes_`\u001b[39;00m\n",
      "File \u001b[1;32mc:\\Users\\Daniel\\AppData\\Local\\Programs\\Python\\Python38\\lib\\site-packages\\xgboost\\sklearn.py:1131\u001b[0m, in \u001b[0;36mXGBModel.predict\u001b[1;34m(self, X, output_margin, ntree_limit, validate_features, base_margin, iteration_range)\u001b[0m\n\u001b[0;32m   1129\u001b[0m         \u001b[39mpass\u001b[39;00m\n\u001b[1;32m-> 1131\u001b[0m test \u001b[39m=\u001b[39m DMatrix(\n\u001b[0;32m   1132\u001b[0m     X,\n\u001b[0;32m   1133\u001b[0m     base_margin\u001b[39m=\u001b[39;49mbase_margin,\n\u001b[0;32m   1134\u001b[0m     missing\u001b[39m=\u001b[39;49m\u001b[39mself\u001b[39;49m\u001b[39m.\u001b[39;49mmissing,\n\u001b[0;32m   1135\u001b[0m     nthread\u001b[39m=\u001b[39;49m\u001b[39mself\u001b[39;49m\u001b[39m.\u001b[39;49mn_jobs,\n\u001b[0;32m   1136\u001b[0m     feature_types\u001b[39m=\u001b[39;49m\u001b[39mself\u001b[39;49m\u001b[39m.\u001b[39;49mfeature_types,\n\u001b[0;32m   1137\u001b[0m     enable_categorical\u001b[39m=\u001b[39;49m\u001b[39mself\u001b[39;49m\u001b[39m.\u001b[39;49menable_categorical,\n\u001b[0;32m   1138\u001b[0m )\n\u001b[0;32m   1139\u001b[0m \u001b[39mreturn\u001b[39;00m \u001b[39mself\u001b[39m\u001b[39m.\u001b[39mget_booster()\u001b[39m.\u001b[39mpredict(\n\u001b[0;32m   1140\u001b[0m     data\u001b[39m=\u001b[39mtest,\n\u001b[0;32m   1141\u001b[0m     iteration_range\u001b[39m=\u001b[39miteration_range,\n\u001b[0;32m   1142\u001b[0m     output_margin\u001b[39m=\u001b[39moutput_margin,\n\u001b[0;32m   1143\u001b[0m     validate_features\u001b[39m=\u001b[39mvalidate_features,\n\u001b[0;32m   1144\u001b[0m )\n",
      "File \u001b[1;32mc:\\Users\\Daniel\\AppData\\Local\\Programs\\Python\\Python38\\lib\\site-packages\\xgboost\\core.py:620\u001b[0m, in \u001b[0;36mrequire_keyword_args.<locals>.throw_if.<locals>.inner_f\u001b[1;34m(*args, **kwargs)\u001b[0m\n\u001b[0;32m    619\u001b[0m     kwargs[k] \u001b[39m=\u001b[39m arg\n\u001b[1;32m--> 620\u001b[0m \u001b[39mreturn\u001b[39;00m func(\u001b[39m*\u001b[39;49m\u001b[39m*\u001b[39;49mkwargs)\n",
      "File \u001b[1;32mc:\\Users\\Daniel\\AppData\\Local\\Programs\\Python\\Python38\\lib\\site-packages\\xgboost\\core.py:743\u001b[0m, in \u001b[0;36mDMatrix.__init__\u001b[1;34m(self, data, label, weight, base_margin, missing, silent, feature_names, feature_types, nthread, group, qid, label_lower_bound, label_upper_bound, feature_weights, enable_categorical)\u001b[0m\n\u001b[0;32m    741\u001b[0m     \u001b[39mreturn\u001b[39;00m\n\u001b[1;32m--> 743\u001b[0m handle, feature_names, feature_types \u001b[39m=\u001b[39m dispatch_data_backend(\n\u001b[0;32m    744\u001b[0m     data,\n\u001b[0;32m    745\u001b[0m     missing\u001b[39m=\u001b[39;49m\u001b[39mself\u001b[39;49m\u001b[39m.\u001b[39;49mmissing,\n\u001b[0;32m    746\u001b[0m     threads\u001b[39m=\u001b[39;49m\u001b[39mself\u001b[39;49m\u001b[39m.\u001b[39;49mnthread,\n\u001b[0;32m    747\u001b[0m     feature_names\u001b[39m=\u001b[39;49mfeature_names,\n\u001b[0;32m    748\u001b[0m     feature_types\u001b[39m=\u001b[39;49mfeature_types,\n\u001b[0;32m    749\u001b[0m     enable_categorical\u001b[39m=\u001b[39;49menable_categorical,\n\u001b[0;32m    750\u001b[0m )\n\u001b[0;32m    751\u001b[0m \u001b[39massert\u001b[39;00m handle \u001b[39mis\u001b[39;00m \u001b[39mnot\u001b[39;00m \u001b[39mNone\u001b[39;00m\n",
      "File \u001b[1;32mc:\\Users\\Daniel\\AppData\\Local\\Programs\\Python\\Python38\\lib\\site-packages\\xgboost\\data.py:1013\u001b[0m, in \u001b[0;36mdispatch_data_backend\u001b[1;34m(data, missing, threads, feature_names, feature_types, enable_categorical)\u001b[0m\n\u001b[0;32m   1011\u001b[0m     \u001b[39mreturn\u001b[39;00m _from_scipy_csr(converted, missing, threads, feature_names, feature_types)\n\u001b[1;32m-> 1013\u001b[0m \u001b[39mraise\u001b[39;00m \u001b[39mTypeError\u001b[39;00m(\u001b[39m'\u001b[39m\u001b[39mNot supported type for data.\u001b[39m\u001b[39m'\u001b[39m \u001b[39m+\u001b[39m \u001b[39mstr\u001b[39m(\u001b[39mtype\u001b[39m(data)))\n",
      "\u001b[1;31mTypeError\u001b[0m: Not supported type for data.<class 'omnixai.data.tabular.Tabular'>",
      "\nDuring handling of the above exception, another exception occurred:\n",
      "\u001b[1;31mTypeError\u001b[0m                                 Traceback (most recent call last)",
      "\u001b[1;32mc:\\Users\\Daniel\\Desktop\\CECS 550\\CECS_550\\EDA\\omni_stats.ipynb Cell 27\u001b[0m in \u001b[0;36m1\n\u001b[1;32m----> <a href='vscode-notebook-cell:/c%3A/Users/Daniel/Desktop/CECS%20550/CECS_550/EDA/omni_stats.ipynb#X31sZmlsZQ%3D%3D?line=0'>1</a>\u001b[0m explainer \u001b[39m=\u001b[39m TabularExplainer(\n\u001b[0;32m      <a href='vscode-notebook-cell:/c%3A/Users/Daniel/Desktop/CECS%20550/CECS_550/EDA/omni_stats.ipynb#X31sZmlsZQ%3D%3D?line=1'>2</a>\u001b[0m   explainers\u001b[39m=\u001b[39;49m[\u001b[39m\"\u001b[39;49m\u001b[39mlime\u001b[39;49m\u001b[39m\"\u001b[39;49m, \u001b[39m\"\u001b[39;49m\u001b[39mshap\u001b[39;49m\u001b[39m\"\u001b[39;49m, \u001b[39m\"\u001b[39;49m\u001b[39mmace\u001b[39;49m\u001b[39m\"\u001b[39;49m, \u001b[39m\"\u001b[39;49m\u001b[39mpdp\u001b[39;49m\u001b[39m\"\u001b[39;49m, \u001b[39m\"\u001b[39;49m\u001b[39male\u001b[39;49m\u001b[39m\"\u001b[39;49m], \u001b[39m# The explainers to apply\u001b[39;49;00m\n\u001b[0;32m      <a href='vscode-notebook-cell:/c%3A/Users/Daniel/Desktop/CECS%20550/CECS_550/EDA/omni_stats.ipynb#X31sZmlsZQ%3D%3D?line=2'>3</a>\u001b[0m   mode\u001b[39m=\u001b[39;49m\u001b[39m\"\u001b[39;49m\u001b[39mclassification\u001b[39;49m\u001b[39m\"\u001b[39;49m,                             \u001b[39m# The task type\u001b[39;49;00m\n\u001b[0;32m      <a href='vscode-notebook-cell:/c%3A/Users/Daniel/Desktop/CECS%20550/CECS_550/EDA/omni_stats.ipynb#X31sZmlsZQ%3D%3D?line=3'>4</a>\u001b[0m   data\u001b[39m=\u001b[39;49mtrain_data,                                   \u001b[39m# The data for initializing the explainers                                            \u001b[39;49;00m\n\u001b[0;32m      <a href='vscode-notebook-cell:/c%3A/Users/Daniel/Desktop/CECS%20550/CECS_550/EDA/omni_stats.ipynb#X31sZmlsZQ%3D%3D?line=4'>5</a>\u001b[0m   model\u001b[39m=\u001b[39;49mgbtree\n\u001b[0;32m      <a href='vscode-notebook-cell:/c%3A/Users/Daniel/Desktop/CECS%20550/CECS_550/EDA/omni_stats.ipynb#X31sZmlsZQ%3D%3D?line=5'>6</a>\u001b[0m )\n",
      "File \u001b[1;32mc:\\Users\\Daniel\\AppData\\Local\\Programs\\Python\\Python38\\lib\\site-packages\\omnixai\\explainers\\tabular\\auto.py:68\u001b[0m, in \u001b[0;36mTabularExplainer.__init__\u001b[1;34m(self, explainers, mode, data, model, preprocess, postprocess, params)\u001b[0m\n\u001b[0;32m     42\u001b[0m \u001b[39mdef\u001b[39;00m \u001b[39m__init__\u001b[39m(\n\u001b[0;32m     43\u001b[0m         \u001b[39mself\u001b[39m,\n\u001b[0;32m     44\u001b[0m         explainers: Collection,\n\u001b[1;32m   (...)\u001b[0m\n\u001b[0;32m     50\u001b[0m         params: Dict \u001b[39m=\u001b[39m \u001b[39mNone\u001b[39;00m,\n\u001b[0;32m     51\u001b[0m ):\n\u001b[0;32m     52\u001b[0m     \u001b[39m\"\"\"\u001b[39;00m\n\u001b[0;32m     53\u001b[0m \u001b[39m    :param explainers: The names or alias of the explainers to use.\u001b[39;00m\n\u001b[0;32m     54\u001b[0m \u001b[39m    :param mode: The task type, e.g. `classification` or `regression`.\u001b[39;00m\n\u001b[1;32m   (...)\u001b[0m\n\u001b[0;32m     66\u001b[0m \u001b[39m        e.g., `params[\"lime\"] = {\"param_1\": param_1, ...}`.\u001b[39;00m\n\u001b[0;32m     67\u001b[0m \u001b[39m    \"\"\"\u001b[39;00m\n\u001b[1;32m---> 68\u001b[0m     \u001b[39msuper\u001b[39;49m()\u001b[39m.\u001b[39;49m\u001b[39m__init__\u001b[39;49m(\n\u001b[0;32m     69\u001b[0m         explainers\u001b[39m=\u001b[39;49mexplainers,\n\u001b[0;32m     70\u001b[0m         mode\u001b[39m=\u001b[39;49mmode,\n\u001b[0;32m     71\u001b[0m         data\u001b[39m=\u001b[39;49mdata,\n\u001b[0;32m     72\u001b[0m         model\u001b[39m=\u001b[39;49mmodel,\n\u001b[0;32m     73\u001b[0m         preprocess\u001b[39m=\u001b[39;49mpreprocess,\n\u001b[0;32m     74\u001b[0m         postprocess\u001b[39m=\u001b[39;49mpostprocess,\n\u001b[0;32m     75\u001b[0m         params\u001b[39m=\u001b[39;49mparams,\n\u001b[0;32m     76\u001b[0m     )\n\u001b[0;32m     77\u001b[0m     \u001b[39mif\u001b[39;00m data \u001b[39mis\u001b[39;00m \u001b[39mnot\u001b[39;00m \u001b[39mNone\u001b[39;00m:\n\u001b[0;32m     78\u001b[0m         \u001b[39mself\u001b[39m\u001b[39m.\u001b[39mdata_info \u001b[39m=\u001b[39m {\n\u001b[0;32m     79\u001b[0m             \u001b[39m\"\u001b[39m\u001b[39mcategorical_columns\u001b[39m\u001b[39m\"\u001b[39m: data\u001b[39m.\u001b[39mcategorical_columns,\n\u001b[0;32m     80\u001b[0m             \u001b[39m\"\u001b[39m\u001b[39mtarget_column\u001b[39m\u001b[39m\"\u001b[39m: data\u001b[39m.\u001b[39mtarget_column,\n\u001b[0;32m     81\u001b[0m             \u001b[39m\"\u001b[39m\u001b[39mfeature_columns\u001b[39m\u001b[39m\"\u001b[39m: data\u001b[39m.\u001b[39mcolumns\n\u001b[0;32m     82\u001b[0m         }\n",
      "File \u001b[1;32mc:\\Users\\Daniel\\AppData\\Local\\Programs\\Python\\Python38\\lib\\site-packages\\omnixai\\explainers\\base.py:165\u001b[0m, in \u001b[0;36mAutoExplainerBase.__init__\u001b[1;34m(self, explainers, mode, data, model, preprocess, postprocess, params)\u001b[0m\n\u001b[0;32m    163\u001b[0m \u001b[39mself\u001b[39m\u001b[39m.\u001b[39mparams \u001b[39m=\u001b[39m params\n\u001b[0;32m    164\u001b[0m \u001b[39mself\u001b[39m\u001b[39m.\u001b[39mpredict_function \u001b[39m=\u001b[39m \u001b[39mNone\u001b[39;00m\n\u001b[1;32m--> 165\u001b[0m \u001b[39mself\u001b[39m\u001b[39m.\u001b[39mexplainers \u001b[39m=\u001b[39m \u001b[39mself\u001b[39;49m\u001b[39m.\u001b[39;49m_build_explainers(params)\n\u001b[0;32m    166\u001b[0m \u001b[39mself\u001b[39m\u001b[39m.\u001b[39mdata_info \u001b[39m=\u001b[39m {}\n",
      "File \u001b[1;32mc:\\Users\\Daniel\\AppData\\Local\\Programs\\Python\\Python38\\lib\\site-packages\\omnixai\\explainers\\base.py:237\u001b[0m, in \u001b[0;36mAutoExplainerBase._build_explainers\u001b[1;34m(self, params)\u001b[0m\n\u001b[0;32m    235\u001b[0m         explainers[name] \u001b[39m=\u001b[39m explainer\n\u001b[0;32m    236\u001b[0m     \u001b[39mexcept\u001b[39;00m \u001b[39mException\u001b[39;00m \u001b[39mas\u001b[39;00m e:\n\u001b[1;32m--> 237\u001b[0m         \u001b[39mraise\u001b[39;00m \u001b[39mtype\u001b[39m(e)(\u001b[39mf\u001b[39m\u001b[39m\"\u001b[39m\u001b[39mExplainer \u001b[39m\u001b[39m{\u001b[39;00mname\u001b[39m}\u001b[39;00m\u001b[39m -- \u001b[39m\u001b[39m{\u001b[39;00m\u001b[39mstr\u001b[39m(e)\u001b[39m}\u001b[39;00m\u001b[39m\"\u001b[39m)\n\u001b[0;32m    238\u001b[0m \u001b[39mreturn\u001b[39;00m explainers\n",
      "\u001b[1;31mTypeError\u001b[0m: Explainer shap -- Not supported type for data.<class 'omnixai.data.tabular.Tabular'>"
     ]
    }
   ],
   "source": [
    "explainer = TabularExplainer(\n",
    "  explainers=[\"lime\", \"shap\", \"mace\", \"pdp\", \"ale\"], # The explainers to apply\n",
    "  mode=\"classification\",                             # The task type\n",
    "  data=train_data,                                   # The data for initializing the explainers                                            \n",
    "  model=gbtree\n",
    ")"
   ]
  }
 ],
 "metadata": {
  "kernelspec": {
   "display_name": "Python 3",
   "language": "python",
   "name": "python3"
  },
  "language_info": {
   "codemirror_mode": {
    "name": "ipython",
    "version": 3
   },
   "file_extension": ".py",
   "mimetype": "text/x-python",
   "name": "python",
   "nbconvert_exporter": "python",
   "pygments_lexer": "ipython3",
   "version": "3.8.1"
  },
  "orig_nbformat": 4
 },
 "nbformat": 4,
 "nbformat_minor": 2
}
