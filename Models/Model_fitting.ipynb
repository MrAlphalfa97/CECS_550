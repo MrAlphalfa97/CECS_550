{
  "cells": [
    {
      "cell_type": "code",
      "execution_count": 35,
      "metadata": {
        "id": "EspyICEo3pSV"
      },
      "outputs": [],
      "source": [
        "import pandas as pd\n",
        "import numpy as np\n",
        "from statistics import mean, stdev\n",
        "from sklearn.model_selection import train_test_split\n",
        "from sklearn.naive_bayes import MultinomialNB\n",
        "from sklearn.ensemble import HistGradientBoostingClassifier\n",
        "from sklearn.ensemble import RandomForestClassifier\n",
        "from xgboost import XGBClassifier\n",
        "import lightgbm as lgb\n",
        "from sklearn import metrics\n",
        "from imblearn.over_sampling import SMOTE, ADASYN\n",
        "from imblearn.under_sampling import RandomUnderSampler\n",
        "from sklearn.model_selection import StratifiedKFold\n",
        "from sklearn.model_selection import cross_val_score\n",
        "from matplotlib import pyplot\n",
        "from time import time\n",
        "from xgboost import plot_importance"
      ]
    },
    {
      "cell_type": "code",
      "execution_count": 36,
      "metadata": {
        "colab": {
          "base_uri": "https://localhost:8080/",
          "height": 488
        },
        "id": "bEfecbwP3pSZ",
        "outputId": "ae290016-dfba-4203-81ff-7c319fdd8c4b"
      },
      "outputs": [
        {
          "output_type": "execute_result",
          "data": {
            "text/plain": [
              "        user_id  seller_id  label  user_gender_female  user_gender_male  \\\n",
              "0         34176       3906      0                   1                 0   \n",
              "1         34176        121      0                   1                 0   \n",
              "2         34176       4356      1                   1                 0   \n",
              "3         34176       2217      0                   1                 0   \n",
              "4        230784       4818      0                   1                 0   \n",
              "...         ...        ...    ...                 ...               ...   \n",
              "260859   359807       4325      0                   0                 1   \n",
              "260860   294527       3971      0                   0                 1   \n",
              "260861   294527        152      0                   0                 1   \n",
              "260862   294527       2537      0                   0                 1   \n",
              "260863   229247       4140      0                   0                 0   \n",
              "\n",
              "        user_gender_unknown  user_age_0_18  user_age_18_24  user_age_25_29  \\\n",
              "0                         0            0.0             0.0             0.0   \n",
              "1                         0            0.0             0.0             0.0   \n",
              "2                         0            0.0             0.0             0.0   \n",
              "3                         0            0.0             0.0             0.0   \n",
              "4                         0            0.0             0.0             0.0   \n",
              "...                     ...            ...             ...             ...   \n",
              "260859                    0            0.0             0.0             0.0   \n",
              "260860                    0            0.0             0.0             0.0   \n",
              "260861                    0            0.0             0.0             0.0   \n",
              "260862                    0            0.0             0.0             0.0   \n",
              "260863                    1            0.0             0.0             0.0   \n",
              "\n",
              "        user_age_30_34  ...  user_seller_purchase_rt_db11  \\\n",
              "0                  0.0  ...                           NaN   \n",
              "1                  0.0  ...                           NaN   \n",
              "2                  0.0  ...                           NaN   \n",
              "3                  0.0  ...                           NaN   \n",
              "4                  0.0  ...                           NaN   \n",
              "...                ...  ...                           ...   \n",
              "260859             1.0  ...                           NaN   \n",
              "260860             0.0  ...                           NaN   \n",
              "260861             0.0  ...                           NaN   \n",
              "260862             0.0  ...                           NaN   \n",
              "260863             0.0  ...                           NaN   \n",
              "\n",
              "        user_seller_add_to_favorite_rt_db11  user_seller_click_rt_db11_wk  \\\n",
              "0                                       NaN                           NaN   \n",
              "1                                       NaN                           NaN   \n",
              "2                                       NaN                           NaN   \n",
              "3                                       NaN                           NaN   \n",
              "4                                       NaN                           NaN   \n",
              "...                                     ...                           ...   \n",
              "260859                                  NaN                           NaN   \n",
              "260860                                  NaN                           NaN   \n",
              "260861                                  NaN                           NaN   \n",
              "260862                                  NaN                           NaN   \n",
              "260863                                  NaN                           NaN   \n",
              "\n",
              "        user_seller_add_to_cart_rt_db11_wk  user_seller_purchase_rt_db11_wk  \\\n",
              "0                                      NaN                              NaN   \n",
              "1                                      NaN                              NaN   \n",
              "2                                      NaN                              NaN   \n",
              "3                                      NaN                              NaN   \n",
              "4                                      NaN                              NaN   \n",
              "...                                    ...                              ...   \n",
              "260859                                 NaN                              NaN   \n",
              "260860                                 NaN                              NaN   \n",
              "260861                                 NaN                              NaN   \n",
              "260862                                 NaN                              NaN   \n",
              "260863                                 NaN                              NaN   \n",
              "\n",
              "        user_seller_add_to_favorite_rt_db11_wk  user_seller_click_rt_db11_mth  \\\n",
              "0                                          NaN                            NaN   \n",
              "1                                          NaN                            NaN   \n",
              "2                                          NaN                            NaN   \n",
              "3                                          NaN                            NaN   \n",
              "4                                          NaN                            NaN   \n",
              "...                                        ...                            ...   \n",
              "260859                                     NaN                            NaN   \n",
              "260860                                     NaN                            NaN   \n",
              "260861                                     NaN                            NaN   \n",
              "260862                                     NaN                            NaN   \n",
              "260863                                     NaN                            NaN   \n",
              "\n",
              "        user_seller_add_to_cart_rt_db11_mth  user_seller_purchase_rt_db11_mth  \\\n",
              "0                                       NaN                               NaN   \n",
              "1                                       NaN                               NaN   \n",
              "2                                       NaN                               NaN   \n",
              "3                                       NaN                               NaN   \n",
              "4                                       NaN                               NaN   \n",
              "...                                     ...                               ...   \n",
              "260859                                  NaN                               NaN   \n",
              "260860                                  NaN                               NaN   \n",
              "260861                                  NaN                               NaN   \n",
              "260862                                  NaN                               NaN   \n",
              "260863                                  NaN                               NaN   \n",
              "\n",
              "        user_seller_add_to_favorite_rt_db11_mth  \n",
              "0                                           NaN  \n",
              "1                                           NaN  \n",
              "2                                           NaN  \n",
              "3                                           NaN  \n",
              "4                                           NaN  \n",
              "...                                         ...  \n",
              "260859                                      NaN  \n",
              "260860                                      NaN  \n",
              "260861                                      NaN  \n",
              "260862                                      NaN  \n",
              "260863                                      NaN  \n",
              "\n",
              "[260864 rows x 85 columns]"
            ],
            "text/html": [
              "\n",
              "  <div id=\"df-5d1d9989-0db9-4cc9-843d-d4411e60259e\">\n",
              "    <div class=\"colab-df-container\">\n",
              "      <div>\n",
              "<style scoped>\n",
              "    .dataframe tbody tr th:only-of-type {\n",
              "        vertical-align: middle;\n",
              "    }\n",
              "\n",
              "    .dataframe tbody tr th {\n",
              "        vertical-align: top;\n",
              "    }\n",
              "\n",
              "    .dataframe thead th {\n",
              "        text-align: right;\n",
              "    }\n",
              "</style>\n",
              "<table border=\"1\" class=\"dataframe\">\n",
              "  <thead>\n",
              "    <tr style=\"text-align: right;\">\n",
              "      <th></th>\n",
              "      <th>user_id</th>\n",
              "      <th>seller_id</th>\n",
              "      <th>label</th>\n",
              "      <th>user_gender_female</th>\n",
              "      <th>user_gender_male</th>\n",
              "      <th>user_gender_unknown</th>\n",
              "      <th>user_age_0_18</th>\n",
              "      <th>user_age_18_24</th>\n",
              "      <th>user_age_25_29</th>\n",
              "      <th>user_age_30_34</th>\n",
              "      <th>...</th>\n",
              "      <th>user_seller_purchase_rt_db11</th>\n",
              "      <th>user_seller_add_to_favorite_rt_db11</th>\n",
              "      <th>user_seller_click_rt_db11_wk</th>\n",
              "      <th>user_seller_add_to_cart_rt_db11_wk</th>\n",
              "      <th>user_seller_purchase_rt_db11_wk</th>\n",
              "      <th>user_seller_add_to_favorite_rt_db11_wk</th>\n",
              "      <th>user_seller_click_rt_db11_mth</th>\n",
              "      <th>user_seller_add_to_cart_rt_db11_mth</th>\n",
              "      <th>user_seller_purchase_rt_db11_mth</th>\n",
              "      <th>user_seller_add_to_favorite_rt_db11_mth</th>\n",
              "    </tr>\n",
              "  </thead>\n",
              "  <tbody>\n",
              "    <tr>\n",
              "      <th>0</th>\n",
              "      <td>34176</td>\n",
              "      <td>3906</td>\n",
              "      <td>0</td>\n",
              "      <td>1</td>\n",
              "      <td>0</td>\n",
              "      <td>0</td>\n",
              "      <td>0.0</td>\n",
              "      <td>0.0</td>\n",
              "      <td>0.0</td>\n",
              "      <td>0.0</td>\n",
              "      <td>...</td>\n",
              "      <td>NaN</td>\n",
              "      <td>NaN</td>\n",
              "      <td>NaN</td>\n",
              "      <td>NaN</td>\n",
              "      <td>NaN</td>\n",
              "      <td>NaN</td>\n",
              "      <td>NaN</td>\n",
              "      <td>NaN</td>\n",
              "      <td>NaN</td>\n",
              "      <td>NaN</td>\n",
              "    </tr>\n",
              "    <tr>\n",
              "      <th>1</th>\n",
              "      <td>34176</td>\n",
              "      <td>121</td>\n",
              "      <td>0</td>\n",
              "      <td>1</td>\n",
              "      <td>0</td>\n",
              "      <td>0</td>\n",
              "      <td>0.0</td>\n",
              "      <td>0.0</td>\n",
              "      <td>0.0</td>\n",
              "      <td>0.0</td>\n",
              "      <td>...</td>\n",
              "      <td>NaN</td>\n",
              "      <td>NaN</td>\n",
              "      <td>NaN</td>\n",
              "      <td>NaN</td>\n",
              "      <td>NaN</td>\n",
              "      <td>NaN</td>\n",
              "      <td>NaN</td>\n",
              "      <td>NaN</td>\n",
              "      <td>NaN</td>\n",
              "      <td>NaN</td>\n",
              "    </tr>\n",
              "    <tr>\n",
              "      <th>2</th>\n",
              "      <td>34176</td>\n",
              "      <td>4356</td>\n",
              "      <td>1</td>\n",
              "      <td>1</td>\n",
              "      <td>0</td>\n",
              "      <td>0</td>\n",
              "      <td>0.0</td>\n",
              "      <td>0.0</td>\n",
              "      <td>0.0</td>\n",
              "      <td>0.0</td>\n",
              "      <td>...</td>\n",
              "      <td>NaN</td>\n",
              "      <td>NaN</td>\n",
              "      <td>NaN</td>\n",
              "      <td>NaN</td>\n",
              "      <td>NaN</td>\n",
              "      <td>NaN</td>\n",
              "      <td>NaN</td>\n",
              "      <td>NaN</td>\n",
              "      <td>NaN</td>\n",
              "      <td>NaN</td>\n",
              "    </tr>\n",
              "    <tr>\n",
              "      <th>3</th>\n",
              "      <td>34176</td>\n",
              "      <td>2217</td>\n",
              "      <td>0</td>\n",
              "      <td>1</td>\n",
              "      <td>0</td>\n",
              "      <td>0</td>\n",
              "      <td>0.0</td>\n",
              "      <td>0.0</td>\n",
              "      <td>0.0</td>\n",
              "      <td>0.0</td>\n",
              "      <td>...</td>\n",
              "      <td>NaN</td>\n",
              "      <td>NaN</td>\n",
              "      <td>NaN</td>\n",
              "      <td>NaN</td>\n",
              "      <td>NaN</td>\n",
              "      <td>NaN</td>\n",
              "      <td>NaN</td>\n",
              "      <td>NaN</td>\n",
              "      <td>NaN</td>\n",
              "      <td>NaN</td>\n",
              "    </tr>\n",
              "    <tr>\n",
              "      <th>4</th>\n",
              "      <td>230784</td>\n",
              "      <td>4818</td>\n",
              "      <td>0</td>\n",
              "      <td>1</td>\n",
              "      <td>0</td>\n",
              "      <td>0</td>\n",
              "      <td>0.0</td>\n",
              "      <td>0.0</td>\n",
              "      <td>0.0</td>\n",
              "      <td>0.0</td>\n",
              "      <td>...</td>\n",
              "      <td>NaN</td>\n",
              "      <td>NaN</td>\n",
              "      <td>NaN</td>\n",
              "      <td>NaN</td>\n",
              "      <td>NaN</td>\n",
              "      <td>NaN</td>\n",
              "      <td>NaN</td>\n",
              "      <td>NaN</td>\n",
              "      <td>NaN</td>\n",
              "      <td>NaN</td>\n",
              "    </tr>\n",
              "    <tr>\n",
              "      <th>...</th>\n",
              "      <td>...</td>\n",
              "      <td>...</td>\n",
              "      <td>...</td>\n",
              "      <td>...</td>\n",
              "      <td>...</td>\n",
              "      <td>...</td>\n",
              "      <td>...</td>\n",
              "      <td>...</td>\n",
              "      <td>...</td>\n",
              "      <td>...</td>\n",
              "      <td>...</td>\n",
              "      <td>...</td>\n",
              "      <td>...</td>\n",
              "      <td>...</td>\n",
              "      <td>...</td>\n",
              "      <td>...</td>\n",
              "      <td>...</td>\n",
              "      <td>...</td>\n",
              "      <td>...</td>\n",
              "      <td>...</td>\n",
              "      <td>...</td>\n",
              "    </tr>\n",
              "    <tr>\n",
              "      <th>260859</th>\n",
              "      <td>359807</td>\n",
              "      <td>4325</td>\n",
              "      <td>0</td>\n",
              "      <td>0</td>\n",
              "      <td>1</td>\n",
              "      <td>0</td>\n",
              "      <td>0.0</td>\n",
              "      <td>0.0</td>\n",
              "      <td>0.0</td>\n",
              "      <td>1.0</td>\n",
              "      <td>...</td>\n",
              "      <td>NaN</td>\n",
              "      <td>NaN</td>\n",
              "      <td>NaN</td>\n",
              "      <td>NaN</td>\n",
              "      <td>NaN</td>\n",
              "      <td>NaN</td>\n",
              "      <td>NaN</td>\n",
              "      <td>NaN</td>\n",
              "      <td>NaN</td>\n",
              "      <td>NaN</td>\n",
              "    </tr>\n",
              "    <tr>\n",
              "      <th>260860</th>\n",
              "      <td>294527</td>\n",
              "      <td>3971</td>\n",
              "      <td>0</td>\n",
              "      <td>0</td>\n",
              "      <td>1</td>\n",
              "      <td>0</td>\n",
              "      <td>0.0</td>\n",
              "      <td>0.0</td>\n",
              "      <td>0.0</td>\n",
              "      <td>0.0</td>\n",
              "      <td>...</td>\n",
              "      <td>NaN</td>\n",
              "      <td>NaN</td>\n",
              "      <td>NaN</td>\n",
              "      <td>NaN</td>\n",
              "      <td>NaN</td>\n",
              "      <td>NaN</td>\n",
              "      <td>NaN</td>\n",
              "      <td>NaN</td>\n",
              "      <td>NaN</td>\n",
              "      <td>NaN</td>\n",
              "    </tr>\n",
              "    <tr>\n",
              "      <th>260861</th>\n",
              "      <td>294527</td>\n",
              "      <td>152</td>\n",
              "      <td>0</td>\n",
              "      <td>0</td>\n",
              "      <td>1</td>\n",
              "      <td>0</td>\n",
              "      <td>0.0</td>\n",
              "      <td>0.0</td>\n",
              "      <td>0.0</td>\n",
              "      <td>0.0</td>\n",
              "      <td>...</td>\n",
              "      <td>NaN</td>\n",
              "      <td>NaN</td>\n",
              "      <td>NaN</td>\n",
              "      <td>NaN</td>\n",
              "      <td>NaN</td>\n",
              "      <td>NaN</td>\n",
              "      <td>NaN</td>\n",
              "      <td>NaN</td>\n",
              "      <td>NaN</td>\n",
              "      <td>NaN</td>\n",
              "    </tr>\n",
              "    <tr>\n",
              "      <th>260862</th>\n",
              "      <td>294527</td>\n",
              "      <td>2537</td>\n",
              "      <td>0</td>\n",
              "      <td>0</td>\n",
              "      <td>1</td>\n",
              "      <td>0</td>\n",
              "      <td>0.0</td>\n",
              "      <td>0.0</td>\n",
              "      <td>0.0</td>\n",
              "      <td>0.0</td>\n",
              "      <td>...</td>\n",
              "      <td>NaN</td>\n",
              "      <td>NaN</td>\n",
              "      <td>NaN</td>\n",
              "      <td>NaN</td>\n",
              "      <td>NaN</td>\n",
              "      <td>NaN</td>\n",
              "      <td>NaN</td>\n",
              "      <td>NaN</td>\n",
              "      <td>NaN</td>\n",
              "      <td>NaN</td>\n",
              "    </tr>\n",
              "    <tr>\n",
              "      <th>260863</th>\n",
              "      <td>229247</td>\n",
              "      <td>4140</td>\n",
              "      <td>0</td>\n",
              "      <td>0</td>\n",
              "      <td>0</td>\n",
              "      <td>1</td>\n",
              "      <td>0.0</td>\n",
              "      <td>0.0</td>\n",
              "      <td>0.0</td>\n",
              "      <td>0.0</td>\n",
              "      <td>...</td>\n",
              "      <td>NaN</td>\n",
              "      <td>NaN</td>\n",
              "      <td>NaN</td>\n",
              "      <td>NaN</td>\n",
              "      <td>NaN</td>\n",
              "      <td>NaN</td>\n",
              "      <td>NaN</td>\n",
              "      <td>NaN</td>\n",
              "      <td>NaN</td>\n",
              "      <td>NaN</td>\n",
              "    </tr>\n",
              "  </tbody>\n",
              "</table>\n",
              "<p>260864 rows × 85 columns</p>\n",
              "</div>\n",
              "      <button class=\"colab-df-convert\" onclick=\"convertToInteractive('df-5d1d9989-0db9-4cc9-843d-d4411e60259e')\"\n",
              "              title=\"Convert this dataframe to an interactive table.\"\n",
              "              style=\"display:none;\">\n",
              "        \n",
              "  <svg xmlns=\"http://www.w3.org/2000/svg\" height=\"24px\"viewBox=\"0 0 24 24\"\n",
              "       width=\"24px\">\n",
              "    <path d=\"M0 0h24v24H0V0z\" fill=\"none\"/>\n",
              "    <path d=\"M18.56 5.44l.94 2.06.94-2.06 2.06-.94-2.06-.94-.94-2.06-.94 2.06-2.06.94zm-11 1L8.5 8.5l.94-2.06 2.06-.94-2.06-.94L8.5 2.5l-.94 2.06-2.06.94zm10 10l.94 2.06.94-2.06 2.06-.94-2.06-.94-.94-2.06-.94 2.06-2.06.94z\"/><path d=\"M17.41 7.96l-1.37-1.37c-.4-.4-.92-.59-1.43-.59-.52 0-1.04.2-1.43.59L10.3 9.45l-7.72 7.72c-.78.78-.78 2.05 0 2.83L4 21.41c.39.39.9.59 1.41.59.51 0 1.02-.2 1.41-.59l7.78-7.78 2.81-2.81c.8-.78.8-2.07 0-2.86zM5.41 20L4 18.59l7.72-7.72 1.47 1.35L5.41 20z\"/>\n",
              "  </svg>\n",
              "      </button>\n",
              "      \n",
              "  <style>\n",
              "    .colab-df-container {\n",
              "      display:flex;\n",
              "      flex-wrap:wrap;\n",
              "      gap: 12px;\n",
              "    }\n",
              "\n",
              "    .colab-df-convert {\n",
              "      background-color: #E8F0FE;\n",
              "      border: none;\n",
              "      border-radius: 50%;\n",
              "      cursor: pointer;\n",
              "      display: none;\n",
              "      fill: #1967D2;\n",
              "      height: 32px;\n",
              "      padding: 0 0 0 0;\n",
              "      width: 32px;\n",
              "    }\n",
              "\n",
              "    .colab-df-convert:hover {\n",
              "      background-color: #E2EBFA;\n",
              "      box-shadow: 0px 1px 2px rgba(60, 64, 67, 0.3), 0px 1px 3px 1px rgba(60, 64, 67, 0.15);\n",
              "      fill: #174EA6;\n",
              "    }\n",
              "\n",
              "    [theme=dark] .colab-df-convert {\n",
              "      background-color: #3B4455;\n",
              "      fill: #D2E3FC;\n",
              "    }\n",
              "\n",
              "    [theme=dark] .colab-df-convert:hover {\n",
              "      background-color: #434B5C;\n",
              "      box-shadow: 0px 1px 3px 1px rgba(0, 0, 0, 0.15);\n",
              "      filter: drop-shadow(0px 1px 2px rgba(0, 0, 0, 0.3));\n",
              "      fill: #FFFFFF;\n",
              "    }\n",
              "  </style>\n",
              "\n",
              "      <script>\n",
              "        const buttonEl =\n",
              "          document.querySelector('#df-5d1d9989-0db9-4cc9-843d-d4411e60259e button.colab-df-convert');\n",
              "        buttonEl.style.display =\n",
              "          google.colab.kernel.accessAllowed ? 'block' : 'none';\n",
              "\n",
              "        async function convertToInteractive(key) {\n",
              "          const element = document.querySelector('#df-5d1d9989-0db9-4cc9-843d-d4411e60259e');\n",
              "          const dataTable =\n",
              "            await google.colab.kernel.invokeFunction('convertToInteractive',\n",
              "                                                     [key], {});\n",
              "          if (!dataTable) return;\n",
              "\n",
              "          const docLinkHtml = 'Like what you see? Visit the ' +\n",
              "            '<a target=\"_blank\" href=https://colab.research.google.com/notebooks/data_table.ipynb>data table notebook</a>'\n",
              "            + ' to learn more about interactive tables.';\n",
              "          element.innerHTML = '';\n",
              "          dataTable['output_type'] = 'display_data';\n",
              "          await google.colab.output.renderOutput(dataTable, element);\n",
              "          const docLink = document.createElement('div');\n",
              "          docLink.innerHTML = docLinkHtml;\n",
              "          element.appendChild(docLink);\n",
              "        }\n",
              "      </script>\n",
              "    </div>\n",
              "  </div>\n",
              "  "
            ]
          },
          "metadata": {},
          "execution_count": 36
        }
      ],
      "source": [
        "#load data\n",
        "train = pd.read_csv('train_1026.csv')\n",
        "train"
      ]
    },
    {
      "cell_type": "code",
      "execution_count": 37,
      "metadata": {
        "colab": {
          "base_uri": "https://localhost:8080/",
          "height": 206
        },
        "id": "DashGN6H3pSa",
        "outputId": "f9463255-0fd2-4321-bdbe-582e9c5ed50f"
      },
      "outputs": [
        {
          "output_type": "execute_result",
          "data": {
            "text/plain": [
              "   user_id  merchant_id  prob\n",
              "0   163968         4605   NaN\n",
              "1   360576         1581   NaN\n",
              "2    98688         1964   NaN\n",
              "3    98688         3645   NaN\n",
              "4   295296         3361   NaN"
            ],
            "text/html": [
              "\n",
              "  <div id=\"df-3bfdb8b7-4b07-44f9-a10d-4f59cb2fe162\">\n",
              "    <div class=\"colab-df-container\">\n",
              "      <div>\n",
              "<style scoped>\n",
              "    .dataframe tbody tr th:only-of-type {\n",
              "        vertical-align: middle;\n",
              "    }\n",
              "\n",
              "    .dataframe tbody tr th {\n",
              "        vertical-align: top;\n",
              "    }\n",
              "\n",
              "    .dataframe thead th {\n",
              "        text-align: right;\n",
              "    }\n",
              "</style>\n",
              "<table border=\"1\" class=\"dataframe\">\n",
              "  <thead>\n",
              "    <tr style=\"text-align: right;\">\n",
              "      <th></th>\n",
              "      <th>user_id</th>\n",
              "      <th>merchant_id</th>\n",
              "      <th>prob</th>\n",
              "    </tr>\n",
              "  </thead>\n",
              "  <tbody>\n",
              "    <tr>\n",
              "      <th>0</th>\n",
              "      <td>163968</td>\n",
              "      <td>4605</td>\n",
              "      <td>NaN</td>\n",
              "    </tr>\n",
              "    <tr>\n",
              "      <th>1</th>\n",
              "      <td>360576</td>\n",
              "      <td>1581</td>\n",
              "      <td>NaN</td>\n",
              "    </tr>\n",
              "    <tr>\n",
              "      <th>2</th>\n",
              "      <td>98688</td>\n",
              "      <td>1964</td>\n",
              "      <td>NaN</td>\n",
              "    </tr>\n",
              "    <tr>\n",
              "      <th>3</th>\n",
              "      <td>98688</td>\n",
              "      <td>3645</td>\n",
              "      <td>NaN</td>\n",
              "    </tr>\n",
              "    <tr>\n",
              "      <th>4</th>\n",
              "      <td>295296</td>\n",
              "      <td>3361</td>\n",
              "      <td>NaN</td>\n",
              "    </tr>\n",
              "  </tbody>\n",
              "</table>\n",
              "</div>\n",
              "      <button class=\"colab-df-convert\" onclick=\"convertToInteractive('df-3bfdb8b7-4b07-44f9-a10d-4f59cb2fe162')\"\n",
              "              title=\"Convert this dataframe to an interactive table.\"\n",
              "              style=\"display:none;\">\n",
              "        \n",
              "  <svg xmlns=\"http://www.w3.org/2000/svg\" height=\"24px\"viewBox=\"0 0 24 24\"\n",
              "       width=\"24px\">\n",
              "    <path d=\"M0 0h24v24H0V0z\" fill=\"none\"/>\n",
              "    <path d=\"M18.56 5.44l.94 2.06.94-2.06 2.06-.94-2.06-.94-.94-2.06-.94 2.06-2.06.94zm-11 1L8.5 8.5l.94-2.06 2.06-.94-2.06-.94L8.5 2.5l-.94 2.06-2.06.94zm10 10l.94 2.06.94-2.06 2.06-.94-2.06-.94-.94-2.06-.94 2.06-2.06.94z\"/><path d=\"M17.41 7.96l-1.37-1.37c-.4-.4-.92-.59-1.43-.59-.52 0-1.04.2-1.43.59L10.3 9.45l-7.72 7.72c-.78.78-.78 2.05 0 2.83L4 21.41c.39.39.9.59 1.41.59.51 0 1.02-.2 1.41-.59l7.78-7.78 2.81-2.81c.8-.78.8-2.07 0-2.86zM5.41 20L4 18.59l7.72-7.72 1.47 1.35L5.41 20z\"/>\n",
              "  </svg>\n",
              "      </button>\n",
              "      \n",
              "  <style>\n",
              "    .colab-df-container {\n",
              "      display:flex;\n",
              "      flex-wrap:wrap;\n",
              "      gap: 12px;\n",
              "    }\n",
              "\n",
              "    .colab-df-convert {\n",
              "      background-color: #E8F0FE;\n",
              "      border: none;\n",
              "      border-radius: 50%;\n",
              "      cursor: pointer;\n",
              "      display: none;\n",
              "      fill: #1967D2;\n",
              "      height: 32px;\n",
              "      padding: 0 0 0 0;\n",
              "      width: 32px;\n",
              "    }\n",
              "\n",
              "    .colab-df-convert:hover {\n",
              "      background-color: #E2EBFA;\n",
              "      box-shadow: 0px 1px 2px rgba(60, 64, 67, 0.3), 0px 1px 3px 1px rgba(60, 64, 67, 0.15);\n",
              "      fill: #174EA6;\n",
              "    }\n",
              "\n",
              "    [theme=dark] .colab-df-convert {\n",
              "      background-color: #3B4455;\n",
              "      fill: #D2E3FC;\n",
              "    }\n",
              "\n",
              "    [theme=dark] .colab-df-convert:hover {\n",
              "      background-color: #434B5C;\n",
              "      box-shadow: 0px 1px 3px 1px rgba(0, 0, 0, 0.15);\n",
              "      filter: drop-shadow(0px 1px 2px rgba(0, 0, 0, 0.3));\n",
              "      fill: #FFFFFF;\n",
              "    }\n",
              "  </style>\n",
              "\n",
              "      <script>\n",
              "        const buttonEl =\n",
              "          document.querySelector('#df-3bfdb8b7-4b07-44f9-a10d-4f59cb2fe162 button.colab-df-convert');\n",
              "        buttonEl.style.display =\n",
              "          google.colab.kernel.accessAllowed ? 'block' : 'none';\n",
              "\n",
              "        async function convertToInteractive(key) {\n",
              "          const element = document.querySelector('#df-3bfdb8b7-4b07-44f9-a10d-4f59cb2fe162');\n",
              "          const dataTable =\n",
              "            await google.colab.kernel.invokeFunction('convertToInteractive',\n",
              "                                                     [key], {});\n",
              "          if (!dataTable) return;\n",
              "\n",
              "          const docLinkHtml = 'Like what you see? Visit the ' +\n",
              "            '<a target=\"_blank\" href=https://colab.research.google.com/notebooks/data_table.ipynb>data table notebook</a>'\n",
              "            + ' to learn more about interactive tables.';\n",
              "          element.innerHTML = '';\n",
              "          dataTable['output_type'] = 'display_data';\n",
              "          await google.colab.output.renderOutput(dataTable, element);\n",
              "          const docLink = document.createElement('div');\n",
              "          docLink.innerHTML = docLinkHtml;\n",
              "          element.appendChild(docLink);\n",
              "        }\n",
              "      </script>\n",
              "    </div>\n",
              "  </div>\n",
              "  "
            ]
          },
          "metadata": {},
          "execution_count": 37
        }
      ],
      "source": [
        "test = pd.read_csv('test_format1.csv')\n",
        "test.head()"
      ]
    },
    {
      "cell_type": "markdown",
      "source": [
        "Replacing np.inf with 0 allows algorithms to handle such values without causing errors or bias."
      ],
      "metadata": {
        "id": "3vUJlmP2lwrJ"
      }
    },
    {
      "cell_type": "code",
      "execution_count": 38,
      "metadata": {
        "id": "QbDmP8oF3pSb"
      },
      "outputs": [],
      "source": [
        "#fill all infinite entry with 0\n",
        "train = train.replace(np.inf, 0)\n",
        "test = test.replace(np.inf, 0)"
      ]
    },
    {
      "cell_type": "code",
      "execution_count": 52,
      "metadata": {
        "colab": {
          "base_uri": "https://localhost:8080/"
        },
        "id": "QPtB-dax3pSb",
        "outputId": "08c2dd53-2528-4a54-8e8f-abf4b8bbcf3b"
      },
      "outputs": [
        {
          "output_type": "stream",
          "name": "stdout",
          "text": [
            "In the original data, counts of label 1: 15952\n",
            "In the original data, counts of label 0: 244912\n",
            "In the original data, counts of label 2: 0\n",
            "In the original data, counts of label 3: 0\n"
          ]
        }
      ],
      "source": [
        "#data split (training_set, testing_set)\n",
        "data_output = train.label\n",
        "data_input = train.drop('label',axis=1)\n",
        "#unbalanced\n",
        "data_output.sum()/data_output.count()\n",
        "print('In the original data, counts of label 1:',format(sum(data_output==1)))\n",
        "print('In the original data, counts of label 0:',format(sum(data_output==0)))\n"
      ]
    },
    {
      "cell_type": "code",
      "source": [
        "train.columns"
      ],
      "metadata": {
        "colab": {
          "base_uri": "https://localhost:8080/"
        },
        "id": "XpLVzUgDmIFG",
        "outputId": "19d20aa5-1ab2-4967-9a73-95e01f8a5309"
      },
      "execution_count": 53,
      "outputs": [
        {
          "output_type": "execute_result",
          "data": {
            "text/plain": [
              "Index(['user_id', 'seller_id', 'label', 'user_gender_female',\n",
              "       'user_gender_male', 'user_gender_unknown', 'user_age_0_18',\n",
              "       'user_age_18_24', 'user_age_25_29', 'user_age_30_34', 'user_age_35_39',\n",
              "       'user_age_40_49', 'user_age_50_', 'user_age_unknown', 'user_click_cnt',\n",
              "       'user_add_to_cart_cnt', 'user_purchase_cnt', 'user_add_to_favorite_cnt',\n",
              "       'user_action_total_cnt', 'user_purchase_rt', 'seller_click_cnt',\n",
              "       'seller_add_to_cart_cnt', 'seller_purchase_cnt',\n",
              "       'seller_add_to_favorite_cnt', 'seller_action_total_cnt',\n",
              "       'seller_purchase_rt', 'user_seller_click_cnt',\n",
              "       'user_seller_add_to_cart_cnt', 'user_seller_purchase_cnt',\n",
              "       'user_seller_add_to_favorite_cnt', 'user_seller_action_total_cnt',\n",
              "       'user_seller_purchase_rt', 'user_click_days', 'user_add_to_cart_days',\n",
              "       'user_purchase_days', 'user_add_to_favorite_days',\n",
              "       'user_action_total_days', 'user_purchase_day_rt', 'seller_click_days',\n",
              "       'seller_add_to_cart_days', 'seller_purchase_days',\n",
              "       'seller_add_to_favorite_days', 'seller_action_total_days',\n",
              "       'seller_purchase_day_rt', 'user_seller_click_days',\n",
              "       'user_seller_add_to_cart_days', 'user_seller_purchase_days',\n",
              "       'user_seller_add_to_favorite_days', 'user_seller_action_total_days',\n",
              "       'user_seller_purchase_day_rt', 'user_brand_cnt', 'user_cat_cnt',\n",
              "       'user_item_cnt', 'seller_brand_cnt', 'seller_cat_cnt',\n",
              "       'seller_item_cnt', 'user_seller_brand_cnt', 'user_seller_cat_cnt',\n",
              "       'user_seller_item_cnt', 'brand_similarity_score',\n",
              "       'cat_similarity_score', 'user_seller_click_cnt_db11',\n",
              "       'user_seller_add_to_cart_cnt_db11', 'user_seller_purchase_cnt_db11',\n",
              "       'user_seller_add_to_favorite_cnt_db11', 'user_seller_click_cnt_db11_wk',\n",
              "       'user_seller_add_to_cart_cnt_db11_wk',\n",
              "       'user_seller_purchase_cnt_db11_wk',\n",
              "       'user_seller_add_to_favorite_cnt_db11_wk',\n",
              "       'user_seller_click_cnt_db11_mth',\n",
              "       'user_seller_add_to_cart_cnt_db11_mth',\n",
              "       'user_seller_purchase_cnt_db11_mth',\n",
              "       'user_seller_add_to_favorite_cnt_db11_mth', 'user_seller_click_rt_db11',\n",
              "       'user_seller_add_to_cart_rt_db11', 'user_seller_purchase_rt_db11',\n",
              "       'user_seller_add_to_favorite_rt_db11', 'user_seller_click_rt_db11_wk',\n",
              "       'user_seller_add_to_cart_rt_db11_wk', 'user_seller_purchase_rt_db11_wk',\n",
              "       'user_seller_add_to_favorite_rt_db11_wk',\n",
              "       'user_seller_click_rt_db11_mth', 'user_seller_add_to_cart_rt_db11_mth',\n",
              "       'user_seller_purchase_rt_db11_mth',\n",
              "       'user_seller_add_to_favorite_rt_db11_mth'],\n",
              "      dtype='object')"
            ]
          },
          "metadata": {},
          "execution_count": 53
        }
      ]
    },
    {
      "cell_type": "code",
      "execution_count": 40,
      "metadata": {
        "colab": {
          "base_uri": "https://localhost:8080/"
        },
        "id": "OmHNQQik3pSc",
        "outputId": "5d543b30-6cd7-4b11-ebd5-f6fcbbcbd725"
      },
      "outputs": [
        {
          "output_type": "stream",
          "name": "stdout",
          "text": [
            "(182604, 84) (78260, 84) (182604,) (78260,)\n"
          ]
        }
      ],
      "source": [
        "training_set_x, testing_set_x, training_set_y, testing_set_y = train_test_split(data_input, data_output, test_size=0.3, random_state=1)\n",
        "print(training_set_x.shape, testing_set_x.shape, training_set_y.shape, testing_set_y.shape)"
      ]
    },
    {
      "cell_type": "markdown",
      "source": [
        "True- Finite\n",
        "False-Infinite"
      ],
      "metadata": {
        "id": "59IYbOKsmdMP"
      }
    },
    {
      "cell_type": "code",
      "execution_count": 41,
      "metadata": {
        "colab": {
          "base_uri": "https://localhost:8080/"
        },
        "id": "cdZa21q03pSd",
        "outputId": "a96776dd-5887-4c8d-d0a0-aabda1e13eda"
      },
      "outputs": [
        {
          "output_type": "execute_result",
          "data": {
            "text/plain": [
              "user_id                                     True\n",
              "seller_id                                   True\n",
              "user_gender_female                          True\n",
              "user_gender_male                            True\n",
              "user_gender_unknown                         True\n",
              "                                           ...  \n",
              "user_seller_add_to_favorite_rt_db11_wk     False\n",
              "user_seller_click_rt_db11_mth              False\n",
              "user_seller_add_to_cart_rt_db11_mth        False\n",
              "user_seller_purchase_rt_db11_mth           False\n",
              "user_seller_add_to_favorite_rt_db11_mth    False\n",
              "Length: 84, dtype: bool"
            ]
          },
          "metadata": {},
          "execution_count": 41
        }
      ],
      "source": [
        "np.isfinite(training_set_x).all()"
      ]
    },
    {
      "cell_type": "code",
      "execution_count": 42,
      "metadata": {
        "id": "quVafTZg3pSd"
      },
      "outputs": [],
      "source": [
        "training_set_x_id = training_set_x[['user_id','seller_id']]\n",
        "testing_set_x_id = testing_set_x[['user_id', 'seller_id']]\n",
        "training_set_x = training_set_x.drop(['user_id','seller_id'], axis=1)\n",
        "testing_set_x = testing_set_x.drop(['user_id','seller_id'], axis=1)"
      ]
    },
    {
      "cell_type": "code",
      "execution_count": 43,
      "metadata": {
        "colab": {
          "base_uri": "https://localhost:8080/",
          "height": 206
        },
        "id": "SZAMkNve3pSe",
        "outputId": "f0f8b7fa-401c-4d66-e907-e76f70c3a003"
      },
      "outputs": [
        {
          "output_type": "execute_result",
          "data": {
            "text/plain": [
              "        user_id  seller_id\n",
              "10287    189342       4385\n",
              "38400    342513       1608\n",
              "231446   265001        246\n",
              "88252    307588       1861\n",
              "56734    118311       4808"
            ],
            "text/html": [
              "\n",
              "  <div id=\"df-8548a28e-106e-4cb9-bc34-78d65a881e73\">\n",
              "    <div class=\"colab-df-container\">\n",
              "      <div>\n",
              "<style scoped>\n",
              "    .dataframe tbody tr th:only-of-type {\n",
              "        vertical-align: middle;\n",
              "    }\n",
              "\n",
              "    .dataframe tbody tr th {\n",
              "        vertical-align: top;\n",
              "    }\n",
              "\n",
              "    .dataframe thead th {\n",
              "        text-align: right;\n",
              "    }\n",
              "</style>\n",
              "<table border=\"1\" class=\"dataframe\">\n",
              "  <thead>\n",
              "    <tr style=\"text-align: right;\">\n",
              "      <th></th>\n",
              "      <th>user_id</th>\n",
              "      <th>seller_id</th>\n",
              "    </tr>\n",
              "  </thead>\n",
              "  <tbody>\n",
              "    <tr>\n",
              "      <th>10287</th>\n",
              "      <td>189342</td>\n",
              "      <td>4385</td>\n",
              "    </tr>\n",
              "    <tr>\n",
              "      <th>38400</th>\n",
              "      <td>342513</td>\n",
              "      <td>1608</td>\n",
              "    </tr>\n",
              "    <tr>\n",
              "      <th>231446</th>\n",
              "      <td>265001</td>\n",
              "      <td>246</td>\n",
              "    </tr>\n",
              "    <tr>\n",
              "      <th>88252</th>\n",
              "      <td>307588</td>\n",
              "      <td>1861</td>\n",
              "    </tr>\n",
              "    <tr>\n",
              "      <th>56734</th>\n",
              "      <td>118311</td>\n",
              "      <td>4808</td>\n",
              "    </tr>\n",
              "  </tbody>\n",
              "</table>\n",
              "</div>\n",
              "      <button class=\"colab-df-convert\" onclick=\"convertToInteractive('df-8548a28e-106e-4cb9-bc34-78d65a881e73')\"\n",
              "              title=\"Convert this dataframe to an interactive table.\"\n",
              "              style=\"display:none;\">\n",
              "        \n",
              "  <svg xmlns=\"http://www.w3.org/2000/svg\" height=\"24px\"viewBox=\"0 0 24 24\"\n",
              "       width=\"24px\">\n",
              "    <path d=\"M0 0h24v24H0V0z\" fill=\"none\"/>\n",
              "    <path d=\"M18.56 5.44l.94 2.06.94-2.06 2.06-.94-2.06-.94-.94-2.06-.94 2.06-2.06.94zm-11 1L8.5 8.5l.94-2.06 2.06-.94-2.06-.94L8.5 2.5l-.94 2.06-2.06.94zm10 10l.94 2.06.94-2.06 2.06-.94-2.06-.94-.94-2.06-.94 2.06-2.06.94z\"/><path d=\"M17.41 7.96l-1.37-1.37c-.4-.4-.92-.59-1.43-.59-.52 0-1.04.2-1.43.59L10.3 9.45l-7.72 7.72c-.78.78-.78 2.05 0 2.83L4 21.41c.39.39.9.59 1.41.59.51 0 1.02-.2 1.41-.59l7.78-7.78 2.81-2.81c.8-.78.8-2.07 0-2.86zM5.41 20L4 18.59l7.72-7.72 1.47 1.35L5.41 20z\"/>\n",
              "  </svg>\n",
              "      </button>\n",
              "      \n",
              "  <style>\n",
              "    .colab-df-container {\n",
              "      display:flex;\n",
              "      flex-wrap:wrap;\n",
              "      gap: 12px;\n",
              "    }\n",
              "\n",
              "    .colab-df-convert {\n",
              "      background-color: #E8F0FE;\n",
              "      border: none;\n",
              "      border-radius: 50%;\n",
              "      cursor: pointer;\n",
              "      display: none;\n",
              "      fill: #1967D2;\n",
              "      height: 32px;\n",
              "      padding: 0 0 0 0;\n",
              "      width: 32px;\n",
              "    }\n",
              "\n",
              "    .colab-df-convert:hover {\n",
              "      background-color: #E2EBFA;\n",
              "      box-shadow: 0px 1px 2px rgba(60, 64, 67, 0.3), 0px 1px 3px 1px rgba(60, 64, 67, 0.15);\n",
              "      fill: #174EA6;\n",
              "    }\n",
              "\n",
              "    [theme=dark] .colab-df-convert {\n",
              "      background-color: #3B4455;\n",
              "      fill: #D2E3FC;\n",
              "    }\n",
              "\n",
              "    [theme=dark] .colab-df-convert:hover {\n",
              "      background-color: #434B5C;\n",
              "      box-shadow: 0px 1px 3px 1px rgba(0, 0, 0, 0.15);\n",
              "      filter: drop-shadow(0px 1px 2px rgba(0, 0, 0, 0.3));\n",
              "      fill: #FFFFFF;\n",
              "    }\n",
              "  </style>\n",
              "\n",
              "      <script>\n",
              "        const buttonEl =\n",
              "          document.querySelector('#df-8548a28e-106e-4cb9-bc34-78d65a881e73 button.colab-df-convert');\n",
              "        buttonEl.style.display =\n",
              "          google.colab.kernel.accessAllowed ? 'block' : 'none';\n",
              "\n",
              "        async function convertToInteractive(key) {\n",
              "          const element = document.querySelector('#df-8548a28e-106e-4cb9-bc34-78d65a881e73');\n",
              "          const dataTable =\n",
              "            await google.colab.kernel.invokeFunction('convertToInteractive',\n",
              "                                                     [key], {});\n",
              "          if (!dataTable) return;\n",
              "\n",
              "          const docLinkHtml = 'Like what you see? Visit the ' +\n",
              "            '<a target=\"_blank\" href=https://colab.research.google.com/notebooks/data_table.ipynb>data table notebook</a>'\n",
              "            + ' to learn more about interactive tables.';\n",
              "          element.innerHTML = '';\n",
              "          dataTable['output_type'] = 'display_data';\n",
              "          await google.colab.output.renderOutput(dataTable, element);\n",
              "          const docLink = document.createElement('div');\n",
              "          docLink.innerHTML = docLinkHtml;\n",
              "          element.appendChild(docLink);\n",
              "        }\n",
              "      </script>\n",
              "    </div>\n",
              "  </div>\n",
              "  "
            ]
          },
          "metadata": {},
          "execution_count": 43
        }
      ],
      "source": [
        "testing_set_x_id.head()"
      ]
    },
    {
      "cell_type": "code",
      "execution_count": 44,
      "metadata": {
        "colab": {
          "base_uri": "https://localhost:8080/"
        },
        "id": "UrR5OEfH3pSe",
        "outputId": "cb18176f-7eb6-4f27-ab80-005e5f735d38"
      },
      "outputs": [
        {
          "output_type": "stream",
          "name": "stdout",
          "text": [
            "(182604, 82)\n",
            "(78260, 82)\n"
          ]
        }
      ],
      "source": [
        "print(training_set_x.shape)\n",
        "print(testing_set_x.shape)"
      ]
    },
    {
      "cell_type": "markdown",
      "source": [
        "The predict_proba() method is a function that outputs the predicted probabilities of the input data belonging to each class."
      ],
      "metadata": {
        "id": "1GNgl70amvYH"
      }
    },
    {
      "cell_type": "code",
      "execution_count": 45,
      "metadata": {
        "colab": {
          "base_uri": "https://localhost:8080/"
        },
        "id": "nysofX4Z3pSf",
        "outputId": "ab805955-7b69-457b-8525-e3dbdae6d9ab"
      },
      "outputs": [
        {
          "output_type": "stream",
          "name": "stdout",
          "text": [
            "Accuracy: 0.9381165346281626\n",
            "ROC AUC: 0.5484945444889355\n"
          ]
        }
      ],
      "source": [
        "#initial model fitting\n",
        "#HistGradientBoostingClassifier\n",
        "model = HistGradientBoostingClassifier()\n",
        "#fit on training data\n",
        "model.fit(training_set_x, training_set_y)\n",
        "#predictions\n",
        "rf_predictions = model.predict(testing_set_x)\n",
        "rf_probs = model.predict_proba(testing_set_x)[:, 1]\n",
        "#check model accuracy, ROC AUC\n",
        "print('Accuracy:',metrics.accuracy_score(testing_set_y, rf_predictions))\n",
        "print('ROC AUC:', metrics.roc_auc_score(testing_set_y, rf_probs))"
      ]
    },
    {
      "cell_type": "code",
      "execution_count": 54,
      "metadata": {
        "colab": {
          "base_uri": "https://localhost:8080/"
        },
        "id": "V1yQwGmz3pSg",
        "outputId": "1927682a-9f4f-4343-b1bb-063651d35ad0"
      },
      "outputs": [
        {
          "output_type": "execute_result",
          "data": {
            "text/plain": [
              "(array([0, 0, 0, ..., 0, 0, 0]),\n",
              " array([0.05272593, 0.06175827, 0.04870698, ..., 0.06506829, 0.06506829,\n",
              "        0.06506829]))"
            ]
          },
          "metadata": {},
          "execution_count": 54
        }
      ],
      "source": [
        "rf_predictions, rf_probs"
      ]
    },
    {
      "cell_type": "code",
      "execution_count": 47,
      "metadata": {
        "colab": {
          "base_uri": "https://localhost:8080/"
        },
        "id": "NVyCiQc63pSg",
        "outputId": "87ff6855-0847-4347-98b3-0921d3e4608b"
      },
      "outputs": [
        {
          "output_type": "stream",
          "name": "stdout",
          "text": [
            "Accuracy: 0.9381165346281626\n",
            "ROC AUC 0.5487704231177624\n"
          ]
        }
      ],
      "source": [
        "#Gradient Boosting\n",
        "model_gbm = lgb.LGBMClassifier(objective='binary', metric='binary_logloss',learning_rate=0.03)\n",
        "#fit on training data\n",
        "model_gbm.fit(training_set_x, training_set_y)\n",
        "#predictions\n",
        "gbm_predictions = model_gbm.predict(testing_set_x)\n",
        "gbm_probs = model_gbm.predict_proba(testing_set_x)[:, 1]\n",
        "#check model accuracy, ROC AUC\n",
        "print('Accuracy:', metrics.accuracy_score(testing_set_y, gbm_predictions))\n",
        "print('ROC AUC', metrics.roc_auc_score(testing_set_y, gbm_probs))"
      ]
    },
    {
      "cell_type": "code",
      "execution_count": 55,
      "metadata": {
        "colab": {
          "base_uri": "https://localhost:8080/"
        },
        "id": "PAPqhx843pSh",
        "outputId": "185cc075-eaf3-44c8-ca52-6c3645d29ee2"
      },
      "outputs": [
        {
          "output_type": "execute_result",
          "data": {
            "text/plain": [
              "0.06079528285407838"
            ]
          },
          "metadata": {},
          "execution_count": 55
        }
      ],
      "source": [
        "np.mean(gbm_predictions)\n",
        "np.mean(gbm_probs)"
      ]
    },
    {
      "cell_type": "code",
      "execution_count": 49,
      "metadata": {
        "colab": {
          "base_uri": "https://localhost:8080/"
        },
        "id": "OCGNmN3K3pSh",
        "outputId": "a1244888-9d0d-42d2-96b2-2e8e6daa3164"
      },
      "outputs": [
        {
          "output_type": "stream",
          "name": "stdout",
          "text": [
            "Accuracy: 0.9381165346281626\n",
            "ROC AUC 0.547347812054044\n"
          ]
        }
      ],
      "source": [
        "#XGB\n",
        "model_xgb = XGBClassifier(objective ='binary:logistic', learning_rate=0.1)\n",
        "#fit on training data\n",
        "model_xgb.fit(training_set_x, training_set_y)\n",
        "#predictions\n",
        "xgb_predictions = model_xgb.predict(testing_set_x)\n",
        "xgb_probs = model_xgb.predict_proba(testing_set_x)[:, 1]\n",
        "#check model accuracy, ROC AUC\n",
        "print('Accuracy:', metrics.accuracy_score(testing_set_y, xgb_predictions))\n",
        "print('ROC AUC', metrics.roc_auc_score(testing_set_y, xgb_probs))"
      ]
    },
    {
      "cell_type": "code",
      "execution_count": 50,
      "metadata": {
        "colab": {
          "base_uri": "https://localhost:8080/"
        },
        "id": "no6IkYnM3pSi",
        "outputId": "f39aa11a-a2b4-4c66-d960-403a5c8dd77d"
      },
      "outputs": [
        {
          "output_type": "execute_result",
          "data": {
            "text/plain": [
              "0.0"
            ]
          },
          "metadata": {},
          "execution_count": 50
        }
      ],
      "source": [
        "np.mean(xgb_predictions)"
      ]
    }
  ],
  "metadata": {
    "kernelspec": {
      "display_name": "Python 3",
      "language": "python",
      "name": "python3"
    },
    "language_info": {
      "codemirror_mode": {
        "name": "ipython",
        "version": 3
      },
      "file_extension": ".py",
      "mimetype": "text/x-python",
      "name": "python",
      "nbconvert_exporter": "python",
      "pygments_lexer": "ipython3",
      "version": "3.7.4"
    },
    "colab": {
      "provenance": []
    }
  },
  "nbformat": 4,
  "nbformat_minor": 0
}