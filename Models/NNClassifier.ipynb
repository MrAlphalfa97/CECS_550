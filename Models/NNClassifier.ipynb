{
 "cells": [
  {
   "cell_type": "markdown",
   "metadata": {},
   "source": [
    "# Neural Network Classifier"
   ]
  },
  {
   "cell_type": "code",
   "execution_count": 1,
   "metadata": {},
   "outputs": [],
   "source": [
    "from keras import models\n",
    "from keras import layers\n",
    "from keras import optimizers\n",
    "from keras import losses\n",
    "from keras import metrics\n",
    "import pandas as pd\n",
    "\n",
    "from sklearn.model_selection import train_test_split"
   ]
  },
  {
   "cell_type": "markdown",
   "metadata": {},
   "source": [
    "### Testing Dataset Creation"
   ]
  },
  {
   "cell_type": "code",
   "execution_count": 58,
   "metadata": {},
   "outputs": [],
   "source": [
    "train_df_full = pd.read_csv(\"../data_format1/full_data/train_format1.csv\")\n",
    "train_df = pd.read_csv(\"../data_format1/use_data/train_format1[161-320].csv\")\n",
    "#same number of samples when merging with full or subset dataset\n",
    "merged = pd.read_csv(\"../data_format1/use_data/merged_dataset.csv\")\n",
    "\n",
    "#only pick those in merged whose [\"user_id\", \"seller_id\"] match with [\"user_id\", \"merchant_id\"] in the train_format1 document\n",
    "training_key = train_df.loc[:, [\"user_id\", \"merchant_id\", \"label\"]] \n",
    "training_set = merged.merge(\n",
    "        training_key, \n",
    "        how=\"inner\", \n",
    "        left_on=[\"user_id\", \"seller_id\"], \n",
    "        right_on=[\"user_id\", \"merchant_id\"]\n",
    ")"
   ]
  },
  {
   "cell_type": "code",
   "execution_count": 59,
   "metadata": {},
   "outputs": [
    {
     "data": {
      "text/plain": [
       "(385, 11)"
      ]
     },
     "execution_count": 59,
     "metadata": {},
     "output_type": "execute_result"
    }
   ],
   "source": [
    "training_set.shape"
   ]
  },
  {
   "cell_type": "code",
   "execution_count": 60,
   "metadata": {},
   "outputs": [
    {
     "data": {
      "text/html": [
       "<div>\n",
       "<style scoped>\n",
       "    .dataframe tbody tr th:only-of-type {\n",
       "        vertical-align: middle;\n",
       "    }\n",
       "\n",
       "    .dataframe tbody tr th {\n",
       "        vertical-align: top;\n",
       "    }\n",
       "\n",
       "    .dataframe thead th {\n",
       "        text-align: right;\n",
       "    }\n",
       "</style>\n",
       "<table border=\"1\" class=\"dataframe\">\n",
       "  <thead>\n",
       "    <tr style=\"text-align: right;\">\n",
       "      <th></th>\n",
       "      <th>user_id</th>\n",
       "      <th>item_id</th>\n",
       "      <th>cat_id</th>\n",
       "      <th>seller_id</th>\n",
       "      <th>brand_id</th>\n",
       "      <th>time_stamp</th>\n",
       "      <th>action_type</th>\n",
       "      <th>age_range</th>\n",
       "      <th>gender</th>\n",
       "      <th>merchant_id</th>\n",
       "      <th>label</th>\n",
       "    </tr>\n",
       "  </thead>\n",
       "  <tbody>\n",
       "    <tr>\n",
       "      <th>0</th>\n",
       "      <td>379824</td>\n",
       "      <td>198</td>\n",
       "      <td>656</td>\n",
       "      <td>145</td>\n",
       "      <td>3462.0</td>\n",
       "      <td>1111</td>\n",
       "      <td>0</td>\n",
       "      <td>5.0</td>\n",
       "      <td>1.0</td>\n",
       "      <td>145</td>\n",
       "      <td>0</td>\n",
       "    </tr>\n",
       "    <tr>\n",
       "      <th>1</th>\n",
       "      <td>379824</td>\n",
       "      <td>198</td>\n",
       "      <td>656</td>\n",
       "      <td>145</td>\n",
       "      <td>3462.0</td>\n",
       "      <td>1111</td>\n",
       "      <td>0</td>\n",
       "      <td>5.0</td>\n",
       "      <td>1.0</td>\n",
       "      <td>145</td>\n",
       "      <td>0</td>\n",
       "    </tr>\n",
       "    <tr>\n",
       "      <th>2</th>\n",
       "      <td>379824</td>\n",
       "      <td>198</td>\n",
       "      <td>656</td>\n",
       "      <td>145</td>\n",
       "      <td>3462.0</td>\n",
       "      <td>1111</td>\n",
       "      <td>2</td>\n",
       "      <td>5.0</td>\n",
       "      <td>1.0</td>\n",
       "      <td>145</td>\n",
       "      <td>0</td>\n",
       "    </tr>\n",
       "    <tr>\n",
       "      <th>3</th>\n",
       "      <td>379824</td>\n",
       "      <td>198</td>\n",
       "      <td>656</td>\n",
       "      <td>145</td>\n",
       "      <td>3462.0</td>\n",
       "      <td>1110</td>\n",
       "      <td>0</td>\n",
       "      <td>5.0</td>\n",
       "      <td>1.0</td>\n",
       "      <td>145</td>\n",
       "      <td>0</td>\n",
       "    </tr>\n",
       "    <tr>\n",
       "      <th>4</th>\n",
       "      <td>379824</td>\n",
       "      <td>198</td>\n",
       "      <td>656</td>\n",
       "      <td>145</td>\n",
       "      <td>3462.0</td>\n",
       "      <td>1110</td>\n",
       "      <td>0</td>\n",
       "      <td>5.0</td>\n",
       "      <td>1.0</td>\n",
       "      <td>145</td>\n",
       "      <td>0</td>\n",
       "    </tr>\n",
       "  </tbody>\n",
       "</table>\n",
       "</div>"
      ],
      "text/plain": [
       "   user_id  item_id  cat_id  seller_id  brand_id  time_stamp  action_type  \\\n",
       "0   379824      198     656        145    3462.0        1111            0   \n",
       "1   379824      198     656        145    3462.0        1111            0   \n",
       "2   379824      198     656        145    3462.0        1111            2   \n",
       "3   379824      198     656        145    3462.0        1110            0   \n",
       "4   379824      198     656        145    3462.0        1110            0   \n",
       "\n",
       "   age_range  gender  merchant_id  label  \n",
       "0        5.0     1.0          145      0  \n",
       "1        5.0     1.0          145      0  \n",
       "2        5.0     1.0          145      0  \n",
       "3        5.0     1.0          145      0  \n",
       "4        5.0     1.0          145      0  "
      ]
     },
     "execution_count": 60,
     "metadata": {},
     "output_type": "execute_result"
    }
   ],
   "source": [
    "training_set.head()"
   ]
  },
  {
   "cell_type": "code",
   "execution_count": 78,
   "metadata": {},
   "outputs": [],
   "source": [
    "train, test = train_test_split(training_set, test_size=0.2)"
   ]
  },
  {
   "cell_type": "code",
   "execution_count": 79,
   "metadata": {},
   "outputs": [],
   "source": [
    "model = models.Sequential()\n",
    "model.add(layers.Dense(10, activation='relu', input_shape=(train.shape[1]-1,) ))        #label kept getting counted as a feature\n",
    "model.add(layers.Dense(5, activation='relu'))\n",
    "model.add(layers.Dense(1, activation='sigmoid'))\n",
    "\n",
    "model.compile(optimizer=optimizers.Adam(learning_rate=0.001),loss='binary_crossentropy',metrics=['acc'])"
   ]
  },
  {
   "cell_type": "code",
   "execution_count": 80,
   "metadata": {},
   "outputs": [
    {
     "name": "stdout",
     "output_type": "stream",
     "text": [
      "Epoch 1/10\n",
      "10/10 [==============================] - 1s 23ms/step - loss: 254.0605 - acc: 0.4416 - val_loss: 26.3617 - val_acc: 0.9221\n",
      "Epoch 2/10\n",
      "10/10 [==============================] - 0s 6ms/step - loss: 40.3038 - acc: 0.9253 - val_loss: 49.7735 - val_acc: 0.9221\n",
      "Epoch 3/10\n",
      "10/10 [==============================] - 0s 7ms/step - loss: 52.0857 - acc: 0.9253 - val_loss: 51.9739 - val_acc: 0.9221\n",
      "Epoch 4/10\n",
      "10/10 [==============================] - 0s 6ms/step - loss: 49.9044 - acc: 0.9253 - val_loss: 45.6887 - val_acc: 0.9221\n",
      "Epoch 5/10\n",
      "10/10 [==============================] - 0s 5ms/step - loss: 42.3777 - acc: 0.9253 - val_loss: 35.2526 - val_acc: 0.9221\n",
      "Epoch 6/10\n",
      "10/10 [==============================] - 0s 5ms/step - loss: 31.2662 - acc: 0.9286 - val_loss: 23.2344 - val_acc: 0.9221\n",
      "Epoch 7/10\n",
      "10/10 [==============================] - 0s 5ms/step - loss: 19.0668 - acc: 0.9253 - val_loss: 10.4139 - val_acc: 0.9221\n",
      "Epoch 8/10\n",
      "10/10 [==============================] - 0s 5ms/step - loss: 12.2348 - acc: 0.8474 - val_loss: 10.3862 - val_acc: 0.9221\n",
      "Epoch 9/10\n",
      "10/10 [==============================] - 0s 5ms/step - loss: 11.1901 - acc: 0.9221 - val_loss: 9.2421 - val_acc: 0.7532\n",
      "Epoch 10/10\n",
      "10/10 [==============================] - 0s 6ms/step - loss: 9.3777 - acc: 0.8864 - val_loss: 7.9506 - val_acc: 0.9221\n"
     ]
    }
   ],
   "source": [
    "history = model.fit(train.drop('label', axis=1), train['label'],\n",
    "                    epochs=10,\n",
    "                    validation_data= (test.drop('label',axis=1), test['label'])\n",
    "                    )"
   ]
  },
  {
   "cell_type": "markdown",
   "metadata": {},
   "source": [
    "### Baseline"
   ]
  },
  {
   "cell_type": "code",
   "execution_count": 3,
   "metadata": {},
   "outputs": [
    {
     "data": {
      "text/plain": [
       "(385, 182)"
      ]
     },
     "execution_count": 3,
     "metadata": {},
     "output_type": "execute_result"
    }
   ],
   "source": [
    "# FULL DATASET\n",
    "train_complete = pd.read_csv('../data_format1/use_data/merged_df.csv')\n",
    "train_complete.shape"
   ]
  },
  {
   "cell_type": "code",
   "execution_count": 5,
   "metadata": {},
   "outputs": [],
   "source": [
    "train_complete, val_complete = train_test_split(train_complete, test_size=0.2)"
   ]
  },
  {
   "cell_type": "code",
   "execution_count": 22,
   "metadata": {},
   "outputs": [
    {
     "data": {
      "text/plain": [
       "(385, 45)"
      ]
     },
     "execution_count": 22,
     "metadata": {},
     "output_type": "execute_result"
    }
   ],
   "source": [
    "train_50 = pd.read_csv(\"df_50.csv\")\n",
    "train_50.shape"
   ]
  },
  {
   "cell_type": "code",
   "execution_count": 23,
   "metadata": {},
   "outputs": [],
   "source": [
    "train_50_complete, val_50_complete = train_test_split(train_50, test_size=0.2)"
   ]
  },
  {
   "cell_type": "code",
   "execution_count": null,
   "metadata": {},
   "outputs": [],
   "source": [
    "# DIFFERING AMOUNTS OF PCA"
   ]
  },
  {
   "cell_type": "code",
   "execution_count": 20,
   "metadata": {},
   "outputs": [],
   "source": [
    "model = models.Sequential()\n",
    "model.add(layers.Dense(10, activation='relu', input_shape=(train_complete.shape[1]-1,) ))        #label kept getting counted as a feature\n",
    "model.add(layers.Dense(5, activation='relu'))\n",
    "model.add(layers.Dense(1, activation='sigmoid'))\n",
    "\n",
    "model.compile(optimizer=optimizers.Adam(learning_rate=0.001),loss='binary_crossentropy',metrics=['acc'])"
   ]
  },
  {
   "cell_type": "code",
   "execution_count": 19,
   "metadata": {},
   "outputs": [
    {
     "name": "stdout",
     "output_type": "stream",
     "text": [
      "Epoch 1/10\n",
      "10/10 [==============================] - 1s 20ms/step - loss: 23049.4785 - acc: 0.0649 - val_loss: 16011.8721 - val_acc: 0.1039\n",
      "Epoch 2/10\n",
      "10/10 [==============================] - 0s 5ms/step - loss: 18845.4082 - acc: 0.0649 - val_loss: 12931.2305 - val_acc: 0.1039\n",
      "Epoch 3/10\n",
      "10/10 [==============================] - 0s 6ms/step - loss: 14998.8672 - acc: 0.0649 - val_loss: 10003.8623 - val_acc: 0.1039\n",
      "Epoch 4/10\n",
      "10/10 [==============================] - 0s 6ms/step - loss: 11338.7842 - acc: 0.0649 - val_loss: 7275.4092 - val_acc: 0.1039\n",
      "Epoch 5/10\n",
      "10/10 [==============================] - 0s 6ms/step - loss: 8189.5137 - acc: 0.0649 - val_loss: 4996.6104 - val_acc: 0.1039\n",
      "Epoch 6/10\n",
      "10/10 [==============================] - 0s 5ms/step - loss: 5091.2812 - acc: 0.0649 - val_loss: 2390.0366 - val_acc: 0.1299\n",
      "Epoch 7/10\n",
      "10/10 [==============================] - 0s 5ms/step - loss: 1687.8425 - acc: 0.1558 - val_loss: 34.0043 - val_acc: 0.6234\n",
      "Epoch 8/10\n",
      "10/10 [==============================] - 0s 5ms/step - loss: 10.8510 - acc: 0.8377 - val_loss: 19.7061 - val_acc: 0.7662\n",
      "Epoch 9/10\n",
      "10/10 [==============================] - 0s 5ms/step - loss: 7.7168 - acc: 0.8604 - val_loss: 12.9809 - val_acc: 0.7792\n",
      "Epoch 10/10\n",
      "10/10 [==============================] - 0s 5ms/step - loss: 4.5862 - acc: 0.8799 - val_loss: 8.4396 - val_acc: 0.8052\n"
     ]
    }
   ],
   "source": [
    "history = model.fit(train_complete.drop('label', axis=1), train_complete['label'],\n",
    "                    epochs=10,\n",
    "                    validation_data= (val_complete.drop('label',axis=1), val_complete['label'])\n",
    "                    )"
   ]
  },
  {
   "cell_type": "code",
   "execution_count": 24,
   "metadata": {},
   "outputs": [],
   "source": [
    "model = models.Sequential()\n",
    "model.add(layers.Dense(10, activation='relu', input_shape=(train_50_complete.shape[1]-1,) ))        #label kept getting counted as a feature\n",
    "model.add(layers.Dense(5, activation='relu'))\n",
    "model.add(layers.Dense(1, activation='sigmoid'))\n",
    "\n",
    "model.compile(optimizer=optimizers.Adam(learning_rate=0.001),loss='binary_crossentropy',metrics=['acc'])"
   ]
  },
  {
   "cell_type": "code",
   "execution_count": 25,
   "metadata": {},
   "outputs": [
    {
     "name": "stdout",
     "output_type": "stream",
     "text": [
      "Model: \"sequential_3\"\n",
      "_________________________________________________________________\n",
      " Layer (type)                Output Shape              Param #   \n",
      "=================================================================\n",
      " dense_6 (Dense)             (None, 10)                450       \n",
      "                                                                 \n",
      " dense_7 (Dense)             (None, 5)                 55        \n",
      "                                                                 \n",
      " dense_8 (Dense)             (None, 1)                 6         \n",
      "                                                                 \n",
      "=================================================================\n",
      "Total params: 511\n",
      "Trainable params: 511\n",
      "Non-trainable params: 0\n",
      "_________________________________________________________________\n"
     ]
    }
   ],
   "source": [
    "model.summary()"
   ]
  },
  {
   "cell_type": "code",
   "execution_count": 27,
   "metadata": {},
   "outputs": [
    {
     "name": "stdout",
     "output_type": "stream",
     "text": [
      "Epoch 1/10\n",
      "10/10 [==============================] - 1s 19ms/step - loss: 21852.1172 - acc: 0.0747 - val_loss: 20459.9141 - val_acc: 0.0649\n",
      "Epoch 2/10\n",
      "10/10 [==============================] - 0s 5ms/step - loss: 17840.6836 - acc: 0.0747 - val_loss: 16407.9414 - val_acc: 0.0649\n",
      "Epoch 3/10\n",
      "10/10 [==============================] - 0s 5ms/step - loss: 14089.2207 - acc: 0.0747 - val_loss: 12566.4785 - val_acc: 0.0649\n",
      "Epoch 4/10\n",
      "10/10 [==============================] - 0s 5ms/step - loss: 10508.4629 - acc: 0.0747 - val_loss: 9056.6719 - val_acc: 0.0649\n",
      "Epoch 5/10\n",
      "10/10 [==============================] - 0s 5ms/step - loss: 7259.8232 - acc: 0.0747 - val_loss: 5691.0566 - val_acc: 0.0649\n",
      "Epoch 6/10\n",
      "10/10 [==============================] - 0s 5ms/step - loss: 4022.6340 - acc: 0.0747 - val_loss: 2309.8826 - val_acc: 0.0649\n",
      "Epoch 7/10\n",
      "10/10 [==============================] - 0s 5ms/step - loss: 917.9582 - acc: 0.3117 - val_loss: 64.9322 - val_acc: 0.9351\n",
      "Epoch 8/10\n",
      "10/10 [==============================] - 0s 5ms/step - loss: 94.2793 - acc: 0.9156 - val_loss: 162.7489 - val_acc: 0.9351\n",
      "Epoch 9/10\n",
      "10/10 [==============================] - 0s 5ms/step - loss: 139.0567 - acc: 0.9156 - val_loss: 188.9113 - val_acc: 0.9351\n",
      "Epoch 10/10\n",
      "10/10 [==============================] - 0s 5ms/step - loss: 149.9600 - acc: 0.9156 - val_loss: 188.1252 - val_acc: 0.9351\n"
     ]
    }
   ],
   "source": [
    "history = model.fit(train_50_complete.drop('label', axis=1), train_50_complete['label'],\n",
    "                    epochs=10,\n",
    "                    validation_data= (val_50_complete.drop('label',axis=1), val_50_complete['label'])\n",
    "                    )"
   ]
  },
  {
   "cell_type": "code",
   "execution_count": 6,
   "metadata": {},
   "outputs": [],
   "source": [
    "from sklearn.decomposition import PCA\n",
    "\n",
    "#x = train_50.copy()\n",
    "#y = train_50['label']\n",
    "\n",
    "x = train_50.copy().drop('label', axis=1)\n",
    "y = train_50['label']"
   ]
  },
  {
   "cell_type": "code",
   "execution_count": 7,
   "metadata": {},
   "outputs": [
    {
     "data": {
      "text/plain": [
       "array([[ 1.48244956, -0.58596077, -1.78789034, ..., -1.13491023,\n",
       "        -0.53229065, -0.30948674],\n",
       "       [ 1.48244956, -0.58596077, -1.78789034, ..., -1.13491023,\n",
       "        -0.53229065, -0.30948674],\n",
       "       [ 1.48244956, -0.58596077, -1.78789034, ..., -1.13491023,\n",
       "        -0.53229065, -0.30948674],\n",
       "       ...,\n",
       "       [-0.69002488, -1.09700997,  1.05462269, ...,  0.87020351,\n",
       "        -0.53229065,  0.80408704],\n",
       "       [-0.92037177,  0.63611342,  0.13257675, ..., -1.22208909,\n",
       "        -0.53229065, -1.05186926],\n",
       "       [-0.88269016, -1.09700997,  1.05462269, ...,  0.87020351,\n",
       "        -0.53229065,  0.80408704]])"
      ]
     },
     "execution_count": 7,
     "metadata": {},
     "output_type": "execute_result"
    }
   ],
   "source": [
    "from sklearn.preprocessing import StandardScaler\n",
    "x_scaled = StandardScaler().fit_transform(x)\n",
    "x_scaled"
   ]
  },
  {
   "cell_type": "code",
   "execution_count": 8,
   "metadata": {},
   "outputs": [
    {
     "data": {
      "text/html": [
       "<div>\n",
       "<style scoped>\n",
       "    .dataframe tbody tr th:only-of-type {\n",
       "        vertical-align: middle;\n",
       "    }\n",
       "\n",
       "    .dataframe tbody tr th {\n",
       "        vertical-align: top;\n",
       "    }\n",
       "\n",
       "    .dataframe thead th {\n",
       "        text-align: right;\n",
       "    }\n",
       "</style>\n",
       "<table border=\"1\" class=\"dataframe\">\n",
       "  <thead>\n",
       "    <tr style=\"text-align: right;\">\n",
       "      <th></th>\n",
       "      <th>user_id</th>\n",
       "      <th>item_id</th>\n",
       "      <th>seller_id</th>\n",
       "      <th>time_stamp</th>\n",
       "      <th>1111 action count</th>\n",
       "      <th>last month action count</th>\n",
       "      <th>month_total_action_count</th>\n",
       "      <th>merchant_female_count</th>\n",
       "      <th>month_merchant_male_count</th>\n",
       "      <th>merchant_buys</th>\n",
       "      <th>...</th>\n",
       "      <th>item_ageGroup_0_counts</th>\n",
       "      <th>cat_monthly_action_count</th>\n",
       "      <th>month_cat_male_count</th>\n",
       "      <th>cat_buys</th>\n",
       "      <th>cat_male_buy_count</th>\n",
       "      <th>cat_female_buy_count</th>\n",
       "      <th>cat_ageGroup_2_counts</th>\n",
       "      <th>cat_ageGroup_3_counts</th>\n",
       "      <th>cat_ageGroup_8_counts</th>\n",
       "      <th>cat_ageGroup_0_counts</th>\n",
       "    </tr>\n",
       "  </thead>\n",
       "  <tbody>\n",
       "    <tr>\n",
       "      <th>0</th>\n",
       "      <td>1.482450</td>\n",
       "      <td>-0.585961</td>\n",
       "      <td>-1.787890</td>\n",
       "      <td>0.234101</td>\n",
       "      <td>0.278232</td>\n",
       "      <td>0.456949</td>\n",
       "      <td>0.252061</td>\n",
       "      <td>0.003745</td>\n",
       "      <td>-0.712897</td>\n",
       "      <td>-0.053630</td>\n",
       "      <td>...</td>\n",
       "      <td>-1.243559</td>\n",
       "      <td>-0.427650</td>\n",
       "      <td>-0.712897</td>\n",
       "      <td>-0.055095</td>\n",
       "      <td>-0.582532</td>\n",
       "      <td>0.625198</td>\n",
       "      <td>-0.851527</td>\n",
       "      <td>-1.134910</td>\n",
       "      <td>-0.532291</td>\n",
       "      <td>-0.309487</td>\n",
       "    </tr>\n",
       "    <tr>\n",
       "      <th>1</th>\n",
       "      <td>1.482450</td>\n",
       "      <td>-0.585961</td>\n",
       "      <td>-1.787890</td>\n",
       "      <td>0.234101</td>\n",
       "      <td>0.278232</td>\n",
       "      <td>0.456949</td>\n",
       "      <td>0.252061</td>\n",
       "      <td>0.003745</td>\n",
       "      <td>-0.712897</td>\n",
       "      <td>-0.053630</td>\n",
       "      <td>...</td>\n",
       "      <td>-1.243559</td>\n",
       "      <td>-0.427650</td>\n",
       "      <td>-0.712897</td>\n",
       "      <td>-0.055095</td>\n",
       "      <td>-0.582532</td>\n",
       "      <td>0.625198</td>\n",
       "      <td>-0.851527</td>\n",
       "      <td>-1.134910</td>\n",
       "      <td>-0.532291</td>\n",
       "      <td>-0.309487</td>\n",
       "    </tr>\n",
       "    <tr>\n",
       "      <th>2</th>\n",
       "      <td>1.482450</td>\n",
       "      <td>-0.585961</td>\n",
       "      <td>-1.787890</td>\n",
       "      <td>0.234101</td>\n",
       "      <td>0.278232</td>\n",
       "      <td>0.456949</td>\n",
       "      <td>0.252061</td>\n",
       "      <td>0.003745</td>\n",
       "      <td>-0.712897</td>\n",
       "      <td>-0.053630</td>\n",
       "      <td>...</td>\n",
       "      <td>-1.243559</td>\n",
       "      <td>-0.427650</td>\n",
       "      <td>-0.712897</td>\n",
       "      <td>-0.055095</td>\n",
       "      <td>-0.582532</td>\n",
       "      <td>0.625198</td>\n",
       "      <td>-0.851527</td>\n",
       "      <td>-1.134910</td>\n",
       "      <td>-0.532291</td>\n",
       "      <td>-0.309487</td>\n",
       "    </tr>\n",
       "    <tr>\n",
       "      <th>3</th>\n",
       "      <td>1.482450</td>\n",
       "      <td>-0.585961</td>\n",
       "      <td>-1.787890</td>\n",
       "      <td>0.224616</td>\n",
       "      <td>0.278232</td>\n",
       "      <td>0.456949</td>\n",
       "      <td>0.252061</td>\n",
       "      <td>0.003745</td>\n",
       "      <td>-0.712897</td>\n",
       "      <td>-0.053630</td>\n",
       "      <td>...</td>\n",
       "      <td>-1.243559</td>\n",
       "      <td>-0.427650</td>\n",
       "      <td>-0.712897</td>\n",
       "      <td>-0.055095</td>\n",
       "      <td>-0.582532</td>\n",
       "      <td>0.625198</td>\n",
       "      <td>-0.851527</td>\n",
       "      <td>-1.134910</td>\n",
       "      <td>-0.532291</td>\n",
       "      <td>-0.309487</td>\n",
       "    </tr>\n",
       "    <tr>\n",
       "      <th>4</th>\n",
       "      <td>1.482450</td>\n",
       "      <td>-0.585961</td>\n",
       "      <td>-1.787890</td>\n",
       "      <td>0.224616</td>\n",
       "      <td>0.278232</td>\n",
       "      <td>0.456949</td>\n",
       "      <td>0.252061</td>\n",
       "      <td>0.003745</td>\n",
       "      <td>-0.712897</td>\n",
       "      <td>-0.053630</td>\n",
       "      <td>...</td>\n",
       "      <td>-1.243559</td>\n",
       "      <td>-0.427650</td>\n",
       "      <td>-0.712897</td>\n",
       "      <td>-0.055095</td>\n",
       "      <td>-0.582532</td>\n",
       "      <td>0.625198</td>\n",
       "      <td>-0.851527</td>\n",
       "      <td>-1.134910</td>\n",
       "      <td>-0.532291</td>\n",
       "      <td>-0.309487</td>\n",
       "    </tr>\n",
       "    <tr>\n",
       "      <th>...</th>\n",
       "      <td>...</td>\n",
       "      <td>...</td>\n",
       "      <td>...</td>\n",
       "      <td>...</td>\n",
       "      <td>...</td>\n",
       "      <td>...</td>\n",
       "      <td>...</td>\n",
       "      <td>...</td>\n",
       "      <td>...</td>\n",
       "      <td>...</td>\n",
       "      <td>...</td>\n",
       "      <td>...</td>\n",
       "      <td>...</td>\n",
       "      <td>...</td>\n",
       "      <td>...</td>\n",
       "      <td>...</td>\n",
       "      <td>...</td>\n",
       "      <td>...</td>\n",
       "      <td>...</td>\n",
       "      <td>...</td>\n",
       "      <td>...</td>\n",
       "    </tr>\n",
       "    <tr>\n",
       "      <th>380</th>\n",
       "      <td>-0.690025</td>\n",
       "      <td>-1.097010</td>\n",
       "      <td>1.054623</td>\n",
       "      <td>0.215130</td>\n",
       "      <td>-1.112927</td>\n",
       "      <td>-0.363854</td>\n",
       "      <td>0.252061</td>\n",
       "      <td>0.552986</td>\n",
       "      <td>1.513273</td>\n",
       "      <td>1.576447</td>\n",
       "      <td>...</td>\n",
       "      <td>0.814366</td>\n",
       "      <td>1.322527</td>\n",
       "      <td>1.513273</td>\n",
       "      <td>1.576568</td>\n",
       "      <td>1.591877</td>\n",
       "      <td>1.420905</td>\n",
       "      <td>1.490171</td>\n",
       "      <td>0.870204</td>\n",
       "      <td>-0.532291</td>\n",
       "      <td>0.804087</td>\n",
       "    </tr>\n",
       "    <tr>\n",
       "      <th>381</th>\n",
       "      <td>-0.690025</td>\n",
       "      <td>-1.097010</td>\n",
       "      <td>1.054623</td>\n",
       "      <td>0.205645</td>\n",
       "      <td>-1.112927</td>\n",
       "      <td>-0.363854</td>\n",
       "      <td>0.252061</td>\n",
       "      <td>0.552986</td>\n",
       "      <td>1.513273</td>\n",
       "      <td>1.576447</td>\n",
       "      <td>...</td>\n",
       "      <td>0.814366</td>\n",
       "      <td>1.322527</td>\n",
       "      <td>1.513273</td>\n",
       "      <td>1.576568</td>\n",
       "      <td>1.591877</td>\n",
       "      <td>1.420905</td>\n",
       "      <td>1.490171</td>\n",
       "      <td>0.870204</td>\n",
       "      <td>-0.532291</td>\n",
       "      <td>0.804087</td>\n",
       "    </tr>\n",
       "    <tr>\n",
       "      <th>382</th>\n",
       "      <td>-0.690025</td>\n",
       "      <td>-1.097010</td>\n",
       "      <td>1.054623</td>\n",
       "      <td>0.205645</td>\n",
       "      <td>-1.112927</td>\n",
       "      <td>-0.363854</td>\n",
       "      <td>0.252061</td>\n",
       "      <td>0.552986</td>\n",
       "      <td>1.513273</td>\n",
       "      <td>1.576447</td>\n",
       "      <td>...</td>\n",
       "      <td>0.814366</td>\n",
       "      <td>1.322527</td>\n",
       "      <td>1.513273</td>\n",
       "      <td>1.576568</td>\n",
       "      <td>1.591877</td>\n",
       "      <td>1.420905</td>\n",
       "      <td>1.490171</td>\n",
       "      <td>0.870204</td>\n",
       "      <td>-0.532291</td>\n",
       "      <td>0.804087</td>\n",
       "    </tr>\n",
       "    <tr>\n",
       "      <th>383</th>\n",
       "      <td>-0.920372</td>\n",
       "      <td>0.636113</td>\n",
       "      <td>0.132577</td>\n",
       "      <td>0.234101</td>\n",
       "      <td>-0.649207</td>\n",
       "      <td>-0.911056</td>\n",
       "      <td>0.252061</td>\n",
       "      <td>-0.476841</td>\n",
       "      <td>-1.036050</td>\n",
       "      <td>-0.778109</td>\n",
       "      <td>...</td>\n",
       "      <td>-1.001451</td>\n",
       "      <td>-0.890932</td>\n",
       "      <td>-1.036050</td>\n",
       "      <td>-0.780279</td>\n",
       "      <td>-0.893161</td>\n",
       "      <td>-0.568362</td>\n",
       "      <td>-0.037023</td>\n",
       "      <td>-1.222089</td>\n",
       "      <td>-0.532291</td>\n",
       "      <td>-1.051869</td>\n",
       "    </tr>\n",
       "    <tr>\n",
       "      <th>384</th>\n",
       "      <td>-0.882690</td>\n",
       "      <td>-1.097010</td>\n",
       "      <td>1.054623</td>\n",
       "      <td>0.224616</td>\n",
       "      <td>-1.112927</td>\n",
       "      <td>-0.911056</td>\n",
       "      <td>0.252061</td>\n",
       "      <td>0.552986</td>\n",
       "      <td>1.513273</td>\n",
       "      <td>1.576447</td>\n",
       "      <td>...</td>\n",
       "      <td>0.814366</td>\n",
       "      <td>1.322527</td>\n",
       "      <td>1.513273</td>\n",
       "      <td>1.576568</td>\n",
       "      <td>1.591877</td>\n",
       "      <td>1.420905</td>\n",
       "      <td>1.490171</td>\n",
       "      <td>0.870204</td>\n",
       "      <td>-0.532291</td>\n",
       "      <td>0.804087</td>\n",
       "    </tr>\n",
       "  </tbody>\n",
       "</table>\n",
       "<p>385 rows × 44 columns</p>\n",
       "</div>"
      ],
      "text/plain": [
       "      user_id   item_id  seller_id  time_stamp  1111 action count  \\\n",
       "0    1.482450 -0.585961  -1.787890    0.234101           0.278232   \n",
       "1    1.482450 -0.585961  -1.787890    0.234101           0.278232   \n",
       "2    1.482450 -0.585961  -1.787890    0.234101           0.278232   \n",
       "3    1.482450 -0.585961  -1.787890    0.224616           0.278232   \n",
       "4    1.482450 -0.585961  -1.787890    0.224616           0.278232   \n",
       "..        ...       ...        ...         ...                ...   \n",
       "380 -0.690025 -1.097010   1.054623    0.215130          -1.112927   \n",
       "381 -0.690025 -1.097010   1.054623    0.205645          -1.112927   \n",
       "382 -0.690025 -1.097010   1.054623    0.205645          -1.112927   \n",
       "383 -0.920372  0.636113   0.132577    0.234101          -0.649207   \n",
       "384 -0.882690 -1.097010   1.054623    0.224616          -1.112927   \n",
       "\n",
       "     last month action count  month_total_action_count  merchant_female_count  \\\n",
       "0                   0.456949                  0.252061               0.003745   \n",
       "1                   0.456949                  0.252061               0.003745   \n",
       "2                   0.456949                  0.252061               0.003745   \n",
       "3                   0.456949                  0.252061               0.003745   \n",
       "4                   0.456949                  0.252061               0.003745   \n",
       "..                       ...                       ...                    ...   \n",
       "380                -0.363854                  0.252061               0.552986   \n",
       "381                -0.363854                  0.252061               0.552986   \n",
       "382                -0.363854                  0.252061               0.552986   \n",
       "383                -0.911056                  0.252061              -0.476841   \n",
       "384                -0.911056                  0.252061               0.552986   \n",
       "\n",
       "     month_merchant_male_count  merchant_buys  ...  item_ageGroup_0_counts  \\\n",
       "0                    -0.712897      -0.053630  ...               -1.243559   \n",
       "1                    -0.712897      -0.053630  ...               -1.243559   \n",
       "2                    -0.712897      -0.053630  ...               -1.243559   \n",
       "3                    -0.712897      -0.053630  ...               -1.243559   \n",
       "4                    -0.712897      -0.053630  ...               -1.243559   \n",
       "..                         ...            ...  ...                     ...   \n",
       "380                   1.513273       1.576447  ...                0.814366   \n",
       "381                   1.513273       1.576447  ...                0.814366   \n",
       "382                   1.513273       1.576447  ...                0.814366   \n",
       "383                  -1.036050      -0.778109  ...               -1.001451   \n",
       "384                   1.513273       1.576447  ...                0.814366   \n",
       "\n",
       "     cat_monthly_action_count  month_cat_male_count  cat_buys  \\\n",
       "0                   -0.427650             -0.712897 -0.055095   \n",
       "1                   -0.427650             -0.712897 -0.055095   \n",
       "2                   -0.427650             -0.712897 -0.055095   \n",
       "3                   -0.427650             -0.712897 -0.055095   \n",
       "4                   -0.427650             -0.712897 -0.055095   \n",
       "..                        ...                   ...       ...   \n",
       "380                  1.322527              1.513273  1.576568   \n",
       "381                  1.322527              1.513273  1.576568   \n",
       "382                  1.322527              1.513273  1.576568   \n",
       "383                 -0.890932             -1.036050 -0.780279   \n",
       "384                  1.322527              1.513273  1.576568   \n",
       "\n",
       "     cat_male_buy_count  cat_female_buy_count  cat_ageGroup_2_counts  \\\n",
       "0             -0.582532              0.625198              -0.851527   \n",
       "1             -0.582532              0.625198              -0.851527   \n",
       "2             -0.582532              0.625198              -0.851527   \n",
       "3             -0.582532              0.625198              -0.851527   \n",
       "4             -0.582532              0.625198              -0.851527   \n",
       "..                  ...                   ...                    ...   \n",
       "380            1.591877              1.420905               1.490171   \n",
       "381            1.591877              1.420905               1.490171   \n",
       "382            1.591877              1.420905               1.490171   \n",
       "383           -0.893161             -0.568362              -0.037023   \n",
       "384            1.591877              1.420905               1.490171   \n",
       "\n",
       "     cat_ageGroup_3_counts  cat_ageGroup_8_counts  cat_ageGroup_0_counts  \n",
       "0                -1.134910              -0.532291              -0.309487  \n",
       "1                -1.134910              -0.532291              -0.309487  \n",
       "2                -1.134910              -0.532291              -0.309487  \n",
       "3                -1.134910              -0.532291              -0.309487  \n",
       "4                -1.134910              -0.532291              -0.309487  \n",
       "..                     ...                    ...                    ...  \n",
       "380               0.870204              -0.532291               0.804087  \n",
       "381               0.870204              -0.532291               0.804087  \n",
       "382               0.870204              -0.532291               0.804087  \n",
       "383              -1.222089              -0.532291              -1.051869  \n",
       "384               0.870204              -0.532291               0.804087  \n",
       "\n",
       "[385 rows x 44 columns]"
      ]
     },
     "execution_count": 8,
     "metadata": {},
     "output_type": "execute_result"
    }
   ],
   "source": [
    "x_scaled = pd.DataFrame(x_scaled, index=x.index, columns=x.columns)\n",
    "x_scaled"
   ]
  },
  {
   "cell_type": "code",
   "execution_count": 9,
   "metadata": {},
   "outputs": [],
   "source": [
    "pca = PCA(n_components=5)\n",
    "principalComponents = pca.fit_transform(x_scaled)"
   ]
  },
  {
   "cell_type": "code",
   "execution_count": 10,
   "metadata": {},
   "outputs": [],
   "source": [
    "principalDF = pd.DataFrame(data = principalComponents, columns = ['1', '2', '3', '4', '5'])\n",
    "finalDF = pd.concat([principalDF, y], axis = 1)"
   ]
  },
  {
   "cell_type": "code",
   "execution_count": 11,
   "metadata": {},
   "outputs": [
    {
     "data": {
      "text/html": [
       "<div>\n",
       "<style scoped>\n",
       "    .dataframe tbody tr th:only-of-type {\n",
       "        vertical-align: middle;\n",
       "    }\n",
       "\n",
       "    .dataframe tbody tr th {\n",
       "        vertical-align: top;\n",
       "    }\n",
       "\n",
       "    .dataframe thead th {\n",
       "        text-align: right;\n",
       "    }\n",
       "</style>\n",
       "<table border=\"1\" class=\"dataframe\">\n",
       "  <thead>\n",
       "    <tr style=\"text-align: right;\">\n",
       "      <th></th>\n",
       "      <th>1</th>\n",
       "      <th>2</th>\n",
       "      <th>3</th>\n",
       "      <th>4</th>\n",
       "      <th>5</th>\n",
       "      <th>label</th>\n",
       "    </tr>\n",
       "  </thead>\n",
       "  <tbody>\n",
       "    <tr>\n",
       "      <th>0</th>\n",
       "      <td>3.350211</td>\n",
       "      <td>-0.709357</td>\n",
       "      <td>-1.834280</td>\n",
       "      <td>1.992058</td>\n",
       "      <td>1.230348</td>\n",
       "      <td>0</td>\n",
       "    </tr>\n",
       "    <tr>\n",
       "      <th>1</th>\n",
       "      <td>3.350211</td>\n",
       "      <td>-0.709357</td>\n",
       "      <td>-1.834280</td>\n",
       "      <td>1.992058</td>\n",
       "      <td>1.230348</td>\n",
       "      <td>0</td>\n",
       "    </tr>\n",
       "    <tr>\n",
       "      <th>2</th>\n",
       "      <td>3.350211</td>\n",
       "      <td>-0.709357</td>\n",
       "      <td>-1.834280</td>\n",
       "      <td>1.992058</td>\n",
       "      <td>1.230348</td>\n",
       "      <td>0</td>\n",
       "    </tr>\n",
       "    <tr>\n",
       "      <th>3</th>\n",
       "      <td>3.350497</td>\n",
       "      <td>-0.708746</td>\n",
       "      <td>-1.829741</td>\n",
       "      <td>1.994825</td>\n",
       "      <td>1.227447</td>\n",
       "      <td>0</td>\n",
       "    </tr>\n",
       "    <tr>\n",
       "      <th>4</th>\n",
       "      <td>3.350497</td>\n",
       "      <td>-0.708746</td>\n",
       "      <td>-1.829741</td>\n",
       "      <td>1.994825</td>\n",
       "      <td>1.227447</td>\n",
       "      <td>0</td>\n",
       "    </tr>\n",
       "  </tbody>\n",
       "</table>\n",
       "</div>"
      ],
      "text/plain": [
       "          1         2         3         4         5  label\n",
       "0  3.350211 -0.709357 -1.834280  1.992058  1.230348      0\n",
       "1  3.350211 -0.709357 -1.834280  1.992058  1.230348      0\n",
       "2  3.350211 -0.709357 -1.834280  1.992058  1.230348      0\n",
       "3  3.350497 -0.708746 -1.829741  1.994825  1.227447      0\n",
       "4  3.350497 -0.708746 -1.829741  1.994825  1.227447      0"
      ]
     },
     "execution_count": 11,
     "metadata": {},
     "output_type": "execute_result"
    }
   ],
   "source": [
    "finalDF.head()"
   ]
  },
  {
   "cell_type": "code",
   "execution_count": 12,
   "metadata": {},
   "outputs": [],
   "source": [
    "train_final, val_final = train_test_split(finalDF, test_size=0.2)"
   ]
  },
  {
   "cell_type": "code",
   "execution_count": 17,
   "metadata": {},
   "outputs": [],
   "source": [
    "model = models.Sequential()\n",
    "model.add(layers.Dense(10, activation='relu', input_shape=(finalDF.shape[1]-1,) ))        #label kept getting counted as a feature\n",
    "model.add(layers.Dense(5, activation='relu'))\n",
    "model.add(layers.Dense(1, activation='sigmoid'))\n",
    "\n",
    "model.compile(optimizer=optimizers.Adam(learning_rate=0.001),loss='binary_crossentropy',metrics=['acc'])"
   ]
  },
  {
   "cell_type": "code",
   "execution_count": 18,
   "metadata": {},
   "outputs": [
    {
     "name": "stdout",
     "output_type": "stream",
     "text": [
      "Epoch 1/10\n",
      "10/10 [==============================] - 1s 23ms/step - loss: 0.7039 - acc: 0.6364 - val_loss: 0.6698 - val_acc: 0.6623\n",
      "Epoch 2/10\n",
      "10/10 [==============================] - 0s 5ms/step - loss: 0.6372 - acc: 0.6656 - val_loss: 0.6090 - val_acc: 0.6883\n",
      "Epoch 3/10\n",
      "10/10 [==============================] - 0s 5ms/step - loss: 0.5783 - acc: 0.6818 - val_loss: 0.5595 - val_acc: 0.7273\n",
      "Epoch 4/10\n",
      "10/10 [==============================] - 0s 5ms/step - loss: 0.5334 - acc: 0.7338 - val_loss: 0.5175 - val_acc: 0.7273\n",
      "Epoch 5/10\n",
      "10/10 [==============================] - 0s 6ms/step - loss: 0.4946 - acc: 0.7403 - val_loss: 0.4838 - val_acc: 0.7792\n",
      "Epoch 6/10\n",
      "10/10 [==============================] - 0s 5ms/step - loss: 0.4647 - acc: 0.7792 - val_loss: 0.4566 - val_acc: 0.7922\n",
      "Epoch 7/10\n",
      "10/10 [==============================] - 0s 5ms/step - loss: 0.4385 - acc: 0.7955 - val_loss: 0.4316 - val_acc: 0.8182\n",
      "Epoch 8/10\n",
      "10/10 [==============================] - 0s 5ms/step - loss: 0.4091 - acc: 0.8279 - val_loss: 0.3998 - val_acc: 0.8442\n",
      "Epoch 9/10\n",
      "10/10 [==============================] - 0s 5ms/step - loss: 0.3737 - acc: 0.8929 - val_loss: 0.3616 - val_acc: 0.9221\n",
      "Epoch 10/10\n",
      "10/10 [==============================] - 0s 5ms/step - loss: 0.3372 - acc: 0.9286 - val_loss: 0.3245 - val_acc: 0.9221\n"
     ]
    }
   ],
   "source": [
    "history = model.fit(train_final.drop('label', axis=1), train_final['label'],\n",
    "                    epochs=10,\n",
    "                    validation_data= (val_final.drop('label',axis=1), val_final['label'])\n",
    "                    )"
   ]
  },
  {
   "cell_type": "code",
   "execution_count": 46,
   "metadata": {},
   "outputs": [
    {
     "name": "stdout",
     "output_type": "stream",
     "text": [
      "3/3 [==============================] - 0s 2ms/step - loss: 73.7392 - acc: 0.9351\n"
     ]
    },
    {
     "data": {
      "text/plain": [
       "[73.73917388916016, 0.9350649118423462]"
      ]
     },
     "execution_count": 46,
     "metadata": {},
     "output_type": "execute_result"
    }
   ],
   "source": [
    "model.evaluate(test.drop(['label'], axis=1), test['label'],)"
   ]
  },
  {
   "cell_type": "markdown",
   "metadata": {},
   "source": [
    "super high loss?"
   ]
  },
  {
   "cell_type": "code",
   "execution_count": 19,
   "metadata": {},
   "outputs": [
    {
     "data": {
      "text/plain": [
       "<AxesSubplot:>"
      ]
     },
     "execution_count": 19,
     "metadata": {},
     "output_type": "execute_result"
    },
    {
     "data": {
      "image/png": "[encoded data removed]",
      "text/plain": [
       "<Figure size 640x480 with 2 Axes>"
      ]
     },
     "metadata": {},
     "output_type": "display_data"
    }
   ],
   "source": [
    "import seaborn as sns\n",
    "\n",
    "sns.heatmap(finalDF.corr())"
   ]
  }
 ],
 "metadata": {
  "kernelspec": {
   "display_name": "Python 3 (ipykernel)",
   "language": "python",
   "name": "python3"
  },
  "language_info": {
   "codemirror_mode": {
    "name": "ipython",
    "version": 3
   },
   "file_extension": ".py",
   "mimetype": "text/x-python",
   "name": "python",
   "nbconvert_exporter": "python",
   "pygments_lexer": "ipython3",
   "version": "3.8.1"
  }
 },
 "nbformat": 4,
 "nbformat_minor": 2
}
