{
 "cells": [
  {
   "cell_type": "markdown",
   "metadata": {},
   "source": [
    "# Neural Network Classifier"
   ]
  },
  {
   "cell_type": "code",
   "execution_count": 2,
   "metadata": {},
   "outputs": [],
   "source": [
    "from keras import models\n",
    "from keras import layers\n",
    "from keras import optimizers\n",
    "from keras import losses\n",
    "from keras import metrics\n",
    "import pandas as pd\n",
    "\n",
    "from sklearn.model_selection import train_test_split"
   ]
  },
  {
   "cell_type": "markdown",
   "metadata": {},
   "source": [
    "### Testing Dataset Creation"
   ]
  },
  {
   "cell_type": "code",
   "execution_count": 58,
   "metadata": {},
   "outputs": [],
   "source": [
    "train_df_full = pd.read_csv(\"../data_format1/full_data/train_format1.csv\")\n",
    "train_df = pd.read_csv(\"../data_format1/use_data/train_format1[161-320].csv\")\n",
    "#same number of samples when merging with full or subset dataset\n",
    "merged = pd.read_csv(\"../data_format1/use_data/merged_dataset.csv\")\n",
    "\n",
    "#only pick those in merged whose [\"user_id\", \"seller_id\"] match with [\"user_id\", \"merchant_id\"] in the train_format1 document\n",
    "training_key = train_df.loc[:, [\"user_id\", \"merchant_id\", \"label\"]] \n",
    "training_set = merged.merge(\n",
    "        training_key, \n",
    "        how=\"inner\", \n",
    "        left_on=[\"user_id\", \"seller_id\"], \n",
    "        right_on=[\"user_id\", \"merchant_id\"]\n",
    ")"
   ]
  },
  {
   "cell_type": "code",
   "execution_count": 59,
   "metadata": {},
   "outputs": [
    {
     "data": {
      "text/plain": [
       "(385, 11)"
      ]
     },
     "execution_count": 59,
     "metadata": {},
     "output_type": "execute_result"
    }
   ],
   "source": [
    "training_set.shape"
   ]
  },
  {
   "cell_type": "code",
   "execution_count": 60,
   "metadata": {},
   "outputs": [
    {
     "data": {
      "text/html": [
       "<div>\n",
       "<style scoped>\n",
       "    .dataframe tbody tr th:only-of-type {\n",
       "        vertical-align: middle;\n",
       "    }\n",
       "\n",
       "    .dataframe tbody tr th {\n",
       "        vertical-align: top;\n",
       "    }\n",
       "\n",
       "    .dataframe thead th {\n",
       "        text-align: right;\n",
       "    }\n",
       "</style>\n",
       "<table border=\"1\" class=\"dataframe\">\n",
       "  <thead>\n",
       "    <tr style=\"text-align: right;\">\n",
       "      <th></th>\n",
       "      <th>user_id</th>\n",
       "      <th>item_id</th>\n",
       "      <th>cat_id</th>\n",
       "      <th>seller_id</th>\n",
       "      <th>brand_id</th>\n",
       "      <th>time_stamp</th>\n",
       "      <th>action_type</th>\n",
       "      <th>age_range</th>\n",
       "      <th>gender</th>\n",
       "      <th>merchant_id</th>\n",
       "      <th>label</th>\n",
       "    </tr>\n",
       "  </thead>\n",
       "  <tbody>\n",
       "    <tr>\n",
       "      <th>0</th>\n",
       "      <td>379824</td>\n",
       "      <td>198</td>\n",
       "      <td>656</td>\n",
       "      <td>145</td>\n",
       "      <td>3462.0</td>\n",
       "      <td>1111</td>\n",
       "      <td>0</td>\n",
       "      <td>5.0</td>\n",
       "      <td>1.0</td>\n",
       "      <td>145</td>\n",
       "      <td>0</td>\n",
       "    </tr>\n",
       "    <tr>\n",
       "      <th>1</th>\n",
       "      <td>379824</td>\n",
       "      <td>198</td>\n",
       "      <td>656</td>\n",
       "      <td>145</td>\n",
       "      <td>3462.0</td>\n",
       "      <td>1111</td>\n",
       "      <td>0</td>\n",
       "      <td>5.0</td>\n",
       "      <td>1.0</td>\n",
       "      <td>145</td>\n",
       "      <td>0</td>\n",
       "    </tr>\n",
       "    <tr>\n",
       "      <th>2</th>\n",
       "      <td>379824</td>\n",
       "      <td>198</td>\n",
       "      <td>656</td>\n",
       "      <td>145</td>\n",
       "      <td>3462.0</td>\n",
       "      <td>1111</td>\n",
       "      <td>2</td>\n",
       "      <td>5.0</td>\n",
       "      <td>1.0</td>\n",
       "      <td>145</td>\n",
       "      <td>0</td>\n",
       "    </tr>\n",
       "    <tr>\n",
       "      <th>3</th>\n",
       "      <td>379824</td>\n",
       "      <td>198</td>\n",
       "      <td>656</td>\n",
       "      <td>145</td>\n",
       "      <td>3462.0</td>\n",
       "      <td>1110</td>\n",
       "      <td>0</td>\n",
       "      <td>5.0</td>\n",
       "      <td>1.0</td>\n",
       "      <td>145</td>\n",
       "      <td>0</td>\n",
       "    </tr>\n",
       "    <tr>\n",
       "      <th>4</th>\n",
       "      <td>379824</td>\n",
       "      <td>198</td>\n",
       "      <td>656</td>\n",
       "      <td>145</td>\n",
       "      <td>3462.0</td>\n",
       "      <td>1110</td>\n",
       "      <td>0</td>\n",
       "      <td>5.0</td>\n",
       "      <td>1.0</td>\n",
       "      <td>145</td>\n",
       "      <td>0</td>\n",
       "    </tr>\n",
       "  </tbody>\n",
       "</table>\n",
       "</div>"
      ],
      "text/plain": [
       "   user_id  item_id  cat_id  seller_id  brand_id  time_stamp  action_type  \\\n",
       "0   379824      198     656        145    3462.0        1111            0   \n",
       "1   379824      198     656        145    3462.0        1111            0   \n",
       "2   379824      198     656        145    3462.0        1111            2   \n",
       "3   379824      198     656        145    3462.0        1110            0   \n",
       "4   379824      198     656        145    3462.0        1110            0   \n",
       "\n",
       "   age_range  gender  merchant_id  label  \n",
       "0        5.0     1.0          145      0  \n",
       "1        5.0     1.0          145      0  \n",
       "2        5.0     1.0          145      0  \n",
       "3        5.0     1.0          145      0  \n",
       "4        5.0     1.0          145      0  "
      ]
     },
     "execution_count": 60,
     "metadata": {},
     "output_type": "execute_result"
    }
   ],
   "source": [
    "training_set.head()"
   ]
  },
  {
   "cell_type": "code",
   "execution_count": 78,
   "metadata": {},
   "outputs": [],
   "source": [
    "train, test = train_test_split(training_set, test_size=0.2)"
   ]
  },
  {
   "cell_type": "code",
   "execution_count": 79,
   "metadata": {},
   "outputs": [],
   "source": [
    "model = models.Sequential()\n",
    "model.add(layers.Dense(10, activation='relu', input_shape=(train.shape[1]-1,) ))        #label kept getting counted as a feature\n",
    "model.add(layers.Dense(5, activation='relu'))\n",
    "model.add(layers.Dense(1, activation='sigmoid'))\n",
    "\n",
    "model.compile(optimizer=optimizers.Adam(learning_rate=0.001),loss='binary_crossentropy',metrics=['acc'])"
   ]
  },
  {
   "cell_type": "code",
   "execution_count": 80,
   "metadata": {},
   "outputs": [
    {
     "name": "stdout",
     "output_type": "stream",
     "text": [
      "Epoch 1/10\n",
      "10/10 [==============================] - 1s 23ms/step - loss: 254.0605 - acc: 0.4416 - val_loss: 26.3617 - val_acc: 0.9221\n",
      "Epoch 2/10\n",
      "10/10 [==============================] - 0s 6ms/step - loss: 40.3038 - acc: 0.9253 - val_loss: 49.7735 - val_acc: 0.9221\n",
      "Epoch 3/10\n",
      "10/10 [==============================] - 0s 7ms/step - loss: 52.0857 - acc: 0.9253 - val_loss: 51.9739 - val_acc: 0.9221\n",
      "Epoch 4/10\n",
      "10/10 [==============================] - 0s 6ms/step - loss: 49.9044 - acc: 0.9253 - val_loss: 45.6887 - val_acc: 0.9221\n",
      "Epoch 5/10\n",
      "10/10 [==============================] - 0s 5ms/step - loss: 42.3777 - acc: 0.9253 - val_loss: 35.2526 - val_acc: 0.9221\n",
      "Epoch 6/10\n",
      "10/10 [==============================] - 0s 5ms/step - loss: 31.2662 - acc: 0.9286 - val_loss: 23.2344 - val_acc: 0.9221\n",
      "Epoch 7/10\n",
      "10/10 [==============================] - 0s 5ms/step - loss: 19.0668 - acc: 0.9253 - val_loss: 10.4139 - val_acc: 0.9221\n",
      "Epoch 8/10\n",
      "10/10 [==============================] - 0s 5ms/step - loss: 12.2348 - acc: 0.8474 - val_loss: 10.3862 - val_acc: 0.9221\n",
      "Epoch 9/10\n",
      "10/10 [==============================] - 0s 5ms/step - loss: 11.1901 - acc: 0.9221 - val_loss: 9.2421 - val_acc: 0.7532\n",
      "Epoch 10/10\n",
      "10/10 [==============================] - 0s 6ms/step - loss: 9.3777 - acc: 0.8864 - val_loss: 7.9506 - val_acc: 0.9221\n"
     ]
    }
   ],
   "source": [
    "history = model.fit(train.drop('label', axis=1), train['label'],\n",
    "                    epochs=10,\n",
    "                    validation_data= (test.drop('label',axis=1), test['label'])\n",
    "                    )"
   ]
  },
  {
   "cell_type": "markdown",
   "metadata": {},
   "source": [
    "### Baseline"
   ]
  },
  {
   "cell_type": "code",
   "execution_count": 3,
   "metadata": {},
   "outputs": [
    {
     "data": {
      "text/plain": [
       "(385, 182)"
      ]
     },
     "execution_count": 3,
     "metadata": {},
     "output_type": "execute_result"
    }
   ],
   "source": [
    "# FULL DATASET\n",
    "train_complete = pd.read_csv('../data_format1/use_data/merged_df.csv')\n",
    "train_complete.shape"
   ]
  },
  {
   "cell_type": "code",
   "execution_count": 5,
   "metadata": {},
   "outputs": [],
   "source": [
    "train_complete, val_complete = train_test_split(train_complete, test_size=0.2)"
   ]
  },
  {
   "cell_type": "code",
   "execution_count": 4,
   "metadata": {},
   "outputs": [
    {
     "data": {
      "text/plain": [
       "(385, 45)"
      ]
     },
     "execution_count": 4,
     "metadata": {},
     "output_type": "execute_result"
    }
   ],
   "source": [
    "train_50 = pd.read_csv(\"df_50.csv\")\n",
    "train_50.shape"
   ]
  },
  {
   "cell_type": "code",
   "execution_count": 7,
   "metadata": {},
   "outputs": [],
   "source": [
    "train_50_complete, val_50_complete = train_test_split(train_50, test_size=0.2)"
   ]
  },
  {
   "cell_type": "code",
   "execution_count": null,
   "metadata": {},
   "outputs": [],
   "source": [
    "# DIFFERING AMOUNTS OF PCA"
   ]
  },
  {
   "cell_type": "code",
   "execution_count": 20,
   "metadata": {},
   "outputs": [],
   "source": [
    "model = models.Sequential()\n",
    "model.add(layers.Dense(10, activation='relu', input_shape=(train_complete.shape[1]-1,) ))        #label kept getting counted as a feature\n",
    "model.add(layers.Dense(5, activation='relu'))\n",
    "model.add(layers.Dense(1, activation='sigmoid'))\n",
    "\n",
    "model.compile(optimizer=optimizers.Adam(learning_rate=0.001),loss='binary_crossentropy',metrics=['acc'])"
   ]
  },
  {
   "cell_type": "code",
   "execution_count": 19,
   "metadata": {},
   "outputs": [
    {
     "name": "stdout",
     "output_type": "stream",
     "text": [
      "Epoch 1/10\n",
      "10/10 [==============================] - 1s 20ms/step - loss: 23049.4785 - acc: 0.0649 - val_loss: 16011.8721 - val_acc: 0.1039\n",
      "Epoch 2/10\n",
      "10/10 [==============================] - 0s 5ms/step - loss: 18845.4082 - acc: 0.0649 - val_loss: 12931.2305 - val_acc: 0.1039\n",
      "Epoch 3/10\n",
      "10/10 [==============================] - 0s 6ms/step - loss: 14998.8672 - acc: 0.0649 - val_loss: 10003.8623 - val_acc: 0.1039\n",
      "Epoch 4/10\n",
      "10/10 [==============================] - 0s 6ms/step - loss: 11338.7842 - acc: 0.0649 - val_loss: 7275.4092 - val_acc: 0.1039\n",
      "Epoch 5/10\n",
      "10/10 [==============================] - 0s 6ms/step - loss: 8189.5137 - acc: 0.0649 - val_loss: 4996.6104 - val_acc: 0.1039\n",
      "Epoch 6/10\n",
      "10/10 [==============================] - 0s 5ms/step - loss: 5091.2812 - acc: 0.0649 - val_loss: 2390.0366 - val_acc: 0.1299\n",
      "Epoch 7/10\n",
      "10/10 [==============================] - 0s 5ms/step - loss: 1687.8425 - acc: 0.1558 - val_loss: 34.0043 - val_acc: 0.6234\n",
      "Epoch 8/10\n",
      "10/10 [==============================] - 0s 5ms/step - loss: 10.8510 - acc: 0.8377 - val_loss: 19.7061 - val_acc: 0.7662\n",
      "Epoch 9/10\n",
      "10/10 [==============================] - 0s 5ms/step - loss: 7.7168 - acc: 0.8604 - val_loss: 12.9809 - val_acc: 0.7792\n",
      "Epoch 10/10\n",
      "10/10 [==============================] - 0s 5ms/step - loss: 4.5862 - acc: 0.8799 - val_loss: 8.4396 - val_acc: 0.8052\n"
     ]
    }
   ],
   "source": [
    "history = model.fit(train_complete.drop('label', axis=1), train_complete['label'],\n",
    "                    epochs=10,\n",
    "                    validation_data= (val_complete.drop('label',axis=1), val_complete['label'])\n",
    "                    )"
   ]
  },
  {
   "cell_type": "code",
   "execution_count": 26,
   "metadata": {},
   "outputs": [],
   "source": [
    "model = models.Sequential()\n",
    "model.add(layers.Dense(10, activation='relu', input_shape=(train_50_complete.shape[1]-1,) ))        #label kept getting counted as a feature\n",
    "model.add(layers.Dense(5, activation='relu'))\n",
    "model.add(layers.Dense(1, activation='sigmoid'))\n",
    "\n",
    "model.compile(optimizer=optimizers.Adam(learning_rate=0.001),loss='binary_crossentropy',metrics=['acc'])"
   ]
  },
  {
   "cell_type": "code",
   "execution_count": 27,
   "metadata": {},
   "outputs": [
    {
     "name": "stdout",
     "output_type": "stream",
     "text": [
      "Epoch 1/10\n",
      "10/10 [==============================] - 1s 19ms/step - loss: 21852.1172 - acc: 0.0747 - val_loss: 20459.9141 - val_acc: 0.0649\n",
      "Epoch 2/10\n",
      "10/10 [==============================] - 0s 5ms/step - loss: 17840.6836 - acc: 0.0747 - val_loss: 16407.9414 - val_acc: 0.0649\n",
      "Epoch 3/10\n",
      "10/10 [==============================] - 0s 5ms/step - loss: 14089.2207 - acc: 0.0747 - val_loss: 12566.4785 - val_acc: 0.0649\n",
      "Epoch 4/10\n",
      "10/10 [==============================] - 0s 5ms/step - loss: 10508.4629 - acc: 0.0747 - val_loss: 9056.6719 - val_acc: 0.0649\n",
      "Epoch 5/10\n",
      "10/10 [==============================] - 0s 5ms/step - loss: 7259.8232 - acc: 0.0747 - val_loss: 5691.0566 - val_acc: 0.0649\n",
      "Epoch 6/10\n",
      "10/10 [==============================] - 0s 5ms/step - loss: 4022.6340 - acc: 0.0747 - val_loss: 2309.8826 - val_acc: 0.0649\n",
      "Epoch 7/10\n",
      "10/10 [==============================] - 0s 5ms/step - loss: 917.9582 - acc: 0.3117 - val_loss: 64.9322 - val_acc: 0.9351\n",
      "Epoch 8/10\n",
      "10/10 [==============================] - 0s 5ms/step - loss: 94.2793 - acc: 0.9156 - val_loss: 162.7489 - val_acc: 0.9351\n",
      "Epoch 9/10\n",
      "10/10 [==============================] - 0s 5ms/step - loss: 139.0567 - acc: 0.9156 - val_loss: 188.9113 - val_acc: 0.9351\n",
      "Epoch 10/10\n",
      "10/10 [==============================] - 0s 5ms/step - loss: 149.9600 - acc: 0.9156 - val_loss: 188.1252 - val_acc: 0.9351\n"
     ]
    }
   ],
   "source": [
    "history = model.fit(train_50_complete.drop('label', axis=1), train_50_complete['label'],\n",
    "                    epochs=10,\n",
    "                    validation_data= (val_50_complete.drop('label',axis=1), val_50_complete['label'])\n",
    "                    )"
   ]
  },
  {
   "cell_type": "code",
   "execution_count": 51,
   "metadata": {},
   "outputs": [],
   "source": [
    "from sklearn.decomposition import PCA\n",
    "\n",
    "x = train_50.copy()\n",
    "y = train_50['label']"
   ]
  },
  {
   "cell_type": "code",
   "execution_count": 52,
   "metadata": {},
   "outputs": [],
   "source": [
    "pca = PCA(n_components=5)\n",
    "principalComponents = pca.fit_transform(x)"
   ]
  },
  {
   "cell_type": "code",
   "execution_count": 53,
   "metadata": {},
   "outputs": [],
   "source": [
    "principalDF = pd.DataFrame(data = principalComponents, columns = ['1', '2', '3', '4', '5'])\n",
    "finalDF = pd.concat([principalDF, y], axis = 1)"
   ]
  },
  {
   "cell_type": "code",
   "execution_count": 54,
   "metadata": {},
   "outputs": [
    {
     "data": {
      "text/html": [
       "<div>\n",
       "<style scoped>\n",
       "    .dataframe tbody tr th:only-of-type {\n",
       "        vertical-align: middle;\n",
       "    }\n",
       "\n",
       "    .dataframe tbody tr th {\n",
       "        vertical-align: top;\n",
       "    }\n",
       "\n",
       "    .dataframe thead th {\n",
       "        text-align: right;\n",
       "    }\n",
       "</style>\n",
       "<table border=\"1\" class=\"dataframe\">\n",
       "  <thead>\n",
       "    <tr style=\"text-align: right;\">\n",
       "      <th></th>\n",
       "      <th>1</th>\n",
       "      <th>2</th>\n",
       "      <th>3</th>\n",
       "      <th>4</th>\n",
       "      <th>5</th>\n",
       "      <th>label</th>\n",
       "    </tr>\n",
       "  </thead>\n",
       "  <tbody>\n",
       "    <tr>\n",
       "      <th>0</th>\n",
       "      <td>175507.95037</td>\n",
       "      <td>2535.847367</td>\n",
       "      <td>-13.409704</td>\n",
       "      <td>-52.627332</td>\n",
       "      <td>23.207866</td>\n",
       "      <td>0</td>\n",
       "    </tr>\n",
       "    <tr>\n",
       "      <th>1</th>\n",
       "      <td>175507.95037</td>\n",
       "      <td>2535.847367</td>\n",
       "      <td>-13.409704</td>\n",
       "      <td>-52.627332</td>\n",
       "      <td>23.207866</td>\n",
       "      <td>0</td>\n",
       "    </tr>\n",
       "    <tr>\n",
       "      <th>2</th>\n",
       "      <td>175507.95037</td>\n",
       "      <td>2535.847367</td>\n",
       "      <td>-13.409704</td>\n",
       "      <td>-52.627332</td>\n",
       "      <td>23.207866</td>\n",
       "      <td>0</td>\n",
       "    </tr>\n",
       "    <tr>\n",
       "      <th>3</th>\n",
       "      <td>175507.95027</td>\n",
       "      <td>2535.844857</td>\n",
       "      <td>-12.657206</td>\n",
       "      <td>-52.920406</td>\n",
       "      <td>23.195732</td>\n",
       "      <td>0</td>\n",
       "    </tr>\n",
       "    <tr>\n",
       "      <th>4</th>\n",
       "      <td>175507.95027</td>\n",
       "      <td>2535.844857</td>\n",
       "      <td>-12.657206</td>\n",
       "      <td>-52.920406</td>\n",
       "      <td>23.195732</td>\n",
       "      <td>0</td>\n",
       "    </tr>\n",
       "  </tbody>\n",
       "</table>\n",
       "</div>"
      ],
      "text/plain": [
       "              1            2          3          4          5  label\n",
       "0  175507.95037  2535.847367 -13.409704 -52.627332  23.207866      0\n",
       "1  175507.95037  2535.847367 -13.409704 -52.627332  23.207866      0\n",
       "2  175507.95037  2535.847367 -13.409704 -52.627332  23.207866      0\n",
       "3  175507.95027  2535.844857 -12.657206 -52.920406  23.195732      0\n",
       "4  175507.95027  2535.844857 -12.657206 -52.920406  23.195732      0"
      ]
     },
     "execution_count": 54,
     "metadata": {},
     "output_type": "execute_result"
    }
   ],
   "source": [
    "finalDF.head()"
   ]
  },
  {
   "cell_type": "code",
   "execution_count": 55,
   "metadata": {},
   "outputs": [],
   "source": [
    "train_final, val_final = train_test_split(finalDF, test_size=0.2)"
   ]
  },
  {
   "cell_type": "code",
   "execution_count": 56,
   "metadata": {},
   "outputs": [],
   "source": [
    "model = models.Sequential()\n",
    "model.add(layers.Dense(10, activation='relu', input_shape=(finalDF.shape[1]-1,) ))        #label kept getting counted as a feature\n",
    "model.add(layers.Dense(5, activation='relu'))\n",
    "model.add(layers.Dense(1, activation='sigmoid'))\n",
    "\n",
    "model.compile(optimizer=optimizers.Adam(learning_rate=0.001),loss='binary_crossentropy',metrics=['acc'])"
   ]
  },
  {
   "cell_type": "code",
   "execution_count": 57,
   "metadata": {},
   "outputs": [
    {
     "name": "stdout",
     "output_type": "stream",
     "text": [
      "Epoch 1/10\n",
      "10/10 [==============================] - 1s 24ms/step - loss: 73.6215 - acc: 0.6883 - val_loss: 51.0377 - val_acc: 0.6364\n",
      "Epoch 2/10\n",
      "10/10 [==============================] - 0s 6ms/step - loss: 56.2076 - acc: 0.8149 - val_loss: 38.3072 - val_acc: 0.8961\n",
      "Epoch 3/10\n",
      "10/10 [==============================] - 0s 5ms/step - loss: 38.2126 - acc: 0.9351 - val_loss: 28.3719 - val_acc: 0.8961\n",
      "Epoch 4/10\n",
      "10/10 [==============================] - 0s 5ms/step - loss: 25.0044 - acc: 0.9351 - val_loss: 15.5090 - val_acc: 0.8961\n",
      "Epoch 5/10\n",
      "10/10 [==============================] - 0s 5ms/step - loss: 11.4452 - acc: 0.9351 - val_loss: 1.8978 - val_acc: 0.8961\n",
      "Epoch 6/10\n",
      "10/10 [==============================] - 0s 5ms/step - loss: 4.4088 - acc: 0.9188 - val_loss: 2.1340 - val_acc: 0.8961\n",
      "Epoch 7/10\n",
      "10/10 [==============================] - 0s 5ms/step - loss: 4.1735 - acc: 0.9026 - val_loss: 6.1638 - val_acc: 0.8961\n",
      "Epoch 8/10\n",
      "10/10 [==============================] - 0s 5ms/step - loss: 9.1918 - acc: 0.9351 - val_loss: 8.6515 - val_acc: 0.8961\n",
      "Epoch 9/10\n",
      "10/10 [==============================] - 0s 5ms/step - loss: 10.4275 - acc: 0.9351 - val_loss: 5.8392 - val_acc: 0.8961\n",
      "Epoch 10/10\n",
      "10/10 [==============================] - 0s 5ms/step - loss: 5.7824 - acc: 0.9351 - val_loss: 0.5849 - val_acc: 0.8831\n"
     ]
    }
   ],
   "source": [
    "history = model.fit(train_final.drop('label', axis=1), train_final['label'],\n",
    "                    epochs=10,\n",
    "                    validation_data= (val_final.drop('label',axis=1), val_final['label'])\n",
    "                    )"
   ]
  },
  {
   "cell_type": "code",
   "execution_count": 46,
   "metadata": {},
   "outputs": [
    {
     "name": "stdout",
     "output_type": "stream",
     "text": [
      "3/3 [==============================] - 0s 2ms/step - loss: 73.7392 - acc: 0.9351\n"
     ]
    },
    {
     "data": {
      "text/plain": [
       "[73.73917388916016, 0.9350649118423462]"
      ]
     },
     "execution_count": 46,
     "metadata": {},
     "output_type": "execute_result"
    }
   ],
   "source": [
    "model.evaluate(test.drop(['label'], axis=1), test['label'],)"
   ]
  },
  {
   "cell_type": "markdown",
   "metadata": {},
   "source": [
    "super high loss?"
   ]
  }
 ],
 "metadata": {
  "kernelspec": {
   "display_name": "Python 3 (ipykernel)",
   "language": "python",
   "name": "python3"
  },
  "language_info": {
   "codemirror_mode": {
    "name": "ipython",
    "version": 3
   },
   "file_extension": ".py",
   "mimetype": "text/x-python",
   "name": "python",
   "nbconvert_exporter": "python",
   "pygments_lexer": "ipython3",
   "version": "3.8.1"
  }
 },
 "nbformat": 4,
 "nbformat_minor": 2
}
