{
 "cells": [
  {
   "attachments": {},
   "cell_type": "markdown",
   "metadata": {},
   "source": [
    "# Neural Network Classifier"
   ]
  },
  {
   "cell_type": "code",
   "execution_count": 39,
   "metadata": {},
   "outputs": [],
   "source": [
    "from keras import models\n",
    "from keras import layers\n",
    "from keras import optimizers\n",
    "from keras import losses\n",
    "from keras import metrics\n",
    "import pandas as pd\n",
    "\n",
    "from sklearn.model_selection import train_test_split"
   ]
  },
  {
   "attachments": {},
   "cell_type": "markdown",
   "metadata": {},
   "source": [
    "### Testing Dataset Creation"
   ]
  },
  {
   "cell_type": "code",
   "execution_count": 40,
   "metadata": {},
   "outputs": [],
   "source": [
    "train_df_full = pd.read_csv(\"../data_format1/full_data/train_format1.csv\")\n",
    "train_df = pd.read_csv(\"../data_format1/use_data/train_format1[161-320].csv\")\n",
    "#same number of samples when merging with full or subset dataset\n",
    "merged = pd.read_csv(\"../data_format1/use_data/merged_dataset.csv\")\n",
    "\n",
    "#only pick those in merged whose [\"user_id\", \"seller_id\"] match with [\"user_id\", \"merchant_id\"] in the train_format1 document\n",
    "training_key = train_df.loc[:, [\"user_id\", \"merchant_id\", \"label\"]] \n",
    "training_set = merged.merge(\n",
    "        training_key, \n",
    "        how=\"inner\", \n",
    "        left_on=[\"user_id\", \"seller_id\"], \n",
    "        right_on=[\"user_id\", \"merchant_id\"]\n",
    ")"
   ]
  },
  {
   "cell_type": "code",
   "execution_count": 41,
   "metadata": {},
   "outputs": [
    {
     "data": {
      "text/plain": [
       "(385, 11)"
      ]
     },
     "execution_count": 41,
     "metadata": {},
     "output_type": "execute_result"
    }
   ],
   "source": [
    "training_set.shape"
   ]
  },
  {
   "cell_type": "code",
   "execution_count": 42,
   "metadata": {},
   "outputs": [
    {
     "data": {
      "text/html": [
       "<div>\n",
       "<style scoped>\n",
       "    .dataframe tbody tr th:only-of-type {\n",
       "        vertical-align: middle;\n",
       "    }\n",
       "\n",
       "    .dataframe tbody tr th {\n",
       "        vertical-align: top;\n",
       "    }\n",
       "\n",
       "    .dataframe thead th {\n",
       "        text-align: right;\n",
       "    }\n",
       "</style>\n",
       "<table border=\"1\" class=\"dataframe\">\n",
       "  <thead>\n",
       "    <tr style=\"text-align: right;\">\n",
       "      <th></th>\n",
       "      <th>user_id</th>\n",
       "      <th>item_id</th>\n",
       "      <th>cat_id</th>\n",
       "      <th>seller_id</th>\n",
       "      <th>brand_id</th>\n",
       "      <th>time_stamp</th>\n",
       "      <th>action_type</th>\n",
       "      <th>age_range</th>\n",
       "      <th>gender</th>\n",
       "      <th>merchant_id</th>\n",
       "      <th>label</th>\n",
       "    </tr>\n",
       "  </thead>\n",
       "  <tbody>\n",
       "    <tr>\n",
       "      <th>0</th>\n",
       "      <td>379824</td>\n",
       "      <td>198</td>\n",
       "      <td>656</td>\n",
       "      <td>145</td>\n",
       "      <td>3462.0</td>\n",
       "      <td>1111</td>\n",
       "      <td>0</td>\n",
       "      <td>5.0</td>\n",
       "      <td>1.0</td>\n",
       "      <td>145</td>\n",
       "      <td>0</td>\n",
       "    </tr>\n",
       "    <tr>\n",
       "      <th>1</th>\n",
       "      <td>379824</td>\n",
       "      <td>198</td>\n",
       "      <td>656</td>\n",
       "      <td>145</td>\n",
       "      <td>3462.0</td>\n",
       "      <td>1111</td>\n",
       "      <td>0</td>\n",
       "      <td>5.0</td>\n",
       "      <td>1.0</td>\n",
       "      <td>145</td>\n",
       "      <td>0</td>\n",
       "    </tr>\n",
       "    <tr>\n",
       "      <th>2</th>\n",
       "      <td>379824</td>\n",
       "      <td>198</td>\n",
       "      <td>656</td>\n",
       "      <td>145</td>\n",
       "      <td>3462.0</td>\n",
       "      <td>1111</td>\n",
       "      <td>2</td>\n",
       "      <td>5.0</td>\n",
       "      <td>1.0</td>\n",
       "      <td>145</td>\n",
       "      <td>0</td>\n",
       "    </tr>\n",
       "    <tr>\n",
       "      <th>3</th>\n",
       "      <td>379824</td>\n",
       "      <td>198</td>\n",
       "      <td>656</td>\n",
       "      <td>145</td>\n",
       "      <td>3462.0</td>\n",
       "      <td>1110</td>\n",
       "      <td>0</td>\n",
       "      <td>5.0</td>\n",
       "      <td>1.0</td>\n",
       "      <td>145</td>\n",
       "      <td>0</td>\n",
       "    </tr>\n",
       "    <tr>\n",
       "      <th>4</th>\n",
       "      <td>379824</td>\n",
       "      <td>198</td>\n",
       "      <td>656</td>\n",
       "      <td>145</td>\n",
       "      <td>3462.0</td>\n",
       "      <td>1110</td>\n",
       "      <td>0</td>\n",
       "      <td>5.0</td>\n",
       "      <td>1.0</td>\n",
       "      <td>145</td>\n",
       "      <td>0</td>\n",
       "    </tr>\n",
       "  </tbody>\n",
       "</table>\n",
       "</div>"
      ],
      "text/plain": [
       "   user_id  item_id  cat_id  seller_id  brand_id  time_stamp  action_type  \\\n",
       "0   379824      198     656        145    3462.0        1111            0   \n",
       "1   379824      198     656        145    3462.0        1111            0   \n",
       "2   379824      198     656        145    3462.0        1111            2   \n",
       "3   379824      198     656        145    3462.0        1110            0   \n",
       "4   379824      198     656        145    3462.0        1110            0   \n",
       "\n",
       "   age_range  gender  merchant_id  label  \n",
       "0        5.0     1.0          145      0  \n",
       "1        5.0     1.0          145      0  \n",
       "2        5.0     1.0          145      0  \n",
       "3        5.0     1.0          145      0  \n",
       "4        5.0     1.0          145      0  "
      ]
     },
     "execution_count": 42,
     "metadata": {},
     "output_type": "execute_result"
    }
   ],
   "source": [
    "training_set.head()"
   ]
  },
  {
   "cell_type": "code",
   "execution_count": 43,
   "metadata": {},
   "outputs": [],
   "source": [
    "train, test = train_test_split(training_set, test_size=0.2)"
   ]
  },
  {
   "attachments": {},
   "cell_type": "markdown",
   "metadata": {},
   "source": [
    "### Baseline"
   ]
  },
  {
   "cell_type": "code",
   "execution_count": 44,
   "metadata": {},
   "outputs": [],
   "source": [
    "model = models.Sequential()\n",
    "model.add(layers.Dense(10, activation='relu', input_shape=(train.shape[1]-1,) ))        #label kept getting counted as a feature\n",
    "model.add(layers.Dense(5, activation='relu'))\n",
    "model.add(layers.Dense(1, activation='sigmoid'))\n",
    "\n",
    "model.compile(optimizer=optimizers.Adam(learning_rate=0.001),loss='binary_crossentropy',metrics=['acc'])"
   ]
  },
  {
   "cell_type": "code",
   "execution_count": 45,
   "metadata": {},
   "outputs": [
    {
     "name": "stdout",
     "output_type": "stream",
     "text": [
      "Epoch 1/20\n",
      "10/10 [==============================] - 1s 1ms/step - loss: 27451.2246 - acc: 0.0747\n",
      "Epoch 2/20\n",
      "10/10 [==============================] - 0s 1ms/step - loss: 23502.4922 - acc: 0.0747\n",
      "Epoch 3/20\n",
      "10/10 [==============================] - 0s 2ms/step - loss: 19324.2012 - acc: 0.0779\n",
      "Epoch 4/20\n",
      "10/10 [==============================] - 0s 2ms/step - loss: 14616.0586 - acc: 0.0844\n",
      "Epoch 5/20\n",
      "10/10 [==============================] - 0s 2ms/step - loss: 9660.9443 - acc: 0.1006\n",
      "Epoch 6/20\n",
      "10/10 [==============================] - 0s 2ms/step - loss: 4657.4697 - acc: 0.1656\n",
      "Epoch 7/20\n",
      "10/10 [==============================] - 0s 2ms/step - loss: 480.1381 - acc: 0.7078\n",
      "Epoch 8/20\n",
      "10/10 [==============================] - 0s 2ms/step - loss: 239.3855 - acc: 0.9286\n",
      "Epoch 9/20\n",
      "10/10 [==============================] - 0s 3ms/step - loss: 294.6723 - acc: 0.9286\n",
      "Epoch 10/20\n",
      "10/10 [==============================] - 0s 2ms/step - loss: 297.2049 - acc: 0.9286\n",
      "Epoch 11/20\n",
      "10/10 [==============================] - 0s 2ms/step - loss: 279.7350 - acc: 0.9286\n",
      "Epoch 12/20\n",
      "10/10 [==============================] - 0s 2ms/step - loss: 255.4632 - acc: 0.9286\n",
      "Epoch 13/20\n",
      "10/10 [==============================] - 0s 2ms/step - loss: 227.2609 - acc: 0.9286\n",
      "Epoch 14/20\n",
      "10/10 [==============================] - 0s 2ms/step - loss: 196.3753 - acc: 0.9286\n",
      "Epoch 15/20\n",
      "10/10 [==============================] - 0s 2ms/step - loss: 164.6919 - acc: 0.9286\n",
      "Epoch 16/20\n",
      "10/10 [==============================] - 0s 2ms/step - loss: 132.2822 - acc: 0.9286\n",
      "Epoch 17/20\n",
      "10/10 [==============================] - 0s 2ms/step - loss: 96.8470 - acc: 0.9286\n",
      "Epoch 18/20\n",
      "10/10 [==============================] - 0s 2ms/step - loss: 77.6096 - acc: 0.8799\n",
      "Epoch 19/20\n",
      "10/10 [==============================] - 0s 2ms/step - loss: 73.8816 - acc: 0.9058\n",
      "Epoch 20/20\n",
      "10/10 [==============================] - 0s 1ms/step - loss: 72.3297 - acc: 0.8896\n"
     ]
    }
   ],
   "source": [
    "history = model.fit(train.drop(['label'], axis=1), train['label'],\n",
    "                    epochs=20,\n",
    "                    #batch_size=\n",
    "                    )"
   ]
  },
  {
   "cell_type": "code",
   "execution_count": 46,
   "metadata": {},
   "outputs": [
    {
     "name": "stdout",
     "output_type": "stream",
     "text": [
      "3/3 [==============================] - 0s 2ms/step - loss: 73.7392 - acc: 0.9351\n"
     ]
    },
    {
     "data": {
      "text/plain": [
       "[73.73917388916016, 0.9350649118423462]"
      ]
     },
     "execution_count": 46,
     "metadata": {},
     "output_type": "execute_result"
    }
   ],
   "source": [
    "model.evaluate(test.drop(['label'], axis=1), test['label'],)"
   ]
  },
  {
   "attachments": {},
   "cell_type": "markdown",
   "metadata": {},
   "source": [
    "super high loss?"
   ]
  }
 ],
 "metadata": {
  "kernelspec": {
   "display_name": "Python 3",
   "language": "python",
   "name": "python3"
  },
  "language_info": {
   "codemirror_mode": {
    "name": "ipython",
    "version": 3
   },
   "file_extension": ".py",
   "mimetype": "text/x-python",
   "name": "python",
   "nbconvert_exporter": "python",
   "pygments_lexer": "ipython3",
   "version": "3.8.1"
  },
  "orig_nbformat": 4
 },
 "nbformat": 4,
 "nbformat_minor": 2
}
