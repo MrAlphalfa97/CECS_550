{
 "cells": [
  {
   "cell_type": "code",
   "execution_count": 1,
   "metadata": {},
   "outputs": [],
   "source": [
    "import pandas as pd\n",
    "import numpy as np\n",
    "import sklearn\n",
    "import matplotlib.pyplot as plt\n",
    "from sklearn.decomposition import PCA"
   ]
  },
  {
   "attachments": {},
   "cell_type": "markdown",
   "metadata": {},
   "source": [
    "# Load Profiles"
   ]
  },
  {
   "cell_type": "code",
   "execution_count": 2,
   "metadata": {},
   "outputs": [],
   "source": [
    "df = pd.read_csv(\"./use_data/expanded_training.csv\")\n",
    "df_user = pd.read_csv(\"./use_data/profiles/user_profile.csv\")\n",
    "df_merchant = pd.read_csv(\"./use_data/profiles/merchant_profile.csv\")\n",
    "df_brand = pd.read_csv(\"./use_data/profiles/brand_profile.csv\")\n",
    "df_item = pd.read_csv(\"./use_data/profiles/item_profile.csv\")\n",
    "df_cat = pd.read_csv(\"./use_data/profiles/category_profile.csv\")"
   ]
  },
  {
   "attachments": {},
   "cell_type": "markdown",
   "metadata": {},
   "source": [
    "# Merge Profiles"
   ]
  },
  {
   "cell_type": "code",
   "execution_count": null,
   "metadata": {},
   "outputs": [],
   "source": [
    "df_features = df.merge(df_user, on=\"user_id\")"
   ]
  }
 ],
 "metadata": {
  "kernelspec": {
   "display_name": "patRec",
   "language": "python",
   "name": "python3"
  },
  "language_info": {
   "codemirror_mode": {
    "name": "ipython",
    "version": 3
   },
   "file_extension": ".py",
   "mimetype": "text/x-python",
   "name": "python",
   "nbconvert_exporter": "python",
   "pygments_lexer": "ipython3",
   "version": "3.9.16"
  },
  "orig_nbformat": 4
 },
 "nbformat": 4,
 "nbformat_minor": 2
}
