{
 "cells": [
  {
   "cell_type": "code",
   "execution_count": 1,
   "id": "e3bd3c67",
   "metadata": {},
   "outputs": [],
   "source": [
    "#!pip install shap\n",
    "#!pip install sklearn\n",
    "import pandas as pd\n",
    "import numpy as np\n",
    "import shap\n",
    "import sklearn\n",
    "import seaborn as sn\n",
    "import matplotlib.pyplot as plt\n",
    "from numpy.linalg import eig"
   ]
  },
  {
   "cell_type": "code",
   "execution_count": 2,
   "id": "633225c4",
   "metadata": {},
   "outputs": [
    {
     "data": {
      "text/html": [
       "<div>\n",
       "<style scoped>\n",
       "    .dataframe tbody tr th:only-of-type {\n",
       "        vertical-align: middle;\n",
       "    }\n",
       "\n",
       "    .dataframe tbody tr th {\n",
       "        vertical-align: top;\n",
       "    }\n",
       "\n",
       "    .dataframe thead th {\n",
       "        text-align: right;\n",
       "    }\n",
       "</style>\n",
       "<table border=\"1\" class=\"dataframe\">\n",
       "  <thead>\n",
       "    <tr style=\"text-align: right;\">\n",
       "      <th></th>\n",
       "      <th>user_id</th>\n",
       "      <th>item_id</th>\n",
       "      <th>cat_id</th>\n",
       "      <th>seller_id</th>\n",
       "      <th>brand_id</th>\n",
       "      <th>time_stamp</th>\n",
       "      <th>action_type</th>\n",
       "      <th>age_range</th>\n",
       "      <th>gender</th>\n",
       "    </tr>\n",
       "  </thead>\n",
       "  <tbody>\n",
       "    <tr>\n",
       "      <th>0</th>\n",
       "      <td>149002</td>\n",
       "      <td>282</td>\n",
       "      <td>885</td>\n",
       "      <td>3791</td>\n",
       "      <td>1500.0</td>\n",
       "      <td>1111</td>\n",
       "      <td>0</td>\n",
       "      <td>5.0</td>\n",
       "      <td>2.0</td>\n",
       "    </tr>\n",
       "    <tr>\n",
       "      <th>1</th>\n",
       "      <td>149002</td>\n",
       "      <td>282</td>\n",
       "      <td>885</td>\n",
       "      <td>3791</td>\n",
       "      <td>1500.0</td>\n",
       "      <td>1107</td>\n",
       "      <td>0</td>\n",
       "      <td>5.0</td>\n",
       "      <td>2.0</td>\n",
       "    </tr>\n",
       "    <tr>\n",
       "      <th>2</th>\n",
       "      <td>109881</td>\n",
       "      <td>230</td>\n",
       "      <td>629</td>\n",
       "      <td>1</td>\n",
       "      <td>1662.0</td>\n",
       "      <td>820</td>\n",
       "      <td>0</td>\n",
       "      <td>4.0</td>\n",
       "      <td>0.0</td>\n",
       "    </tr>\n",
       "    <tr>\n",
       "      <th>3</th>\n",
       "      <td>109881</td>\n",
       "      <td>230</td>\n",
       "      <td>629</td>\n",
       "      <td>1</td>\n",
       "      <td>1662.0</td>\n",
       "      <td>820</td>\n",
       "      <td>0</td>\n",
       "      <td>4.0</td>\n",
       "      <td>0.0</td>\n",
       "    </tr>\n",
       "    <tr>\n",
       "      <th>4</th>\n",
       "      <td>109881</td>\n",
       "      <td>230</td>\n",
       "      <td>629</td>\n",
       "      <td>1</td>\n",
       "      <td>1662.0</td>\n",
       "      <td>820</td>\n",
       "      <td>0</td>\n",
       "      <td>4.0</td>\n",
       "      <td>0.0</td>\n",
       "    </tr>\n",
       "    <tr>\n",
       "      <th>...</th>\n",
       "      <td>...</td>\n",
       "      <td>...</td>\n",
       "      <td>...</td>\n",
       "      <td>...</td>\n",
       "      <td>...</td>\n",
       "      <td>...</td>\n",
       "      <td>...</td>\n",
       "      <td>...</td>\n",
       "      <td>...</td>\n",
       "    </tr>\n",
       "    <tr>\n",
       "      <th>6544</th>\n",
       "      <td>73105</td>\n",
       "      <td>259</td>\n",
       "      <td>614</td>\n",
       "      <td>637</td>\n",
       "      <td>2603.0</td>\n",
       "      <td>1111</td>\n",
       "      <td>0</td>\n",
       "      <td>2.0</td>\n",
       "      <td>0.0</td>\n",
       "    </tr>\n",
       "    <tr>\n",
       "      <th>6545</th>\n",
       "      <td>403421</td>\n",
       "      <td>175</td>\n",
       "      <td>1181</td>\n",
       "      <td>4760</td>\n",
       "      <td>247.0</td>\n",
       "      <td>1111</td>\n",
       "      <td>0</td>\n",
       "      <td>3.0</td>\n",
       "      <td>1.0</td>\n",
       "    </tr>\n",
       "    <tr>\n",
       "      <th>6546</th>\n",
       "      <td>116738</td>\n",
       "      <td>186</td>\n",
       "      <td>267</td>\n",
       "      <td>1200</td>\n",
       "      <td>2276.0</td>\n",
       "      <td>1110</td>\n",
       "      <td>0</td>\n",
       "      <td>2.0</td>\n",
       "      <td>1.0</td>\n",
       "    </tr>\n",
       "    <tr>\n",
       "      <th>6547</th>\n",
       "      <td>116738</td>\n",
       "      <td>186</td>\n",
       "      <td>267</td>\n",
       "      <td>1200</td>\n",
       "      <td>2276.0</td>\n",
       "      <td>1101</td>\n",
       "      <td>0</td>\n",
       "      <td>2.0</td>\n",
       "      <td>1.0</td>\n",
       "    </tr>\n",
       "    <tr>\n",
       "      <th>6548</th>\n",
       "      <td>124951</td>\n",
       "      <td>184</td>\n",
       "      <td>656</td>\n",
       "      <td>145</td>\n",
       "      <td>3462.0</td>\n",
       "      <td>1111</td>\n",
       "      <td>0</td>\n",
       "      <td>0.0</td>\n",
       "      <td>0.0</td>\n",
       "    </tr>\n",
       "  </tbody>\n",
       "</table>\n",
       "<p>6549 rows × 9 columns</p>\n",
       "</div>"
      ],
      "text/plain": [
       "      user_id  item_id  cat_id  seller_id  brand_id  time_stamp  action_type  \\\n",
       "0      149002      282     885       3791    1500.0        1111            0   \n",
       "1      149002      282     885       3791    1500.0        1107            0   \n",
       "2      109881      230     629          1    1662.0         820            0   \n",
       "3      109881      230     629          1    1662.0         820            0   \n",
       "4      109881      230     629          1    1662.0         820            0   \n",
       "...       ...      ...     ...        ...       ...         ...          ...   \n",
       "6544    73105      259     614        637    2603.0        1111            0   \n",
       "6545   403421      175    1181       4760     247.0        1111            0   \n",
       "6546   116738      186     267       1200    2276.0        1110            0   \n",
       "6547   116738      186     267       1200    2276.0        1101            0   \n",
       "6548   124951      184     656        145    3462.0        1111            0   \n",
       "\n",
       "      age_range  gender  \n",
       "0           5.0     2.0  \n",
       "1           5.0     2.0  \n",
       "2           4.0     0.0  \n",
       "3           4.0     0.0  \n",
       "4           4.0     0.0  \n",
       "...         ...     ...  \n",
       "6544        2.0     0.0  \n",
       "6545        3.0     1.0  \n",
       "6546        2.0     1.0  \n",
       "6547        2.0     1.0  \n",
       "6548        0.0     0.0  \n",
       "\n",
       "[6549 rows x 9 columns]"
      ]
     },
     "execution_count": 2,
     "metadata": {},
     "output_type": "execute_result"
    }
   ],
   "source": [
    "df = pd.read_csv(\"use_data/merged_dataset.csv\")\n",
    "#Fill in all NaN, needed for eigenvalues/eigenvectors\n",
    "df.fillna(-1,inplace=True)\n",
    "df"
   ]
  },
  {
   "cell_type": "code",
   "execution_count": 3,
   "id": "e9c483aa",
   "metadata": {},
   "outputs": [
    {
     "data": {
      "text/plain": [
       "array([[1.49002e+05, 2.82000e+02, 8.85000e+02, ..., 0.00000e+00,\n",
       "        5.00000e+00, 2.00000e+00],\n",
       "       [1.49002e+05, 2.82000e+02, 8.85000e+02, ..., 0.00000e+00,\n",
       "        5.00000e+00, 2.00000e+00],\n",
       "       [1.09881e+05, 2.30000e+02, 6.29000e+02, ..., 0.00000e+00,\n",
       "        4.00000e+00, 0.00000e+00],\n",
       "       ...,\n",
       "       [1.16738e+05, 1.86000e+02, 2.67000e+02, ..., 0.00000e+00,\n",
       "        2.00000e+00, 1.00000e+00],\n",
       "       [1.16738e+05, 1.86000e+02, 2.67000e+02, ..., 0.00000e+00,\n",
       "        2.00000e+00, 1.00000e+00],\n",
       "       [1.24951e+05, 1.84000e+02, 6.56000e+02, ..., 0.00000e+00,\n",
       "        0.00000e+00, 0.00000e+00]])"
      ]
     },
     "execution_count": 3,
     "metadata": {},
     "output_type": "execute_result"
    }
   ],
   "source": [
    "#ingore the label column\n",
    "df_array = df.to_numpy()\n",
    "df_array"
   ]
  },
  {
   "cell_type": "code",
   "execution_count": 4,
   "id": "da00e740",
   "metadata": {},
   "outputs": [
    {
     "data": {
      "text/plain": [
       "array([2.08720834e+05, 2.47627577e+02, 8.09018629e+02, 2.92348542e+03,\n",
       "       3.55897710e+03, 8.82576882e+02, 3.13482974e-01, 3.18170713e+00,\n",
       "       3.69369369e-01])"
      ]
     },
     "execution_count": 4,
     "metadata": {},
     "output_type": "execute_result"
    }
   ],
   "source": [
    "#Compute mean for every dimension of the whole dataset\n",
    "df_mean = df.mean().to_numpy()\n",
    "df_mean"
   ]
  },
  {
   "cell_type": "code",
   "execution_count": 5,
   "id": "3d8b2754",
   "metadata": {},
   "outputs": [
    {
     "data": {
      "text/plain": [
       "array([[2.16624893e+09, 2.16625616e+09, 1.60073834e+09, ...,\n",
       "        1.69833404e+09, 1.69835032e+09, 1.81722453e+09],\n",
       "       [2.16625616e+09, 2.16626340e+09, 1.60074357e+09, ...,\n",
       "        1.69833956e+09, 1.69835585e+09, 1.81723048e+09],\n",
       "       [1.60073834e+09, 1.60074357e+09, 1.18369263e+09, ...,\n",
       "        1.25556732e+09, 1.25557908e+09, 1.34388401e+09],\n",
       "       ...,\n",
       "       [1.69833404e+09, 1.69833956e+09, 1.25556732e+09, ...,\n",
       "        1.33198890e+09, 1.33200132e+09, 1.42556602e+09],\n",
       "       [1.69835032e+09, 1.69835585e+09, 1.25557908e+09, ...,\n",
       "        1.33200132e+09, 1.33201375e+09, 1.42557941e+09],\n",
       "       [1.81722453e+09, 1.81723048e+09, 1.34388401e+09, ...,\n",
       "        1.42556602e+09, 1.42557941e+09, 1.52599404e+09]])"
      ]
     },
     "execution_count": 5,
     "metadata": {},
     "output_type": "execute_result"
    }
   ],
   "source": [
    "#Calculate covariance matrix for whole dataset\n",
    "#The diagonal is the variance\n",
    "cov_matrix = np.cov(df_array, bias=True)\n",
    "cov_matrix"
   ]
  },
  {
   "cell_type": "code",
   "execution_count": 6,
   "id": "7983f073",
   "metadata": {
    "scrolled": true
   },
   "outputs": [
    {
     "name": "stdout",
     "output_type": "stream",
     "text": [
      "E-value: [ 3.73652111e+13+0.00000000e+00j  4.83116539e+09+0.00000000e+00j\n",
      "  2.01928936e+09+0.00000000e+00j ... -1.16967720e-72-2.66058587e-72j\n",
      " -2.12725049e-73+0.00000000e+00j -4.31751275e-84+0.00000000e+00j]\n",
      "E-vector: [[ 7.61322566e-03+0.00000000e+00j -1.34708992e-03+0.00000000e+00j\n",
      "  -1.55535392e-02+0.00000000e+00j ...  2.02091315e-26-2.49042705e-25j\n",
      "  -2.25547709e-25+0.00000000e+00j -1.22925141e-35+0.00000000e+00j]\n",
      " [ 7.61325150e-03+0.00000000e+00j -1.34939607e-03+0.00000000e+00j\n",
      "  -1.55543048e-02+0.00000000e+00j ... -1.13537366e-18+9.23788767e-19j\n",
      "   2.39264595e-19+0.00000000e+00j -1.30763669e-19+0.00000000e+00j]\n",
      " [ 5.62796145e-03+0.00000000e+00j  1.30909199e-03+0.00000000e+00j\n",
      "   8.40833490e-03+0.00000000e+00j ... -3.85690707e-19-1.99204671e-20j\n",
      "   8.72632223e-18+0.00000000e+00j  1.11328692e-18+0.00000000e+00j]\n",
      " ...\n",
      " [ 5.97035516e-03+0.00000000e+00j -2.64081575e-03+0.00000000e+00j\n",
      "   2.97838272e-03+0.00000000e+00j ...  5.11234014e-19-1.89243334e-19j\n",
      "  -1.06782800e-18+0.00000000e+00j  9.86283431e-19+0.00000000e+00j]\n",
      " [ 5.97041330e-03+0.00000000e+00j -2.64600459e-03+0.00000000e+00j\n",
      "   2.97666017e-03+0.00000000e+00j ... -2.37696075e-19-2.91639889e-19j\n",
      "   1.15753614e-18+0.00000000e+00j  2.45862953e-19+0.00000000e+00j]\n",
      " [ 6.38943902e-03+0.00000000e+00j -4.86739531e-03+0.00000000e+00j\n",
      "   1.40198705e-02+0.00000000e+00j ... -1.47643580e-19-4.64502911e-20j\n",
      "  -1.62919609e-18+0.00000000e+00j -1.22168279e-18+0.00000000e+00j]]\n"
     ]
    }
   ],
   "source": [
    "#Compute eigenvectors and eigenvalues\n",
    "w, v = eig(cov_matrix)\n",
    "print('E-value:', w)\n",
    "print('E-vector:', v)"
   ]
  },
  {
   "cell_type": "code",
   "execution_count": 15,
   "id": "2e40bc31",
   "metadata": {},
   "outputs": [],
   "source": [
    "inds = (-w).argsort()\n",
    "sortedw = sorted(w,reverse=True)\n",
    "sortedv = list(v[inds])"
   ]
  },
  {
   "cell_type": "code",
   "execution_count": 16,
   "id": "622c25cb",
   "metadata": {},
   "outputs": [
    {
     "data": {
      "text/plain": [
       "[(37365211120457.19+0j),\n",
       " (4831165387.338659+0j),\n",
       " (2019289360.090516+0j),\n",
       " (111683559.13175708+0j),\n",
       " (55695442.43207115+0j),\n",
       " (2744824.8956622514+0j),\n",
       " (1864.70070221577+0j),\n",
       " (361.2688006018666+0j),\n",
       " (0.012592534685206904+0.0045183207676350295j)]"
      ]
     },
     "execution_count": 16,
     "metadata": {},
     "output_type": "execute_result"
    }
   ],
   "source": [
    "#Choose top K\n",
    "k = 9\n",
    "sortedw[:k]"
   ]
  },
  {
   "cell_type": "code",
   "execution_count": 26,
   "id": "617aaa7a",
   "metadata": {},
   "outputs": [
    {
     "data": {
      "text/plain": [
       "array([[ 9.16858695e-02+0.00000000e+00j, -3.65502080e-02+0.00000000e+00j,\n",
       "        -6.11027585e-03+0.00000000e+00j, ...,\n",
       "        -3.44129822e-19+1.16834212e-17j,  1.17770645e-17+0.00000000e+00j,\n",
       "         6.65088658e-19+0.00000000e+00j],\n",
       "       [ 7.19110700e-04+0.00000000e+00j, -5.66300113e-03+0.00000000e+00j,\n",
       "        -1.82799422e-02+0.00000000e+00j, ...,\n",
       "         5.90077389e-19+2.65045464e-19j, -2.51960350e-18+0.00000000e+00j,\n",
       "        -6.18742072e-19+0.00000000e+00j],\n",
       "       [ 7.22353453e-04+0.00000000e+00j, -5.95242324e-03+0.00000000e+00j,\n",
       "        -1.83760223e-02+0.00000000e+00j, ...,\n",
       "         8.29329671e-19-1.12630675e-18j,  7.20558871e-18+0.00000000e+00j,\n",
       "        -8.28014597e-19+0.00000000e+00j],\n",
       "       ...,\n",
       "       [ 2.38577743e-03+0.00000000e+00j, -2.88362699e-02+0.00000000e+00j,\n",
       "        -2.90681941e-03+0.00000000e+00j, ...,\n",
       "        -4.75968304e-18+2.77223077e-18j,  1.77597381e-18+0.00000000e+00j,\n",
       "         4.15964166e-19+0.00000000e+00j],\n",
       "       [ 2.53202004e-03+0.00000000e+00j, -3.47213013e-02+0.00000000e+00j,\n",
       "        -3.25214556e-03+0.00000000e+00j, ...,\n",
       "        -2.39402908e-18-1.74417763e-18j, -4.70805229e-18+0.00000000e+00j,\n",
       "         6.84762763e-19+0.00000000e+00j],\n",
       "       [ 6.37504877e-03+0.00000000e+00j, -1.18859584e-02+0.00000000e+00j,\n",
       "        -1.00418877e-02+0.00000000e+00j, ...,\n",
       "         1.27278351e-18-1.10622180e-18j,  2.09952121e-18+0.00000000e+00j,\n",
       "        -9.58939969e-20+0.00000000e+00j]])"
      ]
     },
     "execution_count": 26,
     "metadata": {},
     "output_type": "execute_result"
    }
   ],
   "source": [
    "#Combine two eigenvectors with the highest corresponding eigenvalues\n",
    "sortedv[0]+=sortedv[1]\n",
    "del sortedv[1]\n",
    "del sortedw[1]\n",
    "pca = np.array(sortedv[:k-1])\n",
    "pca"
   ]
  },
  {
   "cell_type": "code",
   "execution_count": 27,
   "id": "8ad065f7",
   "metadata": {},
   "outputs": [
    {
     "data": {
      "text/plain": [
       "(8, 6549)"
      ]
     },
     "execution_count": 27,
     "metadata": {},
     "output_type": "execute_result"
    }
   ],
   "source": [
    "pca.shape"
   ]
  },
  {
   "cell_type": "code",
   "execution_count": null,
   "id": "ed70ea03",
   "metadata": {},
   "outputs": [],
   "source": []
  }
 ],
 "metadata": {
  "kernelspec": {
   "display_name": "Python 3 (ipykernel)",
   "language": "python",
   "name": "python3"
  },
  "language_info": {
   "codemirror_mode": {
    "name": "ipython",
    "version": 3
   },
   "file_extension": ".py",
   "mimetype": "text/x-python",
   "name": "python",
   "nbconvert_exporter": "python",
   "pygments_lexer": "ipython3",
   "version": "3.9.13"
  }
 },
 "nbformat": 4,
 "nbformat_minor": 5
}
