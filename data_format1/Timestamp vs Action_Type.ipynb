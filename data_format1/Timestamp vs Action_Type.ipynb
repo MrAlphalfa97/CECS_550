{
 "cells": [
  {
   "cell_type": "code",
   "execution_count": 1,
   "id": "e3bd3c67",
   "metadata": {},
   "outputs": [],
   "source": [
    "#!pip install shap\n",
    "#!pip install sklearn\n",
    "import pandas as pd\n",
    "import numpy as np\n",
    "import shap\n",
    "import sklearn\n",
    "import seaborn as sn\n",
    "import matplotlib.pyplot as plt\n",
    "from numpy.linalg import eig"
   ]
  },
  {
   "cell_type": "code",
   "execution_count": 2,
   "id": "f55e426e",
   "metadata": {},
   "outputs": [
    {
     "data": {
      "text/html": [
       "<div>\n",
       "<style scoped>\n",
       "    .dataframe tbody tr th:only-of-type {\n",
       "        vertical-align: middle;\n",
       "    }\n",
       "\n",
       "    .dataframe tbody tr th {\n",
       "        vertical-align: top;\n",
       "    }\n",
       "\n",
       "    .dataframe thead th {\n",
       "        text-align: right;\n",
       "    }\n",
       "</style>\n",
       "<table border=\"1\" class=\"dataframe\">\n",
       "  <thead>\n",
       "    <tr style=\"text-align: right;\">\n",
       "      <th></th>\n",
       "      <th>user_id</th>\n",
       "      <th>item_id</th>\n",
       "      <th>cat_id</th>\n",
       "      <th>seller_id</th>\n",
       "      <th>brand_id</th>\n",
       "      <th>time_stamp</th>\n",
       "      <th>action_type</th>\n",
       "      <th>age_range</th>\n",
       "      <th>gender</th>\n",
       "    </tr>\n",
       "  </thead>\n",
       "  <tbody>\n",
       "    <tr>\n",
       "      <th>0</th>\n",
       "      <td>149002</td>\n",
       "      <td>282</td>\n",
       "      <td>885</td>\n",
       "      <td>3791</td>\n",
       "      <td>1500.0</td>\n",
       "      <td>1111</td>\n",
       "      <td>0</td>\n",
       "      <td>5.0</td>\n",
       "      <td>2.0</td>\n",
       "    </tr>\n",
       "    <tr>\n",
       "      <th>1</th>\n",
       "      <td>149002</td>\n",
       "      <td>282</td>\n",
       "      <td>885</td>\n",
       "      <td>3791</td>\n",
       "      <td>1500.0</td>\n",
       "      <td>1107</td>\n",
       "      <td>0</td>\n",
       "      <td>5.0</td>\n",
       "      <td>2.0</td>\n",
       "    </tr>\n",
       "    <tr>\n",
       "      <th>2</th>\n",
       "      <td>109881</td>\n",
       "      <td>230</td>\n",
       "      <td>629</td>\n",
       "      <td>1</td>\n",
       "      <td>1662.0</td>\n",
       "      <td>820</td>\n",
       "      <td>0</td>\n",
       "      <td>4.0</td>\n",
       "      <td>0.0</td>\n",
       "    </tr>\n",
       "    <tr>\n",
       "      <th>3</th>\n",
       "      <td>109881</td>\n",
       "      <td>230</td>\n",
       "      <td>629</td>\n",
       "      <td>1</td>\n",
       "      <td>1662.0</td>\n",
       "      <td>820</td>\n",
       "      <td>0</td>\n",
       "      <td>4.0</td>\n",
       "      <td>0.0</td>\n",
       "    </tr>\n",
       "    <tr>\n",
       "      <th>4</th>\n",
       "      <td>109881</td>\n",
       "      <td>230</td>\n",
       "      <td>629</td>\n",
       "      <td>1</td>\n",
       "      <td>1662.0</td>\n",
       "      <td>820</td>\n",
       "      <td>0</td>\n",
       "      <td>4.0</td>\n",
       "      <td>0.0</td>\n",
       "    </tr>\n",
       "    <tr>\n",
       "      <th>...</th>\n",
       "      <td>...</td>\n",
       "      <td>...</td>\n",
       "      <td>...</td>\n",
       "      <td>...</td>\n",
       "      <td>...</td>\n",
       "      <td>...</td>\n",
       "      <td>...</td>\n",
       "      <td>...</td>\n",
       "      <td>...</td>\n",
       "    </tr>\n",
       "    <tr>\n",
       "      <th>6544</th>\n",
       "      <td>73105</td>\n",
       "      <td>259</td>\n",
       "      <td>614</td>\n",
       "      <td>637</td>\n",
       "      <td>2603.0</td>\n",
       "      <td>1111</td>\n",
       "      <td>0</td>\n",
       "      <td>2.0</td>\n",
       "      <td>0.0</td>\n",
       "    </tr>\n",
       "    <tr>\n",
       "      <th>6545</th>\n",
       "      <td>403421</td>\n",
       "      <td>175</td>\n",
       "      <td>1181</td>\n",
       "      <td>4760</td>\n",
       "      <td>247.0</td>\n",
       "      <td>1111</td>\n",
       "      <td>0</td>\n",
       "      <td>3.0</td>\n",
       "      <td>1.0</td>\n",
       "    </tr>\n",
       "    <tr>\n",
       "      <th>6546</th>\n",
       "      <td>116738</td>\n",
       "      <td>186</td>\n",
       "      <td>267</td>\n",
       "      <td>1200</td>\n",
       "      <td>2276.0</td>\n",
       "      <td>1110</td>\n",
       "      <td>0</td>\n",
       "      <td>2.0</td>\n",
       "      <td>1.0</td>\n",
       "    </tr>\n",
       "    <tr>\n",
       "      <th>6547</th>\n",
       "      <td>116738</td>\n",
       "      <td>186</td>\n",
       "      <td>267</td>\n",
       "      <td>1200</td>\n",
       "      <td>2276.0</td>\n",
       "      <td>1101</td>\n",
       "      <td>0</td>\n",
       "      <td>2.0</td>\n",
       "      <td>1.0</td>\n",
       "    </tr>\n",
       "    <tr>\n",
       "      <th>6548</th>\n",
       "      <td>124951</td>\n",
       "      <td>184</td>\n",
       "      <td>656</td>\n",
       "      <td>145</td>\n",
       "      <td>3462.0</td>\n",
       "      <td>1111</td>\n",
       "      <td>0</td>\n",
       "      <td>0.0</td>\n",
       "      <td>0.0</td>\n",
       "    </tr>\n",
       "  </tbody>\n",
       "</table>\n",
       "<p>6549 rows × 9 columns</p>\n",
       "</div>"
      ],
      "text/plain": [
       "      user_id  item_id  cat_id  seller_id  brand_id  time_stamp  action_type  \\\n",
       "0      149002      282     885       3791    1500.0        1111            0   \n",
       "1      149002      282     885       3791    1500.0        1107            0   \n",
       "2      109881      230     629          1    1662.0         820            0   \n",
       "3      109881      230     629          1    1662.0         820            0   \n",
       "4      109881      230     629          1    1662.0         820            0   \n",
       "...       ...      ...     ...        ...       ...         ...          ...   \n",
       "6544    73105      259     614        637    2603.0        1111            0   \n",
       "6545   403421      175    1181       4760     247.0        1111            0   \n",
       "6546   116738      186     267       1200    2276.0        1110            0   \n",
       "6547   116738      186     267       1200    2276.0        1101            0   \n",
       "6548   124951      184     656        145    3462.0        1111            0   \n",
       "\n",
       "      age_range  gender  \n",
       "0           5.0     2.0  \n",
       "1           5.0     2.0  \n",
       "2           4.0     0.0  \n",
       "3           4.0     0.0  \n",
       "4           4.0     0.0  \n",
       "...         ...     ...  \n",
       "6544        2.0     0.0  \n",
       "6545        3.0     1.0  \n",
       "6546        2.0     1.0  \n",
       "6547        2.0     1.0  \n",
       "6548        0.0     0.0  \n",
       "\n",
       "[6549 rows x 9 columns]"
      ]
     },
     "execution_count": 2,
     "metadata": {},
     "output_type": "execute_result"
    }
   ],
   "source": [
    "df = pd.read_csv(\"use_data/merged_dataset.csv\")\n",
    "df"
   ]
  },
  {
   "cell_type": "code",
   "execution_count": 3,
   "id": "633225c4",
   "metadata": {},
   "outputs": [
    {
     "data": {
      "text/html": [
       "<div>\n",
       "<style scoped>\n",
       "    .dataframe tbody tr th:only-of-type {\n",
       "        vertical-align: middle;\n",
       "    }\n",
       "\n",
       "    .dataframe tbody tr th {\n",
       "        vertical-align: top;\n",
       "    }\n",
       "\n",
       "    .dataframe thead th {\n",
       "        text-align: right;\n",
       "    }\n",
       "</style>\n",
       "<table border=\"1\" class=\"dataframe\">\n",
       "  <thead>\n",
       "    <tr style=\"text-align: right;\">\n",
       "      <th></th>\n",
       "      <th>time_stamp</th>\n",
       "      <th>action_type</th>\n",
       "    </tr>\n",
       "  </thead>\n",
       "  <tbody>\n",
       "    <tr>\n",
       "      <th>0</th>\n",
       "      <td>1111</td>\n",
       "      <td>0</td>\n",
       "    </tr>\n",
       "    <tr>\n",
       "      <th>1</th>\n",
       "      <td>1107</td>\n",
       "      <td>0</td>\n",
       "    </tr>\n",
       "    <tr>\n",
       "      <th>2</th>\n",
       "      <td>820</td>\n",
       "      <td>0</td>\n",
       "    </tr>\n",
       "    <tr>\n",
       "      <th>3</th>\n",
       "      <td>820</td>\n",
       "      <td>0</td>\n",
       "    </tr>\n",
       "    <tr>\n",
       "      <th>4</th>\n",
       "      <td>820</td>\n",
       "      <td>0</td>\n",
       "    </tr>\n",
       "    <tr>\n",
       "      <th>...</th>\n",
       "      <td>...</td>\n",
       "      <td>...</td>\n",
       "    </tr>\n",
       "    <tr>\n",
       "      <th>6544</th>\n",
       "      <td>1111</td>\n",
       "      <td>0</td>\n",
       "    </tr>\n",
       "    <tr>\n",
       "      <th>6545</th>\n",
       "      <td>1111</td>\n",
       "      <td>0</td>\n",
       "    </tr>\n",
       "    <tr>\n",
       "      <th>6546</th>\n",
       "      <td>1110</td>\n",
       "      <td>0</td>\n",
       "    </tr>\n",
       "    <tr>\n",
       "      <th>6547</th>\n",
       "      <td>1101</td>\n",
       "      <td>0</td>\n",
       "    </tr>\n",
       "    <tr>\n",
       "      <th>6548</th>\n",
       "      <td>1111</td>\n",
       "      <td>0</td>\n",
       "    </tr>\n",
       "  </tbody>\n",
       "</table>\n",
       "<p>6549 rows × 2 columns</p>\n",
       "</div>"
      ],
      "text/plain": [
       "      time_stamp  action_type\n",
       "0           1111            0\n",
       "1           1107            0\n",
       "2            820            0\n",
       "3            820            0\n",
       "4            820            0\n",
       "...          ...          ...\n",
       "6544        1111            0\n",
       "6545        1111            0\n",
       "6546        1110            0\n",
       "6547        1101            0\n",
       "6548        1111            0\n",
       "\n",
       "[6549 rows x 2 columns]"
      ]
     },
     "execution_count": 3,
     "metadata": {},
     "output_type": "execute_result"
    }
   ],
   "source": [
    "df = df.drop('brand_id', axis=1)\n",
    "df = df.drop('age_range', axis=1)\n",
    "df = df.drop('gender', axis=1)\n",
    "#Split between IDs and Data\n",
    "df_ids = df.iloc[:, :4]\n",
    "df_vals = df.iloc[:, 4:]\n",
    "df_vals"
   ]
  },
  {
   "cell_type": "code",
   "execution_count": 4,
   "id": "8c48a38d",
   "metadata": {},
   "outputs": [
    {
     "data": {
      "text/plain": [
       "<AxesSubplot:xlabel='time_stamp', ylabel='action_type'>"
      ]
     },
     "execution_count": 4,
     "metadata": {},
     "output_type": "execute_result"
    },
    {
     "data": {
      "image/png": "[encoded data removed]",
      "text/plain": [
       "<Figure size 640x480 with 1 Axes>"
      ]
     },
     "metadata": {},
     "output_type": "display_data"
    }
   ],
   "source": [
    "df_vals.plot(kind = 'scatter', x = 'time_stamp', y = 'action_type')"
   ]
  },
  {
   "cell_type": "code",
   "execution_count": 5,
   "id": "ed70ea03",
   "metadata": {
    "scrolled": false
   },
   "outputs": [
    {
     "data": {
      "text/plain": [
       "<AxesSubplot:ylabel='Frequency'>"
      ]
     },
     "execution_count": 5,
     "metadata": {},
     "output_type": "execute_result"
    },
    {
     "data": {
      "image/png": "[encoded data removed]",
      "text/plain": [
       "<Figure size 640x480 with 1 Axes>"
      ]
     },
     "metadata": {},
     "output_type": "display_data"
    }
   ],
   "source": [
    "df_vals['time_stamp'].plot(kind=\"hist\")"
   ]
  },
  {
   "cell_type": "code",
   "execution_count": 6,
   "id": "cda5a89d",
   "metadata": {},
   "outputs": [
    {
     "data": {
      "text/plain": [
       "<AxesSubplot:ylabel='Frequency'>"
      ]
     },
     "execution_count": 6,
     "metadata": {},
     "output_type": "execute_result"
    },
    {
     "data": {
      "image/png": "[encoded data removed]",
      "text/plain": [
       "<Figure size 640x480 with 1 Axes>"
      ]
     },
     "metadata": {},
     "output_type": "display_data"
    }
   ],
   "source": [
    "df_vals['action_type'].plot(kind=\"hist\")"
   ]
  },
  {
   "cell_type": "code",
   "execution_count": null,
   "id": "14c9e920",
   "metadata": {},
   "outputs": [],
   "source": []
  }
 ],
 "metadata": {
  "kernelspec": {
   "display_name": "Python 3 (ipykernel)",
   "language": "python",
   "name": "python3"
  },
  "language_info": {
   "codemirror_mode": {
    "name": "ipython",
    "version": 3
   },
   "file_extension": ".py",
   "mimetype": "text/x-python",
   "name": "python",
   "nbconvert_exporter": "python",
   "pygments_lexer": "ipython3",
   "version": "3.9.13"
  }
 },
 "nbformat": 4,
 "nbformat_minor": 5
}
